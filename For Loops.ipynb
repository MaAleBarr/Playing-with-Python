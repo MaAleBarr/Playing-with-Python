{
 "metadata": {
  "name": "",
  "signature": "sha256:5e24ae4abc055f1d08008a21b98b94d5780f5413a41b500deb1e3c7a80df88df"
 },
 "nbformat": 3,
 "nbformat_minor": 0,
 "worksheets": [
  {
   "cells": [
    {
     "cell_type": "markdown",
     "metadata": {},
     "source": [
      "  # Python for Data Science Bootcamp\n",
      "  ## For Loops"
     ]
    },
    {
     "cell_type": "markdown",
     "metadata": {},
     "source": [
      "Create a for loop"
     ]
    },
    {
     "cell_type": "code",
     "collapsed": false,
     "input": [
      "n=range(10)\n",
      "for i in n:\n",
      "    print i"
     ],
     "language": "python",
     "metadata": {},
     "outputs": [
      {
       "output_type": "stream",
       "stream": "stdout",
       "text": [
        "0\n",
        "1\n",
        "2\n",
        "3\n",
        "4\n",
        "5\n",
        "6\n",
        "7\n",
        "8\n",
        "9\n"
       ]
      }
     ],
     "prompt_number": 10
    },
    {
     "cell_type": "code",
     "collapsed": false,
     "input": [
      "for i in range(2,20,2):\n",
      "    print i\n",
      "    "
     ],
     "language": "python",
     "metadata": {},
     "outputs": [
      {
       "output_type": "stream",
       "stream": "stdout",
       "text": [
        "2\n",
        "4\n",
        "6\n",
        "8\n",
        "10\n",
        "12\n",
        "14\n",
        "16\n",
        "18\n"
       ]
      }
     ],
     "prompt_number": 69
    },
    {
     "cell_type": "markdown",
     "metadata": {},
     "source": [
      "Create a for loop with range"
     ]
    },
    {
     "cell_type": "code",
     "collapsed": false,
     "input": [
      "for i in range(5):\n",
      "    print i**2"
     ],
     "language": "python",
     "metadata": {},
     "outputs": [
      {
       "output_type": "stream",
       "stream": "stdout",
       "text": [
        "0\n",
        "1\n",
        "4\n",
        "9\n",
        "16\n"
       ]
      }
     ],
     "prompt_number": 11
    },
    {
     "cell_type": "markdown",
     "metadata": {},
     "source": [
      "Create for loop with multiple variables"
     ]
    },
    {
     "cell_type": "code",
     "collapsed": false,
     "input": [
      "for x,y in [[1,4],[2,5],[3,6]]:\n",
      "    print x*y"
     ],
     "language": "python",
     "metadata": {},
     "outputs": [
      {
       "output_type": "stream",
       "stream": "stdout",
       "text": [
        "4\n",
        "10\n",
        "18\n"
       ]
      }
     ],
     "prompt_number": 12
    },
    {
     "cell_type": "markdown",
     "metadata": {},
     "source": [
      "Create for loop with zip"
     ]
    },
    {
     "cell_type": "code",
     "collapsed": false,
     "input": [
      "for x,y in zip([1,2,3], [\"a\",\"b\",\"c\"]):\n",
      "    print x*y"
     ],
     "language": "python",
     "metadata": {},
     "outputs": [
      {
       "output_type": "stream",
       "stream": "stdout",
       "text": [
        "a\n",
        "bb\n",
        "ccc\n"
       ]
      }
     ],
     "prompt_number": 19
    },
    {
     "cell_type": "code",
     "collapsed": false,
     "input": [
      "for x,y in zip([1,2,3], [\"a\",\"b\",\"c\"]):\n",
      "    print x,y"
     ],
     "language": "python",
     "metadata": {},
     "outputs": [
      {
       "output_type": "stream",
       "stream": "stdout",
       "text": [
        "1 a\n",
        "2 b\n",
        "3 c\n"
       ]
      }
     ],
     "prompt_number": 20
    },
    {
     "cell_type": "markdown",
     "metadata": {},
     "source": [
      "Calculate total sales"
     ]
    },
    {
     "cell_type": "code",
     "collapsed": false,
     "input": [
      "total_sales=0.0\n",
      "\n",
      "for units,price in zip([8,5,12],[2.99,9.99, 5.49]):\n",
      "    total_sales+=units*price\n",
      "    print total_sales"
     ],
     "language": "python",
     "metadata": {},
     "outputs": [
      {
       "output_type": "stream",
       "stream": "stdout",
       "text": [
        "23.92\n",
        "73.87\n",
        "139.75\n"
       ]
      }
     ],
     "prompt_number": 21
    },
    {
     "cell_type": "raw",
     "metadata": {},
     "source": [
      "print 2"
     ]
    },
    {
     "cell_type": "code",
     "collapsed": false,
     "input": [
      "print zip([8,5,12],[2.99,9.99, 5.49])"
     ],
     "language": "python",
     "metadata": {},
     "outputs": [
      {
       "output_type": "stream",
       "stream": "stdout",
       "text": [
        "[(8, 2.99), (5, 9.99), (12, 5.49)]\n"
       ]
      }
     ],
     "prompt_number": 22
    },
    {
     "cell_type": "raw",
     "metadata": {},
     "source": []
    },
    {
     "cell_type": "code",
     "collapsed": false,
     "input": [
      "# no da error, solo combina up to \"lowest\" denominator\n",
      "print zip([1,2,3,4,5],[\"a\",\"b\",\"c\"])"
     ],
     "language": "python",
     "metadata": {},
     "outputs": [
      {
       "output_type": "stream",
       "stream": "stdout",
       "text": [
        "[(1, 'a'), (2, 'b'), (3, 'c')]\n"
       ]
      }
     ],
     "prompt_number": 71
    },
    {
     "cell_type": "markdown",
     "metadata": {},
     "source": [
      "### Exercise\n",
      "- Update your function to accept a list of Celsius temperatures and return a list of Fahrenheit temperatures\n",
      "- Add error handling if a string is provided in the list instead of a number"
     ]
    },
    {
     "cell_type": "code",
     "collapsed": false,
     "input": [
      "def CelsiusToFahrenheitLs(x):\n",
      "    Flist=[]\n",
      "    for i in x:\n",
      "        if type(i) == str or type(i) == bool:\n",
      "            Flist.append(\"n/a\")\n",
      "            #return \"{x} is invalid data input\".format(x=x)\n",
      "        else: \n",
      "            value = i*(9/5.)+32\n",
      "            Flist.append(value)\n",
      "            #return \"Celsius is {x:.2f} C, Fahrehnheit value is {value:.2f}F\".format(x=x,value=value)\n",
      "    return Flist       "
     ],
     "language": "python",
     "metadata": {},
     "outputs": [],
     "prompt_number": 47
    },
    {
     "cell_type": "code",
     "collapsed": false,
     "input": [
      "DegCelsiusLs=[100,0, 200]\n",
      "CelsiusToFahrenheitLs(DegCelsiusLs)"
     ],
     "language": "python",
     "metadata": {},
     "outputs": [
      {
       "metadata": {},
       "output_type": "pyout",
       "prompt_number": 48,
       "text": [
        "[212.0, 32.0, 392.0]"
       ]
      }
     ],
     "prompt_number": 48
    },
    {
     "cell_type": "code",
     "collapsed": false,
     "input": [
      "DegCelsiusLs=[100,\"Hola!\", 200, False]\n",
      "CelsiusToFahrenheitLs(DegCelsiusLs)"
     ],
     "language": "python",
     "metadata": {},
     "outputs": [
      {
       "metadata": {},
       "output_type": "pyout",
       "prompt_number": 42,
       "text": [
        "[212.0, 'n/a', 392.0, 'n/a']"
       ]
      }
     ],
     "prompt_number": 42
    },
    {
     "cell_type": "markdown",
     "metadata": {},
     "source": [
      "### Bonus:\n",
      "- Create separate functions for calculating the temperature conversions (e.g., F to C and C to F) \n",
      "- Build a new function that uses the two functions you created and can accept a list of F or a list of C temperatures and then make the appropriate conversions "
     ]
    },
    {
     "cell_type": "code",
     "collapsed": false,
     "input": [
      "# function to convert a list of C temps to F temps ----------\n",
      "def CelsiusToFahrenheitLs(x):\n",
      "    Flist=[]\n",
      "    for i in x:\n",
      "        if type(i) == str or type(i) == bool:\n",
      "            Flist.append(\"n/a\")\n",
      "            #return \"{x} is invalid data input\".format(x=x)\n",
      "        else: \n",
      "            value = i*(9/5.)+32\n",
      "            Flist.append(value)\n",
      "            #return \"Celsius is {x:.2f} C, Fahrehnheit value is {value:.2f}F\".format(x=x,value=value)\n",
      "    return Flist \n",
      "\n",
      "# function to convert a list of F temps to C temps ---------\n",
      "def FahrenheitToCelsiusLs(x):\n",
      "    Clist=[]\n",
      "    for i in x:\n",
      "        if type(i) == str or type(i) == bool:\n",
      "            Clist.append(\"n/a\")\n",
      "            #return \"{x} is invalid data input\".format(x=x)\n",
      "        else: \n",
      "            value = (i-32)*(5./9)\n",
      "            Clist.append(value)\n",
      "            #return \"Celsius is {x:.2f} C, Fahrehnheit value is {value:.2f}F\".format(x=x,value=value)\n",
      "    return Clist\n",
      "\n",
      "# ------- combine both functions  -------- \n",
      "def TempConverterLs(Temps,unit):\n",
      "    if unit == 'C' or unit == 'c':\n",
      "        print \"Converting celsius to fahrenheit\"\n",
      "        newTemp=CelsiusToFahrenheitLs(Temps)\n",
      "    elif unit == 'F' or unit == 'f':\n",
      "        print \"Converting fahrenheit to celsius\"\n",
      "        newTemp=FahrenheitToCelsiusLs(Temps)\n",
      "    else:\n",
      "        print \"Invalid input temperature units, please choose 'C' or 'F'\"\n",
      "    return newTemp"
     ],
     "language": "python",
     "metadata": {},
     "outputs": [],
     "prompt_number": 66
    },
    {
     "cell_type": "code",
     "collapsed": false,
     "input": [
      "Te=[-5,0,100,\"epa\", 59]\n",
      "TempConverterLs(Te,'C')"
     ],
     "language": "python",
     "metadata": {},
     "outputs": [
      {
       "output_type": "stream",
       "stream": "stdout",
       "text": [
        "Converting celsius to fahrenheit\n"
       ]
      },
      {
       "metadata": {},
       "output_type": "pyout",
       "prompt_number": 67,
       "text": [
        "[23.0, 32.0, 212.0, 'n/a', 138.2]"
       ]
      }
     ],
     "prompt_number": 67
    },
    {
     "cell_type": "code",
     "collapsed": false,
     "input": [
      "FahrenheitToCelsiusLs([32, 100,\"test\", 49])"
     ],
     "language": "python",
     "metadata": {},
     "outputs": [
      {
       "metadata": {},
       "output_type": "pyout",
       "prompt_number": 56,
       "text": [
        "[0.0, 37.77777777777778, 'n/a', 9.444444444444445]"
       ]
      }
     ],
     "prompt_number": 56
    },
    {
     "cell_type": "code",
     "collapsed": false,
     "input": [
      "CelsiusToFahrenheitLs([-5,0,100,\"blah\"])"
     ],
     "language": "python",
     "metadata": {},
     "outputs": [
      {
       "metadata": {},
       "output_type": "pyout",
       "prompt_number": 55,
       "text": [
        "[23.0, 32.0, 212.0, 'n/a']"
       ]
      }
     ],
     "prompt_number": 55
    },
    {
     "cell_type": "code",
     "collapsed": false,
     "input": [
      "ls=[1,2,2]\n",
      "\n",
      "print 1 not in ls"
     ],
     "language": "python",
     "metadata": {},
     "outputs": [
      {
       "output_type": "stream",
       "stream": "stdout",
       "text": [
        "False\n"
       ]
      }
     ],
     "prompt_number": 136
    },
    {
     "cell_type": "code",
     "collapsed": false,
     "input": [
      "# ----- return only numbers that are prime ----\n",
      "# a prime number is a number only divisable by itself\n",
      "\n",
      "# determine if number is prime\n",
      "def IsPrime(x):\n",
      "    Prime=[]\n",
      "    for i in x:\n",
      "        if type(i) in [int, float]:\n",
      "            # test for numbers up to the sqrt of the number\n",
      "            upper=(i**(1/2.))+1\n",
      "            # make integer list from 2 to Sqrt(number) to test if \n",
      "            # number is divisible by any of these \n",
      "            testDiv=range(2,int(upper),1)\n",
      "            Result=[]\n",
      "            # find remainder\n",
      "            # this is prob ok is not a HUGE number...\n",
      "            # can probably optimize by only dividing by primes\n",
      "            for test in testDiv:\n",
      "                remainder=i%test\n",
      "                Result.append(remainder)\n",
      "            # if no entry in result eq 0, then number is prime!\n",
      "            # append to list of prime numbers\n",
      "            if 0 not in Result:\n",
      "                Prime.append(i)\n",
      "                             \n",
      "    return Prime"
     ],
     "language": "python",
     "metadata": {},
     "outputs": [],
     "prompt_number": 145
    },
    {
     "cell_type": "code",
     "collapsed": false,
     "input": [
      "nums=[0,6,7,27,30, 100,31, 33,103]\n",
      "IsPrime(nums)"
     ],
     "language": "python",
     "metadata": {},
     "outputs": [
      {
       "metadata": {},
       "output_type": "pyout",
       "prompt_number": 151,
       "text": [
        "[0, 7, 31, 103]"
       ]
      }
     ],
     "prompt_number": 151
    },
    {
     "cell_type": "code",
     "collapsed": false,
     "input": [
      "ls=[1,2,3.]\n",
      "print ls/2."
     ],
     "language": "python",
     "metadata": {},
     "outputs": [
      {
       "ename": "TypeError",
       "evalue": "unsupported operand type(s) for /: 'list' and 'float'",
       "output_type": "pyerr",
       "traceback": [
        "\u001b[0;31m---------------------------------------------------------------------------\u001b[0m\n\u001b[0;31mTypeError\u001b[0m                                 Traceback (most recent call last)",
        "\u001b[0;32m<ipython-input-2-e9d882579485>\u001b[0m in \u001b[0;36m<module>\u001b[0;34m()\u001b[0m\n\u001b[1;32m      1\u001b[0m \u001b[0mls\u001b[0m\u001b[0;34m=\u001b[0m\u001b[0;34m[\u001b[0m\u001b[0;36m1\u001b[0m\u001b[0;34m,\u001b[0m\u001b[0;36m2\u001b[0m\u001b[0;34m,\u001b[0m\u001b[0;36m3.\u001b[0m\u001b[0;34m]\u001b[0m\u001b[0;34m\u001b[0m\u001b[0m\n\u001b[0;32m----> 2\u001b[0;31m \u001b[0;32mprint\u001b[0m \u001b[0mls\u001b[0m\u001b[0;34m/\u001b[0m\u001b[0;36m2.\u001b[0m\u001b[0;34m\u001b[0m\u001b[0m\n\u001b[0m",
        "\u001b[0;31mTypeError\u001b[0m: unsupported operand type(s) for /: 'list' and 'float'"
       ]
      }
     ],
     "prompt_number": 2
    },
    {
     "cell_type": "code",
     "collapsed": false,
     "input": [],
     "language": "python",
     "metadata": {},
     "outputs": []
    }
   ],
   "metadata": {}
  }
 ]
}
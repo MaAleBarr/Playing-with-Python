{
 "metadata": {
  "name": "",
  "signature": "sha256:90b433f3195647ffb1be324fff17a2a107cc21d1872499182c1789518b29e52f"
 },
 "nbformat": 3,
 "nbformat_minor": 0,
 "worksheets": [
  {
   "cells": [
    {
     "cell_type": "markdown",
     "metadata": {},
     "source": [
      "  # Python for Data Science Bootcamp\n",
      "  ## If Statements"
     ]
    },
    {
     "cell_type": "markdown",
     "metadata": {},
     "source": [
      "Simple If Statement"
     ]
    },
    {
     "cell_type": "code",
     "collapsed": false,
     "input": [
      "x=3\n",
      "if x>0:\n",
      "    print x"
     ],
     "language": "python",
     "metadata": {},
     "outputs": [
      {
       "output_type": "stream",
       "stream": "stdout",
       "text": [
        "3\n"
       ]
      }
     ],
     "prompt_number": 1
    },
    {
     "cell_type": "markdown",
     "metadata": {},
     "source": [
      "Else If Statement"
     ]
    },
    {
     "cell_type": "code",
     "collapsed": false,
     "input": [
      "x=3\n",
      "if x > 0:\n",
      "    print \"{} is a positive number\".format(x)\n",
      "elif x < 0:\n",
      "    print \"{} is a negative number\".format(x)\n",
      "else:\n",
      "    print \"x equals 0\""
     ],
     "language": "python",
     "metadata": {},
     "outputs": [
      {
       "output_type": "stream",
       "stream": "stdout",
       "text": [
        "3 is a positive number\n"
       ]
      }
     ],
     "prompt_number": 4
    },
    {
     "cell_type": "markdown",
     "metadata": {},
     "source": [
      "## Exercise: Update your function to handle errors and convert Fahrenheit to Celsius"
     ]
    },
    {
     "cell_type": "markdown",
     "metadata": {},
     "source": [
      "#### Update your function to return an error message if a string is entered instead of a number\u2028",
      "\n",
      "(hint: use type() )"
     ]
    },
    {
     "cell_type": "code",
     "collapsed": false,
     "input": [
      "def CelsiusToFahrenheit(x):\n",
      "    if type(x) == str or type(x) == bool:\n",
      "        return \"{x} is invalid data input\".format(x=x)\n",
      "    else:\n",
      "        value = x*(9/5.)+32\n",
      "        return \"Celsius is {x:.2f} C, Fahrehnheit value is {value:.2f} F\".format(x=x,value=value)"
     ],
     "language": "python",
     "metadata": {},
     "outputs": [],
     "prompt_number": 5
    },
    {
     "cell_type": "markdown",
     "metadata": {},
     "source": [
      "#### Bonus: Add functionality to also convert Fahrenheit to Celsius\u2028",
      "\n",
      "(hint: use a second input for temperature type) "
     ]
    },
    {
     "cell_type": "code",
     "collapsed": false,
     "input": [
      "def TempConverter(x,units):\n",
      "    if type(x)== str or type(x) == bool:\n",
      "        return \"{x} is invalid data input.\".format(x=x)\n",
      "    else:\n",
      "        if units == 'C':\n",
      "            value = x *(9/5.)+ 32\n",
      "            return \"{x:.2f} celcius, is equal to {value:.2f} fahrenheit\".format(x=x,value=value)\n",
      "        elif units == 'F':\n",
      "            value = (x-32)*(5./9)\n",
      "            return \"{x:.2f} fahrenheit, is equal to {value:.2f} celcius\".format(x=x, value=value)\n",
      "        else:\n",
      "            return \"{units} is an invalid unit input, choose 'F' or 'C' \".format(units=units)"
     ],
     "language": "python",
     "metadata": {},
     "outputs": [],
     "prompt_number": 14
    },
    {
     "cell_type": "code",
     "collapsed": false,
     "input": [
      "TempConverter(0,'C')"
     ],
     "language": "python",
     "metadata": {},
     "outputs": [
      {
       "metadata": {},
       "output_type": "pyout",
       "prompt_number": 10,
       "text": [
        "'0.00 celcius, is equal to 32.00 fahrenheit'"
       ]
      }
     ],
     "prompt_number": 10
    },
    {
     "cell_type": "code",
     "collapsed": false,
     "input": [
      "TempConverter(32,'F')"
     ],
     "language": "python",
     "metadata": {},
     "outputs": [
      {
       "metadata": {},
       "output_type": "pyout",
       "prompt_number": 16,
       "text": [
        "'32.00 fahrenheit, is equal to 0.00celcius'"
       ]
      }
     ],
     "prompt_number": 16
    },
    {
     "cell_type": "code",
     "collapsed": false,
     "input": [],
     "language": "python",
     "metadata": {},
     "outputs": []
    }
   ],
   "metadata": {}
  }
 ]
}
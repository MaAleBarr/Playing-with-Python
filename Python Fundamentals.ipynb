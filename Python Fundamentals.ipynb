{
 "metadata": {
  "name": "",
  "signature": "sha256:c7b3b50e3c524c13e6804cb53bdd66d7329c017b7c0f251520e75ca7cd508053"
 },
 "nbformat": 3,
 "nbformat_minor": 0,
 "worksheets": [
  {
   "cells": [
    {
     "cell_type": "markdown",
     "metadata": {},
     "source": [
      "  # Python for Data Science Bootcamp\n",
      "  ## Python Fundamentals"
     ]
    },
    {
     "cell_type": "markdown",
     "metadata": {},
     "source": [
      "### iPython Notebook Magic\n",
      "\n",
      "#### Short cut keys:"
     ]
    },
    {
     "cell_type": "markdown",
     "metadata": {},
     "source": [
      "-  comment out a line of code = command + /\n",
      "-  run block of code = shift + enter\n",
      "-  autocomplete text = tab\n",
      "-  help for function = shift + tab\n",
      "-  view shortcut menu - esc then h"
     ]
    },
    {
     "cell_type": "markdown",
     "metadata": {},
     "source": [
      "#### Web based viewer for ipython notebooks\n",
      "http://nbviewer.ipython.org/"
     ]
    },
    {
     "cell_type": "markdown",
     "metadata": {},
     "source": [
      "### Write your first python program"
     ]
    },
    {
     "cell_type": "code",
     "collapsed": false,
     "input": [
      "print \"Hello Data Science\""
     ],
     "language": "python",
     "metadata": {},
     "outputs": [
      {
       "output_type": "stream",
       "stream": "stdout",
       "text": [
        "Hello Data Science\n"
       ]
      }
     ],
     "prompt_number": 1
    },
    {
     "cell_type": "markdown",
     "metadata": {},
     "source": [
      "### Numbers in python:\n",
      "\n",
      "Numeric types: ***int, float,*** and ***bool***."
     ]
    },
    {
     "cell_type": "code",
     "collapsed": false,
     "input": [
      "print type(1)\n",
      "print type (1.2)\n",
      "print type(\"True\")\n",
      "print type(True)"
     ],
     "language": "python",
     "metadata": {},
     "outputs": [
      {
       "output_type": "stream",
       "stream": "stdout",
       "text": [
        "<type 'int'>\n",
        "<type 'float'>\n",
        "<type 'str'>\n",
        "<type 'bool'>\n"
       ]
      }
     ],
     "prompt_number": 4
    },
    {
     "cell_type": "code",
     "collapsed": false,
     "input": [],
     "language": "python",
     "metadata": {},
     "outputs": [],
     "prompt_number": 0
    },
    {
     "cell_type": "code",
     "collapsed": false,
     "input": [],
     "language": "python",
     "metadata": {},
     "outputs": [],
     "prompt_number": 0
    },
    {
     "cell_type": "code",
     "collapsed": false,
     "input": [],
     "language": "python",
     "metadata": {},
     "outputs": [],
     "prompt_number": 0
    },
    {
     "cell_type": "markdown",
     "metadata": {},
     "source": [
      "### String Insertion\n",
      "Basic string insertions"
     ]
    },
    {
     "cell_type": "code",
     "collapsed": false,
     "input": [
      "\"Bunch of text {}\".format(\"Craig\")"
     ],
     "language": "python",
     "metadata": {},
     "outputs": [
      {
       "metadata": {},
       "output_type": "pyout",
       "prompt_number": 5,
       "text": [
        "'Bunch of text Craig'"
       ]
      }
     ],
     "prompt_number": 5
    },
    {
     "cell_type": "code",
     "collapsed": false,
     "input": [
      "names=[2, 3.4]\n",
      "\"{0} is in {1}\".format(names[0], names[1])"
     ],
     "language": "python",
     "metadata": {},
     "outputs": [
      {
       "metadata": {},
       "output_type": "pyout",
       "prompt_number": 43,
       "text": [
        "'2 is in 3.4'"
       ]
      }
     ],
     "prompt_number": 43
    },
    {
     "cell_type": "code",
     "collapsed": false,
     "input": [
      "d=45\n",
      "\n",
      "print \"This is test case {}\".format(d)"
     ],
     "language": "python",
     "metadata": {},
     "outputs": [
      {
       "output_type": "stream",
       "stream": "stdout",
       "text": [
        "This is test case 45\n"
       ]
      }
     ],
     "prompt_number": 67
    },
    {
     "cell_type": "code",
     "collapsed": false,
     "input": [
      "d=45\n",
      "ee=\"Hola\"\n",
      "print \"{} This is test case {}\".format(ee,d)"
     ],
     "language": "python",
     "metadata": {},
     "outputs": [
      {
       "output_type": "stream",
       "stream": "stdout",
       "text": [
        "Hola This is test case 45\n"
       ]
      }
     ],
     "prompt_number": 68
    },
    {
     "cell_type": "markdown",
     "metadata": {},
     "source": [
      "You can insert multiple values into strings but requires labels"
     ]
    },
    {
     "cell_type": "code",
     "collapsed": false,
     "input": [
      "names=[\"Bogota\", \"Colombia\"]\n",
      "\"{0} is in {1}\".format(names[0], names[1])"
     ],
     "language": "python",
     "metadata": {},
     "outputs": [
      {
       "metadata": {},
       "output_type": "pyout",
       "prompt_number": 6,
       "text": [
        "'Bogota is in Colombia'"
       ]
      }
     ],
     "prompt_number": 6
    },
    {
     "cell_type": "markdown",
     "metadata": {},
     "source": [
      "Try reversing order of the variables name and place.|"
     ]
    },
    {
     "cell_type": "code",
     "collapsed": false,
     "input": [
      "\"{0} is in {1}\".format(names[1], names[0])"
     ],
     "language": "python",
     "metadata": {},
     "outputs": [
      {
       "metadata": {},
       "output_type": "pyout",
       "prompt_number": 7,
       "text": [
        "'Colombia is in Bogota'"
       ]
      }
     ],
     "prompt_number": 7
    },
    {
     "cell_type": "markdown",
     "metadata": {},
     "source": [
      "Try using names in brackets"
     ]
    },
    {
     "cell_type": "code",
     "collapsed": false,
     "input": [
      "\"{ii} is in {nn}\".format(ii=\"SF\", nn=\"Cali\")"
     ],
     "language": "python",
     "metadata": {},
     "outputs": [
      {
       "metadata": {},
       "output_type": "pyout",
       "prompt_number": 8,
       "text": [
        "'SF is in Cali'"
       ]
      }
     ],
     "prompt_number": 8
    },
    {
     "cell_type": "code",
     "collapsed": false,
     "input": [
      "\"I<3{pl}. I<3{pl}!\".format(pl=\"Francia\")"
     ],
     "language": "python",
     "metadata": {},
     "outputs": [
      {
       "metadata": {},
       "output_type": "pyout",
       "prompt_number": 9,
       "text": [
        "'I<3Francia. I<3Francia!'"
       ]
      }
     ],
     "prompt_number": 9
    },
    {
     "cell_type": "markdown",
     "metadata": {},
     "source": [
      "Default format for floats has many digits"
     ]
    },
    {
     "cell_type": "code",
     "collapsed": false,
     "input": [
      "\"{val} has repeating digits\".format(val=1/3.)"
     ],
     "language": "python",
     "metadata": {},
     "outputs": [
      {
       "metadata": {},
       "output_type": "pyout",
       "prompt_number": 10,
       "text": [
        "'0.333333333333 has repeating digits'"
       ]
      }
     ],
     "prompt_number": 10
    },
    {
     "cell_type": "markdown",
     "metadata": {},
     "source": [
      "But you can add format instructions"
     ]
    },
    {
     "cell_type": "code",
     "collapsed": false,
     "input": [
      "\"{val:.2f} has 2 decimal places\".format(val=1/3.)"
     ],
     "language": "python",
     "metadata": {},
     "outputs": [
      {
       "metadata": {},
       "output_type": "pyout",
       "prompt_number": 17,
       "text": [
        "'0.33 has 2 decimal places'"
       ]
      }
     ],
     "prompt_number": 17
    },
    {
     "cell_type": "markdown",
     "metadata": {},
     "source": [
      "### Basic math in python\n",
      "Some operators are pretty obvious"
     ]
    },
    {
     "cell_type": "code",
     "collapsed": false,
     "input": [
      "x=10\n",
      "y=5\n",
      "z=4"
     ],
     "language": "python",
     "metadata": {},
     "outputs": [],
     "prompt_number": 18
    },
    {
     "cell_type": "code",
     "collapsed": false,
     "input": [
      "But some operators are less intuitive"
     ],
     "language": "python",
     "metadata": {},
     "outputs": []
    },
    {
     "cell_type": "code",
     "collapsed": false,
     "input": [
      "x-y"
     ],
     "language": "python",
     "metadata": {},
     "outputs": [
      {
       "metadata": {},
       "output_type": "pyout",
       "prompt_number": 19,
       "text": [
        "5"
       ]
      }
     ],
     "prompt_number": 19
    },
    {
     "cell_type": "code",
     "collapsed": false,
     "input": [
      "print x*y\n",
      "print x/z\n",
      "print x/4.0"
     ],
     "language": "python",
     "metadata": {},
     "outputs": [
      {
       "output_type": "stream",
       "stream": "stdout",
       "text": [
        "50\n",
        "2\n",
        "2.5\n"
       ]
      }
     ],
     "prompt_number": 23
    },
    {
     "cell_type": "code",
     "collapsed": false,
     "input": [
      "x%4"
     ],
     "language": "python",
     "metadata": {},
     "outputs": [
      {
       "metadata": {},
       "output_type": "pyout",
       "prompt_number": 24,
       "text": [
        "2"
       ]
      }
     ],
     "prompt_number": 24
    },
    {
     "cell_type": "code",
     "collapsed": false,
     "input": [
      "10**2"
     ],
     "language": "python",
     "metadata": {},
     "outputs": [
      {
       "metadata": {},
       "output_type": "pyout",
       "prompt_number": 25,
       "text": [
        "100"
       ]
      }
     ],
     "prompt_number": 25
    },
    {
     "cell_type": "markdown",
     "metadata": {},
     "source": [
      "Assign values to variables"
     ]
    },
    {
     "cell_type": "code",
     "collapsed": false,
     "input": [],
     "language": "python",
     "metadata": {},
     "outputs": [],
     "prompt_number": 0
    },
    {
     "cell_type": "markdown",
     "metadata": {},
     "source": [
      "Use math with variables "
     ]
    },
    {
     "cell_type": "code",
     "collapsed": false,
     "input": [],
     "language": "python",
     "metadata": {},
     "outputs": [],
     "prompt_number": 0
    },
    {
     "cell_type": "code",
     "collapsed": false,
     "input": [],
     "language": "python",
     "metadata": {},
     "outputs": [],
     "prompt_number": 0
    },
    {
     "cell_type": "markdown",
     "metadata": {},
     "source": [
      "Try dividing x by z"
     ]
    },
    {
     "cell_type": "code",
     "collapsed": false,
     "input": [
      "x/z"
     ],
     "language": "python",
     "metadata": {},
     "outputs": [
      {
       "metadata": {},
       "output_type": "pyout",
       "prompt_number": 27,
       "text": [
        "2"
       ]
      }
     ],
     "prompt_number": 27
    },
    {
     "cell_type": "markdown",
     "metadata": {},
     "source": [
      "Try dividing x by 4.0"
     ]
    },
    {
     "cell_type": "code",
     "collapsed": false,
     "input": [
      "x/4."
     ],
     "language": "python",
     "metadata": {},
     "outputs": [
      {
       "metadata": {},
       "output_type": "pyout",
       "prompt_number": 26,
       "text": [
        "2.5"
       ]
      }
     ],
     "prompt_number": 26
    },
    {
     "cell_type": "markdown",
     "metadata": {},
     "source": [
      "### Functions"
     ]
    },
    {
     "cell_type": "markdown",
     "metadata": {},
     "source": [
      "####Syntax requires 4 things:\n",
      "-  prefix of 'def'\n",
      "-  name for function\n",
      "-  parentheses followed by a colon\n",
      "-  indented code on the next line\n",
      "\n",
      "Create a simple function"
     ]
    },
    {
     "cell_type": "code",
     "collapsed": false,
     "input": [
      "def simplest_function():\n",
      "    print \"I made a function\""
     ],
     "language": "python",
     "metadata": {},
     "outputs": [],
     "prompt_number": 30
    },
    {
     "cell_type": "markdown",
     "metadata": {},
     "source": [
      "Call function by name"
     ]
    },
    {
     "cell_type": "code",
     "collapsed": false,
     "input": [
      "simplest_function()"
     ],
     "language": "python",
     "metadata": {},
     "outputs": [
      {
       "output_type": "stream",
       "stream": "stdout",
       "text": [
        "I made a function\n"
       ]
      }
     ],
     "prompt_number": 31
    },
    {
     "cell_type": "markdown",
     "metadata": {},
     "source": [
      "You can create a function that requires an input"
     ]
    },
    {
     "cell_type": "code",
     "collapsed": false,
     "input": [
      "def square(x):\n",
      "    print x**2"
     ],
     "language": "python",
     "metadata": {},
     "outputs": [],
     "prompt_number": 32
    },
    {
     "cell_type": "code",
     "collapsed": false,
     "input": [
      "def SquareLs(x):\n",
      "    sqrs=[]\n",
      "    for i in x:\n",
      "        sqr=i**2\n",
      "        sqrs.append(sqr)\n",
      "    return sqrs\n",
      "        "
     ],
     "language": "python",
     "metadata": {},
     "outputs": [],
     "prompt_number": 5
    },
    {
     "cell_type": "code",
     "collapsed": false,
     "input": [
      "SquareLs(range(1,20))"
     ],
     "language": "python",
     "metadata": {},
     "outputs": [
      {
       "metadata": {},
       "output_type": "pyout",
       "prompt_number": 6,
       "text": [
        "[1,\n",
        " 4,\n",
        " 9,\n",
        " 16,\n",
        " 25,\n",
        " 36,\n",
        " 49,\n",
        " 64,\n",
        " 81,\n",
        " 100,\n",
        " 121,\n",
        " 144,\n",
        " 169,\n",
        " 196,\n",
        " 225,\n",
        " 256,\n",
        " 289,\n",
        " 324,\n",
        " 361]"
       ]
      }
     ],
     "prompt_number": 6
    },
    {
     "cell_type": "code",
     "collapsed": false,
     "input": [
      "SquareLs2=[x**2 for x in range(1,20)]\n",
      "print SquareLs2"
     ],
     "language": "python",
     "metadata": {},
     "outputs": [
      {
       "output_type": "stream",
       "stream": "stdout",
       "text": [
        "[1, 4, 9, 16, 25, 36, 49, 64, 81, 100, 121, 144, 169, 196, 225, 256, 289, 324, 361]\n"
       ]
      }
     ],
     "prompt_number": 8
    },
    {
     "cell_type": "markdown",
     "metadata": {},
     "source": [
      "Functions can also returns a result"
     ]
    },
    {
     "cell_type": "code",
     "collapsed": false,
     "input": [
      "square(5)"
     ],
     "language": "python",
     "metadata": {},
     "outputs": [
      {
       "output_type": "stream",
       "stream": "stdout",
       "text": [
        "25\n"
       ]
      }
     ],
     "prompt_number": 33
    },
    {
     "cell_type": "code",
     "collapsed": false,
     "input": [
      "def cube(x):\n",
      "    return x**3\n",
      "\n",
      "y=cube(5.)\n",
      "print y"
     ],
     "language": "python",
     "metadata": {},
     "outputs": [
      {
       "output_type": "stream",
       "stream": "stdout",
       "text": [
        "125.0\n"
       ]
      }
     ],
     "prompt_number": 35
    },
    {
     "cell_type": "markdown",
     "metadata": {},
     "source": [
      "###Line Continuation"
     ]
    },
    {
     "cell_type": "markdown",
     "metadata": {},
     "source": [
      "Python recognizes that code lines that end with a comma are incomplete"
     ]
    },
    {
     "cell_type": "code",
     "collapsed": false,
     "input": [
      "numbers=[1,2,3,\n",
      "         4,5,6,\n",
      "         7,8,9]"
     ],
     "language": "python",
     "metadata": {},
     "outputs": [],
     "prompt_number": 36
    },
    {
     "cell_type": "markdown",
     "metadata": {},
     "source": [
      "You can also use the backslash"
     ]
    },
    {
     "cell_type": "code",
     "collapsed": false,
     "input": [
      "long_string='This is a really, really, really, ' \\\n",
      "+ 'long sentence'\n",
      "print long_string"
     ],
     "language": "python",
     "metadata": {},
     "outputs": [
      {
       "output_type": "stream",
       "stream": "stdout",
       "text": [
        "This is a really, really, really, long sentence\n"
       ]
      }
     ],
     "prompt_number": 42
    },
    {
     "cell_type": "markdown",
     "metadata": {},
     "source": [
      "### Exercise: Build a Function\n",
      "- Create a function that converts Celsius to Fahrenheit\n",
      "- Function should return a sentence (string data type) with the Celsius and Fahrenheit values\n",
      "- Results should be be accurate to at least one decimal point"
     ]
    },
    {
     "cell_type": "code",
     "collapsed": false,
     "input": [
      "def CelsiusToFahrenheit(x):\n",
      "    if type(x) == str:\n",
      "        return \"Invalid data\"\n",
      "    else:\n",
      "        value = x*(9/5.)+32\n",
      "        return \"Celsius is {x:.2f} C, Fahrehnheit value is {value:.2f} F\".format(x=x,value=value)"
     ],
     "language": "python",
     "metadata": {},
     "outputs": [],
     "prompt_number": 63
    },
    {
     "cell_type": "code",
     "collapsed": false,
     "input": [
      "CelsiusToFahrenheit(1.2)"
     ],
     "language": "python",
     "metadata": {},
     "outputs": [
      {
       "metadata": {},
       "output_type": "pyout",
       "prompt_number": 64,
       "text": [
        "'Celsius is 1.20 C, Fahrehnheit value is 34.16 F'"
       ]
      }
     ],
     "prompt_number": 64
    },
    {
     "cell_type": "markdown",
     "metadata": {},
     "source": [
      "- Bonus: Update to display exactly two digits after the decimals "
     ]
    },
    {
     "cell_type": "code",
     "collapsed": false,
     "input": [],
     "language": "python",
     "metadata": {},
     "outputs": [],
     "prompt_number": 66
    },
    {
     "cell_type": "code",
     "collapsed": false,
     "input": [],
     "language": "python",
     "metadata": {},
     "outputs": []
    }
   ],
   "metadata": {}
  }
 ]
}
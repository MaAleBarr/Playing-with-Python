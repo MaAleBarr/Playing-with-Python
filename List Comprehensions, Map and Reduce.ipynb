{
 "metadata": {
  "name": "",
  "signature": "sha256:2045a5527a6bdb36dec3f4389357f298059708c2021fcbeba8bb220564b83fd4"
 },
 "nbformat": 3,
 "nbformat_minor": 0,
 "worksheets": [
  {
   "cells": [
    {
     "cell_type": "markdown",
     "metadata": {},
     "source": [
      " # Python for Data Science Bootcamp\n",
      " ## List Comprehensions, Map and Reduce"
     ]
    },
    {
     "cell_type": "markdown",
     "metadata": {},
     "source": [
      "### List Comprehensions\n",
      "List comprehensions are compact lines of code that have the same functionality as longer lines of code.  They're harder to read at first, but they end up saving lots of unnecessary loops of code."
     ]
    },
    {
     "cell_type": "markdown",
     "metadata": {},
     "source": [
      "####List Comprehension Example #1\n",
      "Long format"
     ]
    },
    {
     "cell_type": "code",
     "collapsed": false,
     "input": [
      "example_1 = []\n",
      "for x in [1,2,3,4]:\n",
      "    calculation = x ** 2\n",
      "    example_1.append(calculation)\n",
      "print example_1"
     ],
     "language": "python",
     "metadata": {},
     "outputs": [
      {
       "output_type": "stream",
       "stream": "stdout",
       "text": [
        "[1, 4, 9, 16]\n"
       ]
      }
     ],
     "prompt_number": 3
    },
    {
     "cell_type": "markdown",
     "metadata": {},
     "source": [
      "List comprehension"
     ]
    },
    {
     "cell_type": "code",
     "collapsed": false,
     "input": [
      "example_1=[x ** 2 for x in [1,2,3,4]]\n",
      "print example_1"
     ],
     "language": "python",
     "metadata": {},
     "outputs": [
      {
       "output_type": "stream",
       "stream": "stdout",
       "text": [
        "[1, 4, 9, 16]\n"
       ]
      }
     ],
     "prompt_number": 8
    },
    {
     "cell_type": "markdown",
     "metadata": {},
     "source": [
      "####List Comprehension Example #2\n",
      "Long format"
     ]
    },
    {
     "cell_type": "code",
     "collapsed": false,
     "input": [
      "example_2 = []\n",
      "for x in [1,2,3,4]:\n",
      "    if x>=3:\n",
      "        example_2.append(x)\n",
      "print example_2"
     ],
     "language": "python",
     "metadata": {},
     "outputs": [
      {
       "output_type": "stream",
       "stream": "stdout",
       "text": [
        "[3, 4]\n"
       ]
      }
     ],
     "prompt_number": 2
    },
    {
     "cell_type": "markdown",
     "metadata": {},
     "source": [
      "List comprehension"
     ]
    },
    {
     "cell_type": "code",
     "collapsed": false,
     "input": [
      "example_2=[x for x in [1,2,3,5] if x>=3] # puedo poner mas de una condicion?\n",
      "print example_2"
     ],
     "language": "python",
     "metadata": {},
     "outputs": [
      {
       "output_type": "stream",
       "stream": "stdout",
       "text": [
        "[3, 5]\n"
       ]
      }
     ],
     "prompt_number": 14
    },
    {
     "cell_type": "markdown",
     "metadata": {},
     "source": [
      "### Map Functions \n",
      "Map functions enable you to apply a function across a list of values.\n",
      "\n",
      "#### Map Function Example #3\n",
      "Long format"
     ]
    },
    {
     "cell_type": "code",
     "collapsed": false,
     "input": [
      "# Import math to use sqrt function\n",
      "import math \n",
      "example_3 = []\n",
      "for x in [1,2,3,4]:\n",
      "    calculation = math.sqrt(x)\n",
      "    example_3.append(calculation)\n",
      "print example_3"
     ],
     "language": "python",
     "metadata": {},
     "outputs": [
      {
       "output_type": "stream",
       "stream": "stdout",
       "text": [
        "[1.0, 1.4142135623730951, 1.7320508075688772, 2.0]\n"
       ]
      }
     ],
     "prompt_number": 15
    },
    {
     "cell_type": "markdown",
     "metadata": {},
     "source": [
      "Map version"
     ]
    },
    {
     "cell_type": "code",
     "collapsed": false,
     "input": [
      "example_3=map(math.sqrt,[1,2,3,4] )\n",
      "print example_3"
     ],
     "language": "python",
     "metadata": {},
     "outputs": [
      {
       "output_type": "stream",
       "stream": "stdout",
       "text": [
        "[1.0, 1.4142135623730951, 1.7320508075688772, 2.0]\n"
       ]
      }
     ],
     "prompt_number": 19
    },
    {
     "cell_type": "markdown",
     "metadata": {},
     "source": [
      "#### Map Function Example #4\n",
      "\n",
      "Long format"
     ]
    },
    {
     "cell_type": "code",
     "collapsed": false,
     "input": [
      "example_4 =[]\n",
      "for x in [1,2,3,4]:\n",
      "    str_x = str(x)\n",
      "    example_4.append(str_x)\n",
      "print example_4"
     ],
     "language": "python",
     "metadata": {},
     "outputs": [
      {
       "output_type": "stream",
       "stream": "stdout",
       "text": [
        "['1', '2', '3', '4']\n"
       ]
      }
     ],
     "prompt_number": 14
    },
    {
     "cell_type": "markdown",
     "metadata": {},
     "source": [
      "Map version"
     ]
    },
    {
     "cell_type": "code",
     "collapsed": false,
     "input": [
      "example_4=map(str,[1,2,3,4])\n",
      "print example_4"
     ],
     "language": "python",
     "metadata": {},
     "outputs": [
      {
       "output_type": "stream",
       "stream": "stdout",
       "text": [
        "['1', '2', '3', '4']\n"
       ]
      }
     ],
     "prompt_number": 23
    },
    {
     "cell_type": "markdown",
     "metadata": {},
     "source": [
      "#### Map Function Example #5\n",
      "\n",
      "Long format"
     ]
    },
    {
     "cell_type": "code",
     "collapsed": false,
     "input": [
      "example_5 = []\n",
      "for x in [1,2,3,4]:\n",
      "    calculation  = str(x) + ':00 p.m.'\n",
      "    example_5.append(calculation)\n",
      "print example_5"
     ],
     "language": "python",
     "metadata": {},
     "outputs": [
      {
       "output_type": "stream",
       "stream": "stdout",
       "text": [
        "['1:00 p.m.', '2:00 p.m.', '3:00 p.m.', '4:00 p.m.']\n"
       ]
      }
     ],
     "prompt_number": 4
    },
    {
     "cell_type": "markdown",
     "metadata": {},
     "source": [
      "Map version"
     ]
    },
    {
     "cell_type": "code",
     "collapsed": false,
     "input": [
      "example_5=map(lambda x:str(x)+':00 p.m.',[1,2,3,4])\n",
      "print example_5"
     ],
     "language": "python",
     "metadata": {},
     "outputs": [
      {
       "output_type": "stream",
       "stream": "stdout",
       "text": [
        "['1:00 p.m.', '2:00 p.m.', '3:00 p.m.', '4:00 p.m.']\n"
       ]
      }
     ],
     "prompt_number": 27
    },
    {
     "cell_type": "markdown",
     "metadata": {},
     "source": [
      "### Reduce Function\n",
      "The reduce function allows you to reduce a list to a single value.\n",
      "\n",
      "#### Example of reduce function"
     ]
    },
    {
     "cell_type": "code",
     "collapsed": false,
     "input": [
      "example_6 = 0\n",
      "for x in [1,2,3,4]:\n",
      "    example_6 += x\n",
      "print example_6"
     ],
     "language": "python",
     "metadata": {},
     "outputs": [
      {
       "output_type": "stream",
       "stream": "stdout",
       "text": [
        "10\n"
       ]
      }
     ],
     "prompt_number": 28
    },
    {
     "cell_type": "code",
     "collapsed": false,
     "input": [
      "example_6=reduce(lambda x,y: x+y, [1,2,3,4])\n",
      "print example_6"
     ],
     "language": "python",
     "metadata": {},
     "outputs": [
      {
       "output_type": "stream",
       "stream": "stdout",
       "text": [
        "10\n"
       ]
      }
     ],
     "prompt_number": 30
    },
    {
     "cell_type": "markdown",
     "metadata": {},
     "source": [
      "### Exercises"
     ]
    },
    {
     "cell_type": "markdown",
     "metadata": {},
     "source": [
      "Create a list comprehension for the following code:"
     ]
    },
    {
     "cell_type": "code",
     "collapsed": false,
     "input": [
      "results = []\n",
      "for x in [0,30,100]:\n",
      "    calc = x * 9.0 / 5 + 32\n",
      "    results.append(calc)\n",
      "print results"
     ],
     "language": "python",
     "metadata": {},
     "outputs": [
      {
       "output_type": "stream",
       "stream": "stdout",
       "text": [
        "[32.0, 86.0, 212.0]\n"
       ]
      }
     ],
     "prompt_number": 8
    },
    {
     "cell_type": "code",
     "collapsed": false,
     "input": [
      "results=[x*(9./5)+32 for x in [0, 30, 100] ]\n",
      "print results"
     ],
     "language": "python",
     "metadata": {},
     "outputs": [
      {
       "output_type": "stream",
       "stream": "stdout",
       "text": [
        "[32.0, 86.0, 212.0]\n"
       ]
      }
     ],
     "prompt_number": 31
    },
    {
     "cell_type": "markdown",
     "metadata": {},
     "source": [
      "Create a map function for the following code.  (Hint: Use lambda function)"
     ]
    },
    {
     "cell_type": "code",
     "collapsed": false,
     "input": [
      "results = []\n",
      "for x in [32, 80, 212]:\n",
      "    calc = (x - 32.0) * 5 / 9\n",
      "    results.append(calc)\n",
      "print results\n",
      "    "
     ],
     "language": "python",
     "metadata": {},
     "outputs": [
      {
       "output_type": "stream",
       "stream": "stdout",
       "text": [
        "[0.0, 26.666666666666668, 100.0]\n"
       ]
      }
     ],
     "prompt_number": 36
    },
    {
     "cell_type": "code",
     "collapsed": false,
     "input": [
      "results=map(lambda x: (x - 32.0) * 5 / 9, [32,80, 212])\n",
      "print results"
     ],
     "language": "python",
     "metadata": {},
     "outputs": [
      {
       "output_type": "stream",
       "stream": "stdout",
       "text": [
        "[0.0, 26.666666666666668, 100.0]\n"
       ]
      }
     ],
     "prompt_number": 38
    },
    {
     "cell_type": "markdown",
     "metadata": {},
     "source": [
      "Create a reduce function for the following code"
     ]
    },
    {
     "cell_type": "code",
     "collapsed": false,
     "input": [
      "factorial = 1\n",
      "for x in range(5):\n",
      "    factorial *= (x + 1)\n",
      "print factorial"
     ],
     "language": "python",
     "metadata": {},
     "outputs": [
      {
       "output_type": "stream",
       "stream": "stdout",
       "text": [
        "120\n"
       ]
      }
     ],
     "prompt_number": 41
    },
    {
     "cell_type": "code",
     "collapsed": false,
     "input": [
      "reduce(lambda x,y: x*(y+1), range(5))"
     ],
     "language": "python",
     "metadata": {},
     "outputs": [
      {
       "metadata": {},
       "output_type": "pyout",
       "prompt_number": 55,
       "text": [
        "0"
       ]
      }
     ],
     "prompt_number": 55
    },
    {
     "cell_type": "code",
     "collapsed": false,
     "input": [
      "reduce(lambda x,y: (x*y), range(1,6))"
     ],
     "language": "python",
     "metadata": {},
     "outputs": [
      {
       "metadata": {},
       "output_type": "pyout",
       "prompt_number": 66,
       "text": [
        "120"
       ]
      }
     ],
     "prompt_number": 66
    },
    {
     "cell_type": "code",
     "collapsed": false,
     "input": [
      "print range(5)"
     ],
     "language": "python",
     "metadata": {},
     "outputs": [
      {
       "output_type": "stream",
       "stream": "stdout",
       "text": [
        "[0, 1, 2, 3, 4]\n"
       ]
      }
     ],
     "prompt_number": 52
    },
    {
     "cell_type": "code",
     "collapsed": false,
     "input": [],
     "language": "python",
     "metadata": {},
     "outputs": []
    },
    {
     "cell_type": "code",
     "collapsed": false,
     "input": [],
     "language": "python",
     "metadata": {},
     "outputs": []
    }
   ],
   "metadata": {}
  }
 ]
}
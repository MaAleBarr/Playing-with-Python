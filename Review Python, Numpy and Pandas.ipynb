{
 "metadata": {
  "name": "",
  "signature": "sha256:203b983df6932cb6f019a3bf2aeb6d095590bae572b066cd603b955913c8d0ef"
 },
 "nbformat": 3,
 "nbformat_minor": 0,
 "worksheets": [
  {
   "cells": [
    {
     "cell_type": "markdown",
     "metadata": {},
     "source": [
      "# Python for Data Science Bootcamp\n",
      "## Review Python, Numpy and Pandas"
     ]
    },
    {
     "cell_type": "markdown",
     "metadata": {},
     "source": [
      "Create a function that tests if a number is divisble by either 3 or 7 and returns either True or False"
     ]
    },
    {
     "cell_type": "code",
     "collapsed": false,
     "input": [
      "def DividibleBy3or7(x):\n",
      "    # check input is numerical\n",
      "    if type(x) in [int,float]:\n",
      "        if((x%3.==0) or (x%7==0):\n",
      "            return True\n",
      "        else:\n",
      "            return False\n",
      "    else:\n",
      "        return 'Invalid input'"
     ],
     "language": "python",
     "metadata": {},
     "outputs": [],
     "prompt_number": 6
    },
    {
     "cell_type": "code",
     "collapsed": false,
     "input": [
      "DividibleBy3or7(27)"
     ],
     "language": "python",
     "metadata": {},
     "outputs": [
      {
       "metadata": {},
       "output_type": "pyout",
       "prompt_number": 9,
       "text": [
        "True"
       ]
      }
     ],
     "prompt_number": 9
    },
    {
     "cell_type": "code",
     "collapsed": false,
     "input": [
      "DividibleBy3or7(31)"
     ],
     "language": "python",
     "metadata": {},
     "outputs": [
      {
       "metadata": {},
       "output_type": "pyout",
       "prompt_number": 10,
       "text": [
        "False"
       ]
      }
     ],
     "prompt_number": 10
    },
    {
     "cell_type": "code",
     "collapsed": false,
     "input": [
      "DividibleBy3or7('gg')"
     ],
     "language": "python",
     "metadata": {},
     "outputs": [
      {
       "metadata": {},
       "output_type": "pyout",
       "prompt_number": 12,
       "text": [
        "'Invalid input'"
       ]
      }
     ],
     "prompt_number": 12
    },
    {
     "cell_type": "markdown",
     "metadata": {},
     "source": [
      "Create a function that takes a list of numbers as an input and returns only the numbers that are divisible by 3 or 7 in a list.  (Hint: Reuse the function you just created inside this new function)"
     ]
    },
    {
     "cell_type": "code",
     "collapsed": false,
     "input": [
      "def DividibleBy3or7Ls(xLs):\n",
      "    clean_ls=[]\n",
      "    for i in xLs:\n",
      "        test=DividibleBy3or7(i) # since returns True and False, could put directly in if stmnt\n",
      "        if (test==True):\n",
      "            clean_ls.append(i)\n",
      "    return clean_ls"
     ],
     "language": "python",
     "metadata": {},
     "outputs": [],
     "prompt_number": 13
    },
    {
     "cell_type": "code",
     "collapsed": false,
     "input": [
      "xLs=[2,3,6,27,31,55,24,68]\n",
      "DividibleBy3or7Ls(xLs)"
     ],
     "language": "python",
     "metadata": {},
     "outputs": [
      {
       "metadata": {},
       "output_type": "pyout",
       "prompt_number": 14,
       "text": [
        "[3, 6, 27, 24]"
       ]
      }
     ],
     "prompt_number": 14
    },
    {
     "cell_type": "markdown",
     "metadata": {},
     "source": [
      "Import Numpy and Pandas"
     ]
    },
    {
     "cell_type": "code",
     "collapsed": false,
     "input": [
      "import numpy as np\n",
      "import pandas as pd"
     ],
     "language": "python",
     "metadata": {},
     "outputs": [],
     "prompt_number": 15
    },
    {
     "cell_type": "markdown",
     "metadata": {},
     "source": [
      "Create a 1-Dimensional Numpy Array with 8 Values from 0 to 7 and Assign it to a Variable x"
     ]
    },
    {
     "cell_type": "code",
     "collapsed": false,
     "input": [
      "x=np.arange(0,8) # (from this ind, up to, but not including this ind)\n",
      "print x"
     ],
     "language": "python",
     "metadata": {},
     "outputs": [
      {
       "output_type": "stream",
       "stream": "stdout",
       "text": [
        "[0 1 2 3 4 5 6 7]\n"
       ]
      }
     ],
     "prompt_number": 71
    },
    {
     "cell_type": "markdown",
     "metadata": {},
     "source": [
      "Reverse the Order of the Array"
     ]
    },
    {
     "cell_type": "code",
     "collapsed": false,
     "input": [
      "x_reverse=x[::-1]\n",
      "print x_reverse"
     ],
     "language": "python",
     "metadata": {},
     "outputs": [
      {
       "output_type": "stream",
       "stream": "stdout",
       "text": [
        "[7 6 5 4 3 2 1 0]\n"
       ]
      }
     ],
     "prompt_number": 72
    },
    {
     "cell_type": "markdown",
     "metadata": {},
     "source": [
      "Reshape the Array into a 3-Dimensional Array"
     ]
    },
    {
     "cell_type": "code",
     "collapsed": false,
     "input": [
      "xnew=np.arange(0,8).reshape(2,2,2)\n",
      "print xnew"
     ],
     "language": "python",
     "metadata": {},
     "outputs": [
      {
       "output_type": "stream",
       "stream": "stdout",
       "text": [
        "[[[0 1]\n",
        "  [2 3]]\n",
        "\n",
        " [[4 5]\n",
        "  [6 7]]]\n"
       ]
      }
     ],
     "prompt_number": 31
    },
    {
     "cell_type": "markdown",
     "metadata": {},
     "source": [
      "Create an Array with 20 Random Values from a Normal Distribution with Mean=5 and Standard Deviation=10"
     ]
    },
    {
     "cell_type": "code",
     "collapsed": false,
     "input": [
      "mean=5\n",
      "stdev=10\n",
      "num_val=20\n",
      "arr=np.random.normal(mean, stdev, num_val)\n",
      "print arr"
     ],
     "language": "python",
     "metadata": {},
     "outputs": [
      {
       "output_type": "stream",
       "stream": "stdout",
       "text": [
        "[  4.36606931  -9.03334718  20.26400685   4.99431817  12.99065953\n",
        "   4.83985506 -19.24539658  13.74239715   3.30608935   9.15088527\n",
        "  -0.68090166  26.54298612  12.09561025  13.76305754   6.11319676\n",
        "  -0.37230212  -9.99296069  -6.97540338   5.3661874   -3.05041014]\n"
       ]
      }
     ],
     "prompt_number": 32
    },
    {
     "cell_type": "markdown",
     "metadata": {},
     "source": [
      "Import train.csv as a Pandas DataFrame"
     ]
    },
    {
     "cell_type": "code",
     "collapsed": false,
     "input": [
      "dat=pd.read_csv('train.csv')\n",
      "print dat"
     ],
     "language": "python",
     "metadata": {},
     "outputs": [
      {
       "output_type": "stream",
       "stream": "stdout",
       "text": [
        "     PassengerId  Survived  Pclass  \\\n",
        "0              1         0       3   \n",
        "1              2         1       1   \n",
        "2              3         1       3   \n",
        "3              4         1       1   \n",
        "4              5         0       3   \n",
        "5              6         0       3   \n",
        "6              7         0       1   \n",
        "7              8         0       3   \n",
        "8              9         1       3   \n",
        "9             10         1       2   \n",
        "10            11         1       3   \n",
        "11            12         1       1   \n",
        "12            13         0       3   \n",
        "13            14         0       3   \n",
        "14            15         0       3   \n",
        "15            16         1       2   \n",
        "16            17         0       3   \n",
        "17            18         1       2   \n",
        "18            19         0       3   \n",
        "19            20         1       3   \n",
        "20            21         0       2   \n",
        "21            22         1       2   \n",
        "22            23         1       3   \n",
        "23            24         1       1   \n",
        "24            25         0       3   \n",
        "25            26         1       3   \n",
        "26            27         0       3   \n",
        "27            28         0       1   \n",
        "28            29         1       3   \n",
        "29            30         0       3   \n",
        "..           ...       ...     ...   \n",
        "861          862         0       2   \n",
        "862          863         1       1   \n",
        "863          864         0       3   \n",
        "864          865         0       2   \n",
        "865          866         1       2   \n",
        "866          867         1       2   \n",
        "867          868         0       1   \n",
        "868          869         0       3   \n",
        "869          870         1       3   \n",
        "870          871         0       3   \n",
        "871          872         1       1   \n",
        "872          873         0       1   \n",
        "873          874         0       3   \n",
        "874          875         1       2   \n",
        "875          876         1       3   \n",
        "876          877         0       3   \n",
        "877          878         0       3   \n",
        "878          879         0       3   \n",
        "879          880         1       1   \n",
        "880          881         1       2   \n",
        "881          882         0       3   \n",
        "882          883         0       3   \n",
        "883          884         0       2   \n",
        "884          885         0       3   \n",
        "885          886         0       3   \n",
        "886          887         0       2   \n",
        "887          888         1       1   \n",
        "888          889         0       3   \n",
        "889          890         1       1   \n",
        "890          891         0       3   \n",
        "\n",
        "                                                  Name     Sex  Age  SibSp  \\\n",
        "0                              Braund, Mr. Owen Harris    male   22      1   \n",
        "1    Cumings, Mrs. John Bradley (Florence Briggs Th...  female   38      1   \n",
        "2                               Heikkinen, Miss. Laina  female   26      0   \n",
        "3         Futrelle, Mrs. Jacques Heath (Lily May Peel)  female   35      1   \n",
        "4                             Allen, Mr. William Henry    male   35      0   \n",
        "5                                     Moran, Mr. James    male  NaN      0   \n",
        "6                              McCarthy, Mr. Timothy J    male   54      0   \n",
        "7                       Palsson, Master. Gosta Leonard    male    2      3   \n",
        "8    Johnson, Mrs. Oscar W (Elisabeth Vilhelmina Berg)  female   27      0   \n",
        "9                  Nasser, Mrs. Nicholas (Adele Achem)  female   14      1   \n",
        "10                     Sandstrom, Miss. Marguerite Rut  female    4      1   \n",
        "11                            Bonnell, Miss. Elizabeth  female   58      0   \n",
        "12                      Saundercock, Mr. William Henry    male   20      0   \n",
        "13                         Andersson, Mr. Anders Johan    male   39      1   \n",
        "14                Vestrom, Miss. Hulda Amanda Adolfina  female   14      0   \n",
        "15                    Hewlett, Mrs. (Mary D Kingcome)   female   55      0   \n",
        "16                                Rice, Master. Eugene    male    2      4   \n",
        "17                        Williams, Mr. Charles Eugene    male  NaN      0   \n",
        "18   Vander Planke, Mrs. Julius (Emelia Maria Vande...  female   31      1   \n",
        "19                             Masselmani, Mrs. Fatima  female  NaN      0   \n",
        "20                                Fynney, Mr. Joseph J    male   35      0   \n",
        "21                               Beesley, Mr. Lawrence    male   34      0   \n",
        "22                         McGowan, Miss. Anna \"Annie\"  female   15      0   \n",
        "23                        Sloper, Mr. William Thompson    male   28      0   \n",
        "24                       Palsson, Miss. Torborg Danira  female    8      3   \n",
        "25   Asplund, Mrs. Carl Oscar (Selma Augusta Emilia...  female   38      1   \n",
        "26                             Emir, Mr. Farred Chehab    male  NaN      0   \n",
        "27                      Fortune, Mr. Charles Alexander    male   19      3   \n",
        "28                       O'Dwyer, Miss. Ellen \"Nellie\"  female  NaN      0   \n",
        "29                                 Todoroff, Mr. Lalio    male  NaN      0   \n",
        "..                                                 ...     ...  ...    ...   \n",
        "861                        Giles, Mr. Frederick Edward    male   21      1   \n",
        "862  Swift, Mrs. Frederick Joel (Margaret Welles Ba...  female   48      0   \n",
        "863                  Sage, Miss. Dorothy Edith \"Dolly\"  female  NaN      8   \n",
        "864                             Gill, Mr. John William    male   24      0   \n",
        "865                           Bystrom, Mrs. (Karolina)  female   42      0   \n",
        "866                       Duran y More, Miss. Asuncion  female   27      1   \n",
        "867               Roebling, Mr. Washington Augustus II    male   31      0   \n",
        "868                        van Melkebeke, Mr. Philemon    male  NaN      0   \n",
        "869                    Johnson, Master. Harold Theodor    male    4      1   \n",
        "870                                  Balkic, Mr. Cerin    male   26      0   \n",
        "871   Beckwith, Mrs. Richard Leonard (Sallie Monypeny)  female   47      1   \n",
        "872                           Carlsson, Mr. Frans Olof    male   33      0   \n",
        "873                        Vander Cruyssen, Mr. Victor    male   47      0   \n",
        "874              Abelson, Mrs. Samuel (Hannah Wizosky)  female   28      1   \n",
        "875                   Najib, Miss. Adele Kiamie \"Jane\"  female   15      0   \n",
        "876                      Gustafsson, Mr. Alfred Ossian    male   20      0   \n",
        "877                               Petroff, Mr. Nedelio    male   19      0   \n",
        "878                                 Laleff, Mr. Kristo    male  NaN      0   \n",
        "879      Potter, Mrs. Thomas Jr (Lily Alexenia Wilson)  female   56      0   \n",
        "880       Shelley, Mrs. William (Imanita Parrish Hall)  female   25      0   \n",
        "881                                 Markun, Mr. Johann    male   33      0   \n",
        "882                       Dahlberg, Miss. Gerda Ulrika  female   22      0   \n",
        "883                      Banfield, Mr. Frederick James    male   28      0   \n",
        "884                             Sutehall, Mr. Henry Jr    male   25      0   \n",
        "885               Rice, Mrs. William (Margaret Norton)  female   39      0   \n",
        "886                              Montvila, Rev. Juozas    male   27      0   \n",
        "887                       Graham, Miss. Margaret Edith  female   19      0   \n",
        "888           Johnston, Miss. Catherine Helen \"Carrie\"  female  NaN      1   \n",
        "889                              Behr, Mr. Karl Howell    male   26      0   \n",
        "890                                Dooley, Mr. Patrick    male   32      0   \n",
        "\n",
        "     Parch            Ticket      Fare        Cabin Embarked  \n",
        "0        0         A/5 21171    7.2500          NaN        S  \n",
        "1        0          PC 17599   71.2833          C85        C  \n",
        "2        0  STON/O2. 3101282    7.9250          NaN        S  \n",
        "3        0            113803   53.1000         C123        S  \n",
        "4        0            373450    8.0500          NaN        S  \n",
        "5        0            330877    8.4583          NaN        Q  \n",
        "6        0             17463   51.8625          E46        S  \n",
        "7        1            349909   21.0750          NaN        S  \n",
        "8        2            347742   11.1333          NaN        S  \n",
        "9        0            237736   30.0708          NaN        C  \n",
        "10       1           PP 9549   16.7000           G6        S  \n",
        "11       0            113783   26.5500         C103        S  \n",
        "12       0         A/5. 2151    8.0500          NaN        S  \n",
        "13       5            347082   31.2750          NaN        S  \n",
        "14       0            350406    7.8542          NaN        S  \n",
        "15       0            248706   16.0000          NaN        S  \n",
        "16       1            382652   29.1250          NaN        Q  \n",
        "17       0            244373   13.0000          NaN        S  \n",
        "18       0            345763   18.0000          NaN        S  \n",
        "19       0              2649    7.2250          NaN        C  \n",
        "20       0            239865   26.0000          NaN        S  \n",
        "21       0            248698   13.0000          D56        S  \n",
        "22       0            330923    8.0292          NaN        Q  \n",
        "23       0            113788   35.5000           A6        S  \n",
        "24       1            349909   21.0750          NaN        S  \n",
        "25       5            347077   31.3875          NaN        S  \n",
        "26       0              2631    7.2250          NaN        C  \n",
        "27       2             19950  263.0000  C23 C25 C27        S  \n",
        "28       0            330959    7.8792          NaN        Q  \n",
        "29       0            349216    7.8958          NaN        S  \n",
        "..     ...               ...       ...          ...      ...  \n",
        "861      0             28134   11.5000          NaN        S  \n",
        "862      0             17466   25.9292          D17        S  \n",
        "863      2          CA. 2343   69.5500          NaN        S  \n",
        "864      0            233866   13.0000          NaN        S  \n",
        "865      0            236852   13.0000          NaN        S  \n",
        "866      0     SC/PARIS 2149   13.8583          NaN        C  \n",
        "867      0          PC 17590   50.4958          A24        S  \n",
        "868      0            345777    9.5000          NaN        S  \n",
        "869      1            347742   11.1333          NaN        S  \n",
        "870      0            349248    7.8958          NaN        S  \n",
        "871      1             11751   52.5542          D35        S  \n",
        "872      0               695    5.0000  B51 B53 B55        S  \n",
        "873      0            345765    9.0000          NaN        S  \n",
        "874      0         P/PP 3381   24.0000          NaN        C  \n",
        "875      0              2667    7.2250          NaN        C  \n",
        "876      0              7534    9.8458          NaN        S  \n",
        "877      0            349212    7.8958          NaN        S  \n",
        "878      0            349217    7.8958          NaN        S  \n",
        "879      1             11767   83.1583          C50        C  \n",
        "880      1            230433   26.0000          NaN        S  \n",
        "881      0            349257    7.8958          NaN        S  \n",
        "882      0              7552   10.5167          NaN        S  \n",
        "883      0  C.A./SOTON 34068   10.5000          NaN        S  \n",
        "884      0   SOTON/OQ 392076    7.0500          NaN        S  \n",
        "885      5            382652   29.1250          NaN        Q  \n",
        "886      0            211536   13.0000          NaN        S  \n",
        "887      0            112053   30.0000          B42        S  \n",
        "888      2        W./C. 6607   23.4500          NaN        S  \n",
        "889      0            111369   30.0000         C148        C  \n",
        "890      0            370376    7.7500          NaN        Q  \n",
        "\n",
        "[891 rows x 12 columns]\n"
       ]
      }
     ],
     "prompt_number": 33
    },
    {
     "cell_type": "markdown",
     "metadata": {},
     "source": [
      "Investigate the DataFrame (e.g., Check first 5 rows of data, data types and review any summary statistics)"
     ]
    },
    {
     "cell_type": "code",
     "collapsed": false,
     "input": [
      "dat.columns"
     ],
     "language": "python",
     "metadata": {},
     "outputs": [
      {
       "metadata": {},
       "output_type": "pyout",
       "prompt_number": 35,
       "text": [
        "Index([u'PassengerId', u'Survived', u'Pclass', u'Name', u'Sex', u'Age', u'SibSp', u'Parch', u'Ticket', u'Fare', u'Cabin', u'Embarked'], dtype='object')"
       ]
      }
     ],
     "prompt_number": 35
    },
    {
     "cell_type": "code",
     "collapsed": false,
     "input": [
      "dat.head()"
     ],
     "language": "python",
     "metadata": {},
     "outputs": [
      {
       "html": [
        "<div style=\"max-height:1000px;max-width:1500px;overflow:auto;\">\n",
        "<table border=\"1\" class=\"dataframe\">\n",
        "  <thead>\n",
        "    <tr style=\"text-align: right;\">\n",
        "      <th></th>\n",
        "      <th>PassengerId</th>\n",
        "      <th>Survived</th>\n",
        "      <th>Pclass</th>\n",
        "      <th>Name</th>\n",
        "      <th>Sex</th>\n",
        "      <th>Age</th>\n",
        "      <th>SibSp</th>\n",
        "      <th>Parch</th>\n",
        "      <th>Ticket</th>\n",
        "      <th>Fare</th>\n",
        "      <th>Cabin</th>\n",
        "      <th>Embarked</th>\n",
        "    </tr>\n",
        "  </thead>\n",
        "  <tbody>\n",
        "    <tr>\n",
        "      <th>0</th>\n",
        "      <td> 1</td>\n",
        "      <td> 0</td>\n",
        "      <td> 3</td>\n",
        "      <td>                           Braund, Mr. Owen Harris</td>\n",
        "      <td>   male</td>\n",
        "      <td> 22</td>\n",
        "      <td> 1</td>\n",
        "      <td> 0</td>\n",
        "      <td>        A/5 21171</td>\n",
        "      <td>  7.2500</td>\n",
        "      <td>  NaN</td>\n",
        "      <td> S</td>\n",
        "    </tr>\n",
        "    <tr>\n",
        "      <th>1</th>\n",
        "      <td> 2</td>\n",
        "      <td> 1</td>\n",
        "      <td> 1</td>\n",
        "      <td> Cumings, Mrs. John Bradley (Florence Briggs Th...</td>\n",
        "      <td> female</td>\n",
        "      <td> 38</td>\n",
        "      <td> 1</td>\n",
        "      <td> 0</td>\n",
        "      <td>         PC 17599</td>\n",
        "      <td> 71.2833</td>\n",
        "      <td>  C85</td>\n",
        "      <td> C</td>\n",
        "    </tr>\n",
        "    <tr>\n",
        "      <th>2</th>\n",
        "      <td> 3</td>\n",
        "      <td> 1</td>\n",
        "      <td> 3</td>\n",
        "      <td>                            Heikkinen, Miss. Laina</td>\n",
        "      <td> female</td>\n",
        "      <td> 26</td>\n",
        "      <td> 0</td>\n",
        "      <td> 0</td>\n",
        "      <td> STON/O2. 3101282</td>\n",
        "      <td>  7.9250</td>\n",
        "      <td>  NaN</td>\n",
        "      <td> S</td>\n",
        "    </tr>\n",
        "    <tr>\n",
        "      <th>3</th>\n",
        "      <td> 4</td>\n",
        "      <td> 1</td>\n",
        "      <td> 1</td>\n",
        "      <td>      Futrelle, Mrs. Jacques Heath (Lily May Peel)</td>\n",
        "      <td> female</td>\n",
        "      <td> 35</td>\n",
        "      <td> 1</td>\n",
        "      <td> 0</td>\n",
        "      <td>           113803</td>\n",
        "      <td> 53.1000</td>\n",
        "      <td> C123</td>\n",
        "      <td> S</td>\n",
        "    </tr>\n",
        "    <tr>\n",
        "      <th>4</th>\n",
        "      <td> 5</td>\n",
        "      <td> 0</td>\n",
        "      <td> 3</td>\n",
        "      <td>                          Allen, Mr. William Henry</td>\n",
        "      <td>   male</td>\n",
        "      <td> 35</td>\n",
        "      <td> 0</td>\n",
        "      <td> 0</td>\n",
        "      <td>           373450</td>\n",
        "      <td>  8.0500</td>\n",
        "      <td>  NaN</td>\n",
        "      <td> S</td>\n",
        "    </tr>\n",
        "  </tbody>\n",
        "</table>\n",
        "</div>"
       ],
       "metadata": {},
       "output_type": "pyout",
       "prompt_number": 37,
       "text": [
        "   PassengerId  Survived  Pclass  \\\n",
        "0            1         0       3   \n",
        "1            2         1       1   \n",
        "2            3         1       3   \n",
        "3            4         1       1   \n",
        "4            5         0       3   \n",
        "\n",
        "                                                Name     Sex  Age  SibSp  \\\n",
        "0                            Braund, Mr. Owen Harris    male   22      1   \n",
        "1  Cumings, Mrs. John Bradley (Florence Briggs Th...  female   38      1   \n",
        "2                             Heikkinen, Miss. Laina  female   26      0   \n",
        "3       Futrelle, Mrs. Jacques Heath (Lily May Peel)  female   35      1   \n",
        "4                           Allen, Mr. William Henry    male   35      0   \n",
        "\n",
        "   Parch            Ticket     Fare Cabin Embarked  \n",
        "0      0         A/5 21171   7.2500   NaN        S  \n",
        "1      0          PC 17599  71.2833   C85        C  \n",
        "2      0  STON/O2. 3101282   7.9250   NaN        S  \n",
        "3      0            113803  53.1000  C123        S  \n",
        "4      0            373450   8.0500   NaN        S  "
       ]
      }
     ],
     "prompt_number": 37
    },
    {
     "cell_type": "code",
     "collapsed": false,
     "input": [
      "dat.info()"
     ],
     "language": "python",
     "metadata": {},
     "outputs": [
      {
       "output_type": "stream",
       "stream": "stdout",
       "text": [
        "<class 'pandas.core.frame.DataFrame'>\n",
        "Int64Index: 891 entries, 0 to 890\n",
        "Data columns (total 12 columns):\n",
        "PassengerId    891 non-null int64\n",
        "Survived       891 non-null int64\n",
        "Pclass         891 non-null int64\n",
        "Name           891 non-null object\n",
        "Sex            891 non-null object\n",
        "Age            714 non-null float64\n",
        "SibSp          891 non-null int64\n",
        "Parch          891 non-null int64\n",
        "Ticket         891 non-null object\n",
        "Fare           891 non-null float64\n",
        "Cabin          204 non-null object\n",
        "Embarked       889 non-null object\n",
        "dtypes: float64(2), int64(5), object(5)"
       ]
      }
     ],
     "prompt_number": 38
    },
    {
     "cell_type": "code",
     "collapsed": false,
     "input": [
      "dat.describe()"
     ],
     "language": "python",
     "metadata": {},
     "outputs": [
      {
       "html": [
        "<div style=\"max-height:1000px;max-width:1500px;overflow:auto;\">\n",
        "<table border=\"1\" class=\"dataframe\">\n",
        "  <thead>\n",
        "    <tr style=\"text-align: right;\">\n",
        "      <th></th>\n",
        "      <th>PassengerId</th>\n",
        "      <th>Survived</th>\n",
        "      <th>Pclass</th>\n",
        "      <th>Age</th>\n",
        "      <th>SibSp</th>\n",
        "      <th>Parch</th>\n",
        "      <th>Fare</th>\n",
        "    </tr>\n",
        "  </thead>\n",
        "  <tbody>\n",
        "    <tr>\n",
        "      <th>count</th>\n",
        "      <td> 891.000000</td>\n",
        "      <td> 891.000000</td>\n",
        "      <td> 891.000000</td>\n",
        "      <td> 714.000000</td>\n",
        "      <td> 891.000000</td>\n",
        "      <td> 891.000000</td>\n",
        "      <td> 891.000000</td>\n",
        "    </tr>\n",
        "    <tr>\n",
        "      <th>mean</th>\n",
        "      <td> 446.000000</td>\n",
        "      <td>   0.383838</td>\n",
        "      <td>   2.308642</td>\n",
        "      <td>  29.699118</td>\n",
        "      <td>   0.523008</td>\n",
        "      <td>   0.381594</td>\n",
        "      <td>  32.204208</td>\n",
        "    </tr>\n",
        "    <tr>\n",
        "      <th>std</th>\n",
        "      <td> 257.353842</td>\n",
        "      <td>   0.486592</td>\n",
        "      <td>   0.836071</td>\n",
        "      <td>  14.526497</td>\n",
        "      <td>   1.102743</td>\n",
        "      <td>   0.806057</td>\n",
        "      <td>  49.693429</td>\n",
        "    </tr>\n",
        "    <tr>\n",
        "      <th>min</th>\n",
        "      <td>   1.000000</td>\n",
        "      <td>   0.000000</td>\n",
        "      <td>   1.000000</td>\n",
        "      <td>   0.420000</td>\n",
        "      <td>   0.000000</td>\n",
        "      <td>   0.000000</td>\n",
        "      <td>   0.000000</td>\n",
        "    </tr>\n",
        "    <tr>\n",
        "      <th>25%</th>\n",
        "      <td> 223.500000</td>\n",
        "      <td>   0.000000</td>\n",
        "      <td>   2.000000</td>\n",
        "      <td>  20.125000</td>\n",
        "      <td>   0.000000</td>\n",
        "      <td>   0.000000</td>\n",
        "      <td>   7.910400</td>\n",
        "    </tr>\n",
        "    <tr>\n",
        "      <th>50%</th>\n",
        "      <td> 446.000000</td>\n",
        "      <td>   0.000000</td>\n",
        "      <td>   3.000000</td>\n",
        "      <td>  28.000000</td>\n",
        "      <td>   0.000000</td>\n",
        "      <td>   0.000000</td>\n",
        "      <td>  14.454200</td>\n",
        "    </tr>\n",
        "    <tr>\n",
        "      <th>75%</th>\n",
        "      <td> 668.500000</td>\n",
        "      <td>   1.000000</td>\n",
        "      <td>   3.000000</td>\n",
        "      <td>  38.000000</td>\n",
        "      <td>   1.000000</td>\n",
        "      <td>   0.000000</td>\n",
        "      <td>  31.000000</td>\n",
        "    </tr>\n",
        "    <tr>\n",
        "      <th>max</th>\n",
        "      <td> 891.000000</td>\n",
        "      <td>   1.000000</td>\n",
        "      <td>   3.000000</td>\n",
        "      <td>  80.000000</td>\n",
        "      <td>   8.000000</td>\n",
        "      <td>   6.000000</td>\n",
        "      <td> 512.329200</td>\n",
        "    </tr>\n",
        "  </tbody>\n",
        "</table>\n",
        "</div>"
       ],
       "metadata": {},
       "output_type": "pyout",
       "prompt_number": 73,
       "text": [
        "       PassengerId    Survived      Pclass         Age       SibSp  \\\n",
        "count   891.000000  891.000000  891.000000  714.000000  891.000000   \n",
        "mean    446.000000    0.383838    2.308642   29.699118    0.523008   \n",
        "std     257.353842    0.486592    0.836071   14.526497    1.102743   \n",
        "min       1.000000    0.000000    1.000000    0.420000    0.000000   \n",
        "25%     223.500000    0.000000    2.000000   20.125000    0.000000   \n",
        "50%     446.000000    0.000000    3.000000   28.000000    0.000000   \n",
        "75%     668.500000    1.000000    3.000000   38.000000    1.000000   \n",
        "max     891.000000    1.000000    3.000000   80.000000    8.000000   \n",
        "\n",
        "            Parch        Fare  \n",
        "count  891.000000  891.000000  \n",
        "mean     0.381594   32.204208  \n",
        "std      0.806057   49.693429  \n",
        "min      0.000000    0.000000  \n",
        "25%      0.000000    7.910400  \n",
        "50%      0.000000   14.454200  \n",
        "75%      0.000000   31.000000  \n",
        "max      6.000000  512.329200  "
       ]
      }
     ],
     "prompt_number": 73
    },
    {
     "cell_type": "markdown",
     "metadata": {},
     "source": [
      "What was the survival rate for men over the age of 50 in first class?"
     ]
    },
    {
     "cell_type": "code",
     "collapsed": false,
     "input": [
      "print dat.Survived[(dat.Sex =='male') & (dat.Age>=50) & (dat.Pclass==1)].mean()"
     ],
     "language": "python",
     "metadata": {},
     "outputs": [
      {
       "output_type": "stream",
       "stream": "stdout",
       "text": [
        "0.206896551724\n"
       ]
      }
     ],
     "prompt_number": 74
    },
    {
     "cell_type": "markdown",
     "metadata": {},
     "source": [
      "Using groupby, calculate the average survival rate and age by combination of Sex and Pclass"
     ]
    },
    {
     "cell_type": "code",
     "collapsed": false,
     "input": [
      "subDat=dat.groupby('Sex')[['Survived','Age', 'Pclass']].mean()\n",
      "subDat.reset_index(inplace=True)\n",
      "print subDat"
     ],
     "language": "python",
     "metadata": {},
     "outputs": [
      {
       "output_type": "stream",
       "stream": "stdout",
       "text": [
        "      Sex  Survived        Age    Pclass\n",
        "0  female  0.742038  27.915709  2.159236\n",
        "1    male  0.188908  30.726645  2.389948\n"
       ]
      }
     ],
     "prompt_number": 49
    },
    {
     "cell_type": "code",
     "collapsed": false,
     "input": [
      "dat.groupby(['Sex','Pclass'])['Survived','Age'].mean()"
     ],
     "language": "python",
     "metadata": {},
     "outputs": [
      {
       "html": [
        "<div style=\"max-height:1000px;max-width:1500px;overflow:auto;\">\n",
        "<table border=\"1\" class=\"dataframe\">\n",
        "  <thead>\n",
        "    <tr style=\"text-align: right;\">\n",
        "      <th></th>\n",
        "      <th></th>\n",
        "      <th>Survived</th>\n",
        "      <th>Age</th>\n",
        "    </tr>\n",
        "    <tr>\n",
        "      <th>Sex</th>\n",
        "      <th>Pclass</th>\n",
        "      <th></th>\n",
        "      <th></th>\n",
        "    </tr>\n",
        "  </thead>\n",
        "  <tbody>\n",
        "    <tr>\n",
        "      <th rowspan=\"3\" valign=\"top\">female</th>\n",
        "      <th>1</th>\n",
        "      <td> 0.968085</td>\n",
        "      <td> 34.611765</td>\n",
        "    </tr>\n",
        "    <tr>\n",
        "      <th>2</th>\n",
        "      <td> 0.921053</td>\n",
        "      <td> 28.722973</td>\n",
        "    </tr>\n",
        "    <tr>\n",
        "      <th>3</th>\n",
        "      <td> 0.500000</td>\n",
        "      <td> 21.750000</td>\n",
        "    </tr>\n",
        "    <tr>\n",
        "      <th rowspan=\"3\" valign=\"top\">male</th>\n",
        "      <th>1</th>\n",
        "      <td> 0.368852</td>\n",
        "      <td> 41.281386</td>\n",
        "    </tr>\n",
        "    <tr>\n",
        "      <th>2</th>\n",
        "      <td> 0.157407</td>\n",
        "      <td> 30.740707</td>\n",
        "    </tr>\n",
        "    <tr>\n",
        "      <th>3</th>\n",
        "      <td> 0.135447</td>\n",
        "      <td> 26.507589</td>\n",
        "    </tr>\n",
        "  </tbody>\n",
        "</table>\n",
        "</div>"
       ],
       "metadata": {},
       "output_type": "pyout",
       "prompt_number": 75,
       "text": [
        "               Survived        Age\n",
        "Sex    Pclass                     \n",
        "female 1       0.968085  34.611765\n",
        "       2       0.921053  28.722973\n",
        "       3       0.500000  21.750000\n",
        "male   1       0.368852  41.281386\n",
        "       2       0.157407  30.740707\n",
        "       3       0.135447  26.507589"
       ]
      }
     ],
     "prompt_number": 75
    },
    {
     "cell_type": "code",
     "collapsed": false,
     "input": [
      "# average survival rate for females and males \n",
      "dat.groupby('Sex')[['Survived']].mean()"
     ],
     "language": "python",
     "metadata": {},
     "outputs": [
      {
       "html": [
        "<div style=\"max-height:1000px;max-width:1500px;overflow:auto;\">\n",
        "<table border=\"1\" class=\"dataframe\">\n",
        "  <thead>\n",
        "    <tr style=\"text-align: right;\">\n",
        "      <th></th>\n",
        "      <th>Survived</th>\n",
        "    </tr>\n",
        "    <tr>\n",
        "      <th>Sex</th>\n",
        "      <th></th>\n",
        "    </tr>\n",
        "  </thead>\n",
        "  <tbody>\n",
        "    <tr>\n",
        "      <th>female</th>\n",
        "      <td> 0.742038</td>\n",
        "    </tr>\n",
        "    <tr>\n",
        "      <th>male</th>\n",
        "      <td> 0.188908</td>\n",
        "    </tr>\n",
        "  </tbody>\n",
        "</table>\n",
        "</div>"
       ],
       "metadata": {},
       "output_type": "pyout",
       "prompt_number": 46,
       "text": [
        "        Survived\n",
        "Sex             \n",
        "female  0.742038\n",
        "male    0.188908"
       ]
      }
     ],
     "prompt_number": 46
    },
    {
     "cell_type": "markdown",
     "metadata": {},
     "source": [
      "What was the name of the oldest survivor?  (Hint: use sort)"
     ]
    },
    {
     "cell_type": "code",
     "collapsed": false,
     "input": [
      "AgeSort=dat[dat.Survived ==1].sort('Age', ascending=False)\n",
      "AgeSort.head()"
     ],
     "language": "python",
     "metadata": {},
     "outputs": [
      {
       "html": [
        "<div style=\"max-height:1000px;max-width:1500px;overflow:auto;\">\n",
        "<table border=\"1\" class=\"dataframe\">\n",
        "  <thead>\n",
        "    <tr style=\"text-align: right;\">\n",
        "      <th></th>\n",
        "      <th>PassengerId</th>\n",
        "      <th>Survived</th>\n",
        "      <th>Pclass</th>\n",
        "      <th>Name</th>\n",
        "      <th>Sex</th>\n",
        "      <th>Age</th>\n",
        "      <th>SibSp</th>\n",
        "      <th>Parch</th>\n",
        "      <th>Ticket</th>\n",
        "      <th>Fare</th>\n",
        "      <th>Cabin</th>\n",
        "      <th>Embarked</th>\n",
        "    </tr>\n",
        "  </thead>\n",
        "  <tbody>\n",
        "    <tr>\n",
        "      <th>630</th>\n",
        "      <td> 631</td>\n",
        "      <td> 1</td>\n",
        "      <td> 1</td>\n",
        "      <td>      Barkworth, Mr. Algernon Henry Wilson</td>\n",
        "      <td>   male</td>\n",
        "      <td> 80</td>\n",
        "      <td> 0</td>\n",
        "      <td> 0</td>\n",
        "      <td>       27042</td>\n",
        "      <td> 30.0000</td>\n",
        "      <td> A23</td>\n",
        "      <td>   S</td>\n",
        "    </tr>\n",
        "    <tr>\n",
        "      <th>275</th>\n",
        "      <td> 276</td>\n",
        "      <td> 1</td>\n",
        "      <td> 1</td>\n",
        "      <td>         Andrews, Miss. Kornelia Theodosia</td>\n",
        "      <td> female</td>\n",
        "      <td> 63</td>\n",
        "      <td> 1</td>\n",
        "      <td> 0</td>\n",
        "      <td>       13502</td>\n",
        "      <td> 77.9583</td>\n",
        "      <td>  D7</td>\n",
        "      <td>   S</td>\n",
        "    </tr>\n",
        "    <tr>\n",
        "      <th>483</th>\n",
        "      <td> 484</td>\n",
        "      <td> 1</td>\n",
        "      <td> 3</td>\n",
        "      <td>                    Turkula, Mrs. (Hedwig)</td>\n",
        "      <td> female</td>\n",
        "      <td> 63</td>\n",
        "      <td> 0</td>\n",
        "      <td> 0</td>\n",
        "      <td>        4134</td>\n",
        "      <td>  9.5875</td>\n",
        "      <td> NaN</td>\n",
        "      <td>   S</td>\n",
        "    </tr>\n",
        "    <tr>\n",
        "      <th>829</th>\n",
        "      <td> 830</td>\n",
        "      <td> 1</td>\n",
        "      <td> 1</td>\n",
        "      <td> Stone, Mrs. George Nelson (Martha Evelyn)</td>\n",
        "      <td> female</td>\n",
        "      <td> 62</td>\n",
        "      <td> 0</td>\n",
        "      <td> 0</td>\n",
        "      <td>      113572</td>\n",
        "      <td> 80.0000</td>\n",
        "      <td> B28</td>\n",
        "      <td> NaN</td>\n",
        "    </tr>\n",
        "    <tr>\n",
        "      <th>570</th>\n",
        "      <td> 571</td>\n",
        "      <td> 1</td>\n",
        "      <td> 2</td>\n",
        "      <td>                        Harris, Mr. George</td>\n",
        "      <td>   male</td>\n",
        "      <td> 62</td>\n",
        "      <td> 0</td>\n",
        "      <td> 0</td>\n",
        "      <td> S.W./PP 752</td>\n",
        "      <td> 10.5000</td>\n",
        "      <td> NaN</td>\n",
        "      <td>   S</td>\n",
        "    </tr>\n",
        "  </tbody>\n",
        "</table>\n",
        "</div>"
       ],
       "metadata": {},
       "output_type": "pyout",
       "prompt_number": 77,
       "text": [
        "     PassengerId  Survived  Pclass                                       Name  \\\n",
        "630          631         1       1       Barkworth, Mr. Algernon Henry Wilson   \n",
        "275          276         1       1          Andrews, Miss. Kornelia Theodosia   \n",
        "483          484         1       3                     Turkula, Mrs. (Hedwig)   \n",
        "829          830         1       1  Stone, Mrs. George Nelson (Martha Evelyn)   \n",
        "570          571         1       2                         Harris, Mr. George   \n",
        "\n",
        "        Sex  Age  SibSp  Parch       Ticket     Fare Cabin Embarked  \n",
        "630    male   80      0      0        27042  30.0000   A23        S  \n",
        "275  female   63      1      0        13502  77.9583    D7        S  \n",
        "483  female   63      0      0         4134   9.5875   NaN        S  \n",
        "829  female   62      0      0       113572  80.0000   B28      NaN  \n",
        "570    male   62      0      0  S.W./PP 752  10.5000   NaN        S  "
       ]
      }
     ],
     "prompt_number": 77
    },
    {
     "cell_type": "code",
     "collapsed": false,
     "input": [
      "print 'Oldest pasenger was '+AgeSort.Name.iloc[0]+', he was '+str(AgeSort.Age.iloc[0])+' years old'"
     ],
     "language": "python",
     "metadata": {},
     "outputs": [
      {
       "output_type": "stream",
       "stream": "stdout",
       "text": [
        "Oldest pasenger was Barkworth, Mr. Algernon Henry Wilson, he was 80.0 years old\n"
       ]
      }
     ],
     "prompt_number": 78
    },
    {
     "cell_type": "code",
     "collapsed": false,
     "input": [
      "print AgeSort.Age.iloc[0]"
     ],
     "language": "python",
     "metadata": {},
     "outputs": [
      {
       "output_type": "stream",
       "stream": "stdout",
       "text": [
        "80.0\n"
       ]
      }
     ],
     "prompt_number": 79
    },
    {
     "cell_type": "code",
     "collapsed": false,
     "input": [],
     "language": "python",
     "metadata": {},
     "outputs": []
    }
   ],
   "metadata": {}
  }
 ]
}
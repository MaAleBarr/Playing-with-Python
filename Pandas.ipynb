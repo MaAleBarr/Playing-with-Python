{
 "metadata": {
  "name": "",
  "signature": "sha256:a8c315b8401bb4e0512c0461811bf8a286d6b7f029d6e466043cac9a2b3d4550"
 },
 "nbformat": 3,
 "nbformat_minor": 0,
 "worksheets": [
  {
   "cells": [
    {
     "cell_type": "markdown",
     "metadata": {},
     "source": [
      "  # Python for Data Science Bootcamp\n",
      "  ## Introduction to Pandas "
     ]
    },
    {
     "cell_type": "markdown",
     "metadata": {},
     "source": [
      "Import the pandas package"
     ]
    },
    {
     "cell_type": "code",
     "collapsed": false,
     "input": [
      "import pandas as pd"
     ],
     "language": "python",
     "metadata": {},
     "outputs": [],
     "prompt_number": 2
    },
    {
     "cell_type": "markdown",
     "metadata": {},
     "source": [
      "Create a simple DataFrame"
     ]
    },
    {
     "cell_type": "code",
     "collapsed": false,
     "input": [
      "df=pd.DataFrame({'name':['Bob', 'Jen', 'Tim'], \n",
      "              'age': [20,30,40], \n",
      "              'pet':['cat','dog','bird']})\n",
      "print df"
     ],
     "language": "python",
     "metadata": {},
     "outputs": [
      {
       "output_type": "stream",
       "stream": "stdout",
       "text": [
        "   age name   pet\n",
        "0   20  Bob   cat\n",
        "1   30  Jen   dog\n",
        "2   40  Tim  bird\n"
       ]
      }
     ],
     "prompt_number": 39
    },
    {
     "cell_type": "markdown",
     "metadata": {},
     "source": [
      "View the column names and index values"
     ]
    },
    {
     "cell_type": "code",
     "collapsed": false,
     "input": [
      "print df.columns\n",
      "print df.index"
     ],
     "language": "python",
     "metadata": {},
     "outputs": [
      {
       "output_type": "stream",
       "stream": "stdout",
       "text": [
        "Index([u'age', u'name', u'pet'], dtype='object')\n",
        "Int64Index([0, 1, 2], dtype='int64')\n"
       ]
      }
     ],
     "prompt_number": 7
    },
    {
     "cell_type": "markdown",
     "metadata": {},
     "source": [
      "Select a column by name in 2 different ways"
     ]
    },
    {
     "cell_type": "code",
     "collapsed": false,
     "input": [
      "print df['name']\n",
      "print ' === ***** === '\n",
      "print df[\"name\"]\n",
      "print ' === ***** === '\n",
      "print df.name"
     ],
     "language": "python",
     "metadata": {},
     "outputs": [
      {
       "output_type": "stream",
       "stream": "stdout",
       "text": [
        "0    Bob\n",
        "1    Jen\n",
        "2    Tim\n",
        "Name: name, dtype: object\n",
        " === ***** === \n",
        "0    Bob\n",
        "1    Jen\n",
        "2    Tim\n",
        "Name: name, dtype: object\n",
        " === ***** === \n",
        "0    Bob\n",
        "1    Jen\n",
        "2    Tim\n",
        "Name: name, dtype: object\n"
       ]
      }
     ],
     "prompt_number": 12
    },
    {
     "cell_type": "markdown",
     "metadata": {},
     "source": [
      "Select multiple columns"
     ]
    },
    {
     "cell_type": "code",
     "collapsed": false,
     "input": [
      "print df[['name','pet']]"
     ],
     "language": "python",
     "metadata": {},
     "outputs": [
      {
       "output_type": "stream",
       "stream": "stdout",
       "text": [
        "  name   pet\n",
        "0  Bob   cat\n",
        "1  Jen   dog\n",
        "2  Tim  bird\n"
       ]
      }
     ],
     "prompt_number": 13
    },
    {
     "cell_type": "markdown",
     "metadata": {},
     "source": [
      "Select a row by index"
     ]
    },
    {
     "cell_type": "code",
     "collapsed": false,
     "input": [
      "print df.ix[0]"
     ],
     "language": "python",
     "metadata": {},
     "outputs": [
      {
       "output_type": "stream",
       "stream": "stdout",
       "text": [
        "age      20\n",
        "name    Bob\n",
        "pet     cat\n",
        "Name: 0, dtype: object\n"
       ]
      }
     ],
     "prompt_number": 14
    },
    {
     "cell_type": "markdown",
     "metadata": {},
     "source": [
      "Sort the data by name"
     ]
    },
    {
     "cell_type": "code",
     "collapsed": false,
     "input": [
      "df.sort('name', inplace=True)"
     ],
     "language": "python",
     "metadata": {},
     "outputs": [],
     "prompt_number": 17
    },
    {
     "cell_type": "markdown",
     "metadata": {},
     "source": [
      "View the index after the sort"
     ]
    },
    {
     "cell_type": "code",
     "collapsed": false,
     "input": [
      "print df"
     ],
     "language": "python",
     "metadata": {},
     "outputs": [
      {
       "output_type": "stream",
       "stream": "stdout",
       "text": [
        "   age name   pet\n",
        "0   20  Bob   cat\n",
        "1   30  Jen   dog\n",
        "2   40  Tim  bird\n"
       ]
      }
     ],
     "prompt_number": 18
    },
    {
     "cell_type": "markdown",
     "metadata": {},
     "source": [
      "Difference between ix and iloc"
     ]
    },
    {
     "cell_type": "code",
     "collapsed": false,
     "input": [
      "print df.iloc[0]\n",
      "print '====='\n",
      "print df.ix[0]"
     ],
     "language": "python",
     "metadata": {},
     "outputs": [
      {
       "output_type": "stream",
       "stream": "stdout",
       "text": [
        "age      20\n",
        "name    Bob\n",
        "pet     cat\n",
        "Name: 0, dtype: object\n",
        "=====\n",
        "age      20\n",
        "name    Bob\n",
        "pet     cat\n",
        "Name: 0, dtype: object\n"
       ]
      }
     ],
     "prompt_number": 28
    },
    {
     "cell_type": "markdown",
     "metadata": {},
     "source": [
      "Use iloc to select all rows of a column"
     ]
    },
    {
     "cell_type": "code",
     "collapsed": false,
     "input": [
      "print df.iloc[:,2]"
     ],
     "language": "python",
     "metadata": {},
     "outputs": [
      {
       "output_type": "stream",
       "stream": "stdout",
       "text": [
        "0     cat\n",
        "1     dog\n",
        "2    bird\n",
        "Name: pet, dtype: object\n"
       ]
      }
     ],
     "prompt_number": 29
    },
    {
     "cell_type": "markdown",
     "metadata": {},
     "source": [
      "Use iloc to select the last row"
     ]
    },
    {
     "cell_type": "code",
     "collapsed": false,
     "input": [
      "print df.iloc[-1:,]"
     ],
     "language": "python",
     "metadata": {},
     "outputs": [
      {
       "output_type": "stream",
       "stream": "stdout",
       "text": [
        "   age name   pet\n",
        "2   40  Tim  bird\n"
       ]
      }
     ],
     "prompt_number": 30
    },
    {
     "cell_type": "markdown",
     "metadata": {},
     "source": [
      "### Exercises"
     ]
    },
    {
     "cell_type": "code",
     "collapsed": false,
     "input": [
      "sales = [100,130,119,92,35]\n",
      "customer_account = ['B100','J101','X102','P103','R104']\n",
      "city = ['SF','NYC','LA','CHI','BOS']"
     ],
     "language": "python",
     "metadata": {},
     "outputs": [],
     "prompt_number": 36
    },
    {
     "cell_type": "markdown",
     "metadata": {},
     "source": [
      "Create a DataFrame with the data above"
     ]
    },
    {
     "cell_type": "code",
     "collapsed": false,
     "input": [
      "dat=pd.DataFrame({'sales': sales, 'cstmr_accnt': customer_account,'city':city})"
     ],
     "language": "python",
     "metadata": {},
     "outputs": [],
     "prompt_number": 43
    },
    {
     "cell_type": "markdown",
     "metadata": {},
     "source": [
      "What is the name of the first column?"
     ]
    },
    {
     "cell_type": "code",
     "collapsed": false,
     "input": [
      "print dat.columns[0]"
     ],
     "language": "python",
     "metadata": {},
     "outputs": [
      {
       "output_type": "stream",
       "stream": "stdout",
       "text": [
        "city\n"
       ]
      }
     ],
     "prompt_number": 64
    },
    {
     "cell_type": "code",
     "collapsed": false,
     "input": [
      "print dat.iloc[:,0]"
     ],
     "language": "python",
     "metadata": {},
     "outputs": [
      {
       "output_type": "stream",
       "stream": "stdout",
       "text": [
        "0     SF\n",
        "1    NYC\n",
        "2     LA\n",
        "3    CHI\n",
        "4    BOS\n",
        "Name: city, dtype: object\n"
       ]
      }
     ],
     "prompt_number": 63
    },
    {
     "cell_type": "code",
     "collapsed": false,
     "input": [
      "print dat.columns"
     ],
     "language": "python",
     "metadata": {},
     "outputs": [
      {
       "output_type": "stream",
       "stream": "stdout",
       "text": [
        "Index([u'city', u'cstmr_accnt', u'sales'], dtype='object')\n"
       ]
      }
     ],
     "prompt_number": 67
    },
    {
     "cell_type": "code",
     "collapsed": false,
     "input": [
      "print dat"
     ],
     "language": "python",
     "metadata": {},
     "outputs": [
      {
       "output_type": "stream",
       "stream": "stdout",
       "text": [
        "  city cstmr_accnt  sales\n",
        "0   SF        B100    100\n",
        "1  NYC        J101    130\n",
        "2   LA        X102    119\n",
        "3  CHI        P103     92\n",
        "4  BOS        R104     35\n"
       ]
      }
     ],
     "prompt_number": 52
    },
    {
     "cell_type": "markdown",
     "metadata": {},
     "source": [
      "Sort the DataFrame by city in descending order (check the documentation for sort)"
     ]
    },
    {
     "cell_type": "code",
     "collapsed": false,
     "input": [
      "dat.sort('city', inplace=True, ascending=False)"
     ],
     "language": "python",
     "metadata": {},
     "outputs": [],
     "prompt_number": 61
    },
    {
     "cell_type": "markdown",
     "metadata": {},
     "source": [
      "Which customer is in the last row of the DataFrame?"
     ]
    },
    {
     "cell_type": "code",
     "collapsed": false,
     "input": [
      "print df.iloc[-1,:]"
     ],
     "language": "python",
     "metadata": {},
     "outputs": [
      {
       "output_type": "stream",
       "stream": "stdout",
       "text": [
        "age       40\n",
        "name     Tim\n",
        "pet     bird\n",
        "Name: 2, dtype: object\n"
       ]
      }
     ],
     "prompt_number": 62
    },
    {
     "cell_type": "code",
     "collapsed": false,
     "input": [
      "print df.iloc[-1,:]"
     ],
     "language": "python",
     "metadata": {},
     "outputs": []
    },
    {
     "cell_type": "markdown",
     "metadata": {},
     "source": [
      "## Importing and Exporting Data with Pandas"
     ]
    },
    {
     "cell_type": "markdown",
     "metadata": {},
     "source": [
      "#### Reading and Writing CSV Files"
     ]
    },
    {
     "cell_type": "markdown",
     "metadata": {},
     "source": [
      "Open the test_pandas.csv file as a dataframe"
     ]
    },
    {
     "cell_type": "code",
     "collapsed": false,
     "input": [
      "# needs variable to set\n",
      "# if not in directory, just add file path\n",
      "data=pd.read_csv('test_pandas.csv')\n",
      "print data"
     ],
     "language": "python",
     "metadata": {},
     "outputs": [
      {
       "output_type": "stream",
       "stream": "stdout",
       "text": [
        "   Column A Column B  Column C\n",
        "0         1      cat       1.1\n",
        "1         2      dog       2.2\n",
        "2         3     bird       3.3\n"
       ]
      }
     ],
     "prompt_number": 3
    },
    {
     "cell_type": "markdown",
     "metadata": {},
     "source": [
      "Write the data to a csv file without the headers"
     ]
    },
    {
     "cell_type": "code",
     "collapsed": false,
     "input": [
      "data.to_csv('test_pandas_no_header.csv', header=False, index=True)"
     ],
     "language": "python",
     "metadata": {},
     "outputs": [],
     "prompt_number": 9
    },
    {
     "cell_type": "markdown",
     "metadata": {},
     "source": [
      "Open the test_pandas_no_header.csv file"
     ]
    },
    {
     "cell_type": "code",
     "collapsed": false,
     "input": [
      "data_no_header=pd.read_csv('test_pandas_no_header.csv')\n",
      "print data"
     ],
     "language": "python",
     "metadata": {},
     "outputs": [
      {
       "output_type": "stream",
       "stream": "stdout",
       "text": [
        "   Column A Column B  Column C\n",
        "0         1      cat       1.1\n",
        "1         2      dog       2.2\n",
        "2         3     bird       3.3\n"
       ]
      }
     ],
     "prompt_number": 10
    },
    {
     "cell_type": "markdown",
     "metadata": {},
     "source": [
      "Try opening the file with header set to None"
     ]
    },
    {
     "cell_type": "code",
     "collapsed": false,
     "input": [
      "data_no_header=pd.read_csv('test_pandas_no_header.csv', header=None)\n",
      "print data"
     ],
     "language": "python",
     "metadata": {},
     "outputs": [
      {
       "output_type": "stream",
       "stream": "stdout",
       "text": [
        "   Column A Column B  Column C\n",
        "0         1      cat       1.1\n",
        "1         2      dog       2.2\n",
        "2         3     bird       3.3\n"
       ]
      }
     ],
     "prompt_number": 11
    },
    {
     "cell_type": "markdown",
     "metadata": {},
     "source": [
      "####Reading and writing Excel files"
     ]
    },
    {
     "cell_type": "markdown",
     "metadata": {},
     "source": [
      "Reading Excel files is similar.  Just add worksheet you want to read."
     ]
    },
    {
     "cell_type": "code",
     "collapsed": false,
     "input": [
      "data=pd.read_excel('test_pandas.xlsm', 'Sheet1')"
     ],
     "language": "python",
     "metadata": {},
     "outputs": [],
     "prompt_number": 12
    },
    {
     "cell_type": "markdown",
     "metadata": {},
     "source": [
      "For writing to an Excel file, you need to use a writer object.  This enables you to save multiple dataframes as separate sheets in the same file.  File doesn't get created until you save."
     ]
    },
    {
     "cell_type": "code",
     "collapsed": false,
     "input": [
      "writer=pd.ExcelWriter('test_sheets.xlsm')\n",
      "data.to_excel(writer,'Original')\n",
      "data.to_excel(writer,'Copy')\n",
      "writer.save()"
     ],
     "language": "python",
     "metadata": {},
     "outputs": [],
     "prompt_number": 14
    },
    {
     "cell_type": "markdown",
     "metadata": {},
     "source": [
      "####Reading and writing SQL"
     ]
    },
    {
     "cell_type": "markdown",
     "metadata": {},
     "source": [
      "To read and write to SQL you need to establish a connection to a database.  Each type of database is different, so you'll have to do some research to find the exact code for your version of SQL.  Here is an example for sqlite."
     ]
    },
    {
     "cell_type": "code",
     "collapsed": false,
     "input": [
      "import sqlite3\n",
      "conn=sqlite3.connect('test_pandas.db')"
     ],
     "language": "python",
     "metadata": {},
     "outputs": [],
     "prompt_number": 23
    },
    {
     "cell_type": "markdown",
     "metadata": {},
     "source": [
      "Use the connection for importing a query as a DataFrame"
     ]
    },
    {
     "cell_type": "code",
     "collapsed": false,
     "input": [
      "sql_query=\"SELECT * FROM test\"\n",
      "data=pd.read_sql(sql_query,conn)\n",
      "print data"
     ],
     "language": "python",
     "metadata": {},
     "outputs": [
      {
       "output_type": "stream",
       "stream": "stdout",
       "text": [
        "   id           city    mascot\n",
        "0   1  San Francisco     49ers\n",
        "1   2        Oakland   Raiders\n",
        "2   3        Seattle  Seahawks\n"
       ]
      }
     ],
     "prompt_number": 24
    },
    {
     "cell_type": "markdown",
     "metadata": {},
     "source": [
      "Create new DataFrame to load into SQL Database"
     ]
    },
    {
     "cell_type": "code",
     "collapsed": false,
     "input": [
      "new_data=pd.DataFrame({\n",
      "'id':[4,5], \n",
      "'city':['Chicago', 'NYC'], \n",
      "'mascot':['Bears', 'Jets']})\n",
      "\n",
      "new_data=new_data[['id','city','mascot']]\n",
      "print new_data"
     ],
     "language": "python",
     "metadata": {},
     "outputs": [
      {
       "output_type": "stream",
       "stream": "stdout",
       "text": [
        "   id     city mascot\n",
        "0   4  Chicago  Bears\n",
        "1   5      NYC   Jets\n"
       ]
      }
     ],
     "prompt_number": 25
    },
    {
     "cell_type": "markdown",
     "metadata": {},
     "source": [
      "Create new table in SQL"
     ]
    },
    {
     "cell_type": "code",
     "collapsed": false,
     "input": [
      "new_data.to_sql('new_test',conn)"
     ],
     "language": "python",
     "metadata": {},
     "outputs": [],
     "prompt_number": 27
    },
    {
     "cell_type": "markdown",
     "metadata": {},
     "source": [
      "Append to existing table in SQL.  Ensure that column names need to match the names in the data table to which you're loading the information "
     ]
    },
    {
     "cell_type": "code",
     "collapsed": false,
     "input": [
      "new_data.to_sql('test',conn, if_exists='append', index=False)"
     ],
     "language": "python",
     "metadata": {},
     "outputs": [],
     "prompt_number": 30
    },
    {
     "cell_type": "markdown",
     "metadata": {},
     "source": [
      "Don't forget to close connection"
     ]
    },
    {
     "cell_type": "code",
     "collapsed": false,
     "input": [
      "conn.close()"
     ],
     "language": "python",
     "metadata": {},
     "outputs": [],
     "prompt_number": 31
    },
    {
     "cell_type": "markdown",
     "metadata": {},
     "source": [
      "## Exercises"
     ]
    },
    {
     "cell_type": "markdown",
     "metadata": {},
     "source": [
      "Imagine you have to create a daily report with the date at the end of the file.  (e.g., 'Sales 02-15-2015.csv').  Build a function that will automatically save a DataFrame using today's date in the filename. "
     ]
    },
    {
     "cell_type": "code",
     "collapsed": false,
     "input": [
      "import datetime as dt\n",
      "ts_now=dt.datetime.now()\n",
      "ts_now_str=dt.datetime.strftime(ts_now, \"%m-%d-%Y\")\n",
      "print ts_now_str"
     ],
     "language": "python",
     "metadata": {},
     "outputs": [
      {
       "output_type": "stream",
       "stream": "stdout",
       "text": [
        "02-08-2015\n"
       ]
      }
     ],
     "prompt_number": 38
    },
    {
     "cell_type": "code",
     "collapsed": false,
     "input": [
      "filename='Sales '+ ts_now_str+'.csv'\n",
      "print filename"
     ],
     "language": "python",
     "metadata": {},
     "outputs": [
      {
       "output_type": "stream",
       "stream": "stdout",
       "text": [
        "Sales 02-08-2015.csv\n"
       ]
      }
     ],
     "prompt_number": 43
    },
    {
     "cell_type": "code",
     "collapsed": false,
     "input": [
      "def CurrentFileWDate():\n",
      "    df=pd.DataFrame({'name':['Bob', 'Jen', 'Tim'], \n",
      "              'age': [20,30,40], \n",
      "              'pet':['cat','dog','bird']})\n",
      "    ts_now=dt.datetime.now()\n",
      "    ts_now_str=dt.datetime.strftime(ts_now, \"%m-%d-%Y\")\n",
      "    filename='Sales '+ ts_now_str+'.csv'\n",
      "    df.to_csv(filename, header=True, index=False)\n",
      "\n",
      "\n",
      "\n",
      "CurrentFileWDate() \n",
      "\n",
      "\n",
      "data_2=pd.read_csv('Sales 02-08-2015.csv')\n",
      "print data_2"
     ],
     "language": "python",
     "metadata": {},
     "outputs": [
      {
       "output_type": "stream",
       "stream": "stdout",
       "text": [
        "   age name   pet\n",
        "0   20  Bob   cat\n",
        "1   30  Jen   dog\n",
        "2   40  Tim  bird\n"
       ]
      }
     ],
     "prompt_number": 47
    },
    {
     "cell_type": "markdown",
     "metadata": {},
     "source": [
      "#### Bonus:  Write a program that dynamically creates queries using a range of dates, loads the queries into a dataframe and automatically saves the data as csv or excel files."
     ]
    },
    {
     "cell_type": "code",
     "collapsed": false,
     "input": [
      "# digamos que tenemos informatcion de : data, region, sales in total_sales\n",
      "\n",
      "# proceso de sql en general:\n",
      "# SELECT-q queremos ver, FROM-source of data, WHERE-conditions\n",
      "# SELECT- region, sales, FROM- total_sales, WHERE- region='WEST', DATE='15-Feb-2015'\n",
      "\n",
      "# mirar mas info sobre de sql "
     ],
     "language": "python",
     "metadata": {},
     "outputs": []
    },
    {
     "cell_type": "markdown",
     "metadata": {},
     "source": [
      "## Exploring Titanic Data Set with Pandas"
     ]
    },
    {
     "cell_type": "markdown",
     "metadata": {},
     "source": [
      "Import the pandas package"
     ]
    },
    {
     "cell_type": "code",
     "collapsed": false,
     "input": [
      "import pandas as pd"
     ],
     "language": "python",
     "metadata": {},
     "outputs": [],
     "prompt_number": 50
    },
    {
     "cell_type": "markdown",
     "metadata": {},
     "source": [
      "Load the train.csv file as a DataFrame"
     ]
    },
    {
     "cell_type": "code",
     "collapsed": false,
     "input": [
      "data=pd.read_csv('train.csv')"
     ],
     "language": "python",
     "metadata": {},
     "outputs": [],
     "prompt_number": 51
    },
    {
     "cell_type": "markdown",
     "metadata": {},
     "source": [
      "Investigate the first few rows of data"
     ]
    },
    {
     "cell_type": "code",
     "collapsed": false,
     "input": [
      "data.columns"
     ],
     "language": "python",
     "metadata": {},
     "outputs": [
      {
       "metadata": {},
       "output_type": "pyout",
       "prompt_number": 54,
       "text": [
        "Index([u'PassengerId', u'Survived', u'Pclass', u'Name', u'Sex', u'Age', u'SibSp', u'Parch', u'Ticket', u'Fare', u'Cabin', u'Embarked'], dtype='object')"
       ]
      }
     ],
     "prompt_number": 54
    },
    {
     "cell_type": "code",
     "collapsed": false,
     "input": [
      "data.head()"
     ],
     "language": "python",
     "metadata": {},
     "outputs": [
      {
       "html": [
        "<div style=\"max-height:1000px;max-width:1500px;overflow:auto;\">\n",
        "<table border=\"1\" class=\"dataframe\">\n",
        "  <thead>\n",
        "    <tr style=\"text-align: right;\">\n",
        "      <th></th>\n",
        "      <th>PassengerId</th>\n",
        "      <th>Survived</th>\n",
        "      <th>Pclass</th>\n",
        "      <th>Name</th>\n",
        "      <th>Sex</th>\n",
        "      <th>Age</th>\n",
        "      <th>SibSp</th>\n",
        "      <th>Parch</th>\n",
        "      <th>Ticket</th>\n",
        "      <th>Fare</th>\n",
        "      <th>Cabin</th>\n",
        "      <th>Embarked</th>\n",
        "    </tr>\n",
        "  </thead>\n",
        "  <tbody>\n",
        "    <tr>\n",
        "      <th>0</th>\n",
        "      <td> 1</td>\n",
        "      <td> 0</td>\n",
        "      <td> 3</td>\n",
        "      <td>                           Braund, Mr. Owen Harris</td>\n",
        "      <td>   male</td>\n",
        "      <td> 22</td>\n",
        "      <td> 1</td>\n",
        "      <td> 0</td>\n",
        "      <td>        A/5 21171</td>\n",
        "      <td>  7.2500</td>\n",
        "      <td>  NaN</td>\n",
        "      <td> S</td>\n",
        "    </tr>\n",
        "    <tr>\n",
        "      <th>1</th>\n",
        "      <td> 2</td>\n",
        "      <td> 1</td>\n",
        "      <td> 1</td>\n",
        "      <td> Cumings, Mrs. John Bradley (Florence Briggs Th...</td>\n",
        "      <td> female</td>\n",
        "      <td> 38</td>\n",
        "      <td> 1</td>\n",
        "      <td> 0</td>\n",
        "      <td>         PC 17599</td>\n",
        "      <td> 71.2833</td>\n",
        "      <td>  C85</td>\n",
        "      <td> C</td>\n",
        "    </tr>\n",
        "    <tr>\n",
        "      <th>2</th>\n",
        "      <td> 3</td>\n",
        "      <td> 1</td>\n",
        "      <td> 3</td>\n",
        "      <td>                            Heikkinen, Miss. Laina</td>\n",
        "      <td> female</td>\n",
        "      <td> 26</td>\n",
        "      <td> 0</td>\n",
        "      <td> 0</td>\n",
        "      <td> STON/O2. 3101282</td>\n",
        "      <td>  7.9250</td>\n",
        "      <td>  NaN</td>\n",
        "      <td> S</td>\n",
        "    </tr>\n",
        "    <tr>\n",
        "      <th>3</th>\n",
        "      <td> 4</td>\n",
        "      <td> 1</td>\n",
        "      <td> 1</td>\n",
        "      <td>      Futrelle, Mrs. Jacques Heath (Lily May Peel)</td>\n",
        "      <td> female</td>\n",
        "      <td> 35</td>\n",
        "      <td> 1</td>\n",
        "      <td> 0</td>\n",
        "      <td>           113803</td>\n",
        "      <td> 53.1000</td>\n",
        "      <td> C123</td>\n",
        "      <td> S</td>\n",
        "    </tr>\n",
        "    <tr>\n",
        "      <th>4</th>\n",
        "      <td> 5</td>\n",
        "      <td> 0</td>\n",
        "      <td> 3</td>\n",
        "      <td>                          Allen, Mr. William Henry</td>\n",
        "      <td>   male</td>\n",
        "      <td> 35</td>\n",
        "      <td> 0</td>\n",
        "      <td> 0</td>\n",
        "      <td>           373450</td>\n",
        "      <td>  8.0500</td>\n",
        "      <td>  NaN</td>\n",
        "      <td> S</td>\n",
        "    </tr>\n",
        "  </tbody>\n",
        "</table>\n",
        "</div>"
       ],
       "metadata": {},
       "output_type": "pyout",
       "prompt_number": 52,
       "text": [
        "   PassengerId  Survived  Pclass  \\\n",
        "0            1         0       3   \n",
        "1            2         1       1   \n",
        "2            3         1       3   \n",
        "3            4         1       1   \n",
        "4            5         0       3   \n",
        "\n",
        "                                                Name     Sex  Age  SibSp  \\\n",
        "0                            Braund, Mr. Owen Harris    male   22      1   \n",
        "1  Cumings, Mrs. John Bradley (Florence Briggs Th...  female   38      1   \n",
        "2                             Heikkinen, Miss. Laina  female   26      0   \n",
        "3       Futrelle, Mrs. Jacques Heath (Lily May Peel)  female   35      1   \n",
        "4                           Allen, Mr. William Henry    male   35      0   \n",
        "\n",
        "   Parch            Ticket     Fare Cabin Embarked  \n",
        "0      0         A/5 21171   7.2500   NaN        S  \n",
        "1      0          PC 17599  71.2833   C85        C  \n",
        "2      0  STON/O2. 3101282   7.9250   NaN        S  \n",
        "3      0            113803  53.1000  C123        S  \n",
        "4      0            373450   8.0500   NaN        S  "
       ]
      }
     ],
     "prompt_number": 52
    },
    {
     "cell_type": "markdown",
     "metadata": {},
     "source": [
      "Investigate the last 10 rows of data"
     ]
    },
    {
     "cell_type": "code",
     "collapsed": false,
     "input": [
      "# for both head and tail the default is 5 rows, but can change the number\n",
      "data.tail(10)"
     ],
     "language": "python",
     "metadata": {},
     "outputs": [
      {
       "html": [
        "<div style=\"max-height:1000px;max-width:1500px;overflow:auto;\">\n",
        "<table border=\"1\" class=\"dataframe\">\n",
        "  <thead>\n",
        "    <tr style=\"text-align: right;\">\n",
        "      <th></th>\n",
        "      <th>PassengerId</th>\n",
        "      <th>Survived</th>\n",
        "      <th>Pclass</th>\n",
        "      <th>Name</th>\n",
        "      <th>Sex</th>\n",
        "      <th>Age</th>\n",
        "      <th>SibSp</th>\n",
        "      <th>Parch</th>\n",
        "      <th>Ticket</th>\n",
        "      <th>Fare</th>\n",
        "      <th>Cabin</th>\n",
        "      <th>Embarked</th>\n",
        "    </tr>\n",
        "  </thead>\n",
        "  <tbody>\n",
        "    <tr>\n",
        "      <th>881</th>\n",
        "      <td> 882</td>\n",
        "      <td> 0</td>\n",
        "      <td> 3</td>\n",
        "      <td>                       Markun, Mr. Johann</td>\n",
        "      <td>   male</td>\n",
        "      <td> 33</td>\n",
        "      <td> 0</td>\n",
        "      <td> 0</td>\n",
        "      <td>           349257</td>\n",
        "      <td>  7.8958</td>\n",
        "      <td>  NaN</td>\n",
        "      <td> S</td>\n",
        "    </tr>\n",
        "    <tr>\n",
        "      <th>882</th>\n",
        "      <td> 883</td>\n",
        "      <td> 0</td>\n",
        "      <td> 3</td>\n",
        "      <td>             Dahlberg, Miss. Gerda Ulrika</td>\n",
        "      <td> female</td>\n",
        "      <td> 22</td>\n",
        "      <td> 0</td>\n",
        "      <td> 0</td>\n",
        "      <td>             7552</td>\n",
        "      <td> 10.5167</td>\n",
        "      <td>  NaN</td>\n",
        "      <td> S</td>\n",
        "    </tr>\n",
        "    <tr>\n",
        "      <th>883</th>\n",
        "      <td> 884</td>\n",
        "      <td> 0</td>\n",
        "      <td> 2</td>\n",
        "      <td>            Banfield, Mr. Frederick James</td>\n",
        "      <td>   male</td>\n",
        "      <td> 28</td>\n",
        "      <td> 0</td>\n",
        "      <td> 0</td>\n",
        "      <td> C.A./SOTON 34068</td>\n",
        "      <td> 10.5000</td>\n",
        "      <td>  NaN</td>\n",
        "      <td> S</td>\n",
        "    </tr>\n",
        "    <tr>\n",
        "      <th>884</th>\n",
        "      <td> 885</td>\n",
        "      <td> 0</td>\n",
        "      <td> 3</td>\n",
        "      <td>                   Sutehall, Mr. Henry Jr</td>\n",
        "      <td>   male</td>\n",
        "      <td> 25</td>\n",
        "      <td> 0</td>\n",
        "      <td> 0</td>\n",
        "      <td>  SOTON/OQ 392076</td>\n",
        "      <td>  7.0500</td>\n",
        "      <td>  NaN</td>\n",
        "      <td> S</td>\n",
        "    </tr>\n",
        "    <tr>\n",
        "      <th>885</th>\n",
        "      <td> 886</td>\n",
        "      <td> 0</td>\n",
        "      <td> 3</td>\n",
        "      <td>     Rice, Mrs. William (Margaret Norton)</td>\n",
        "      <td> female</td>\n",
        "      <td> 39</td>\n",
        "      <td> 0</td>\n",
        "      <td> 5</td>\n",
        "      <td>           382652</td>\n",
        "      <td> 29.1250</td>\n",
        "      <td>  NaN</td>\n",
        "      <td> Q</td>\n",
        "    </tr>\n",
        "    <tr>\n",
        "      <th>886</th>\n",
        "      <td> 887</td>\n",
        "      <td> 0</td>\n",
        "      <td> 2</td>\n",
        "      <td>                    Montvila, Rev. Juozas</td>\n",
        "      <td>   male</td>\n",
        "      <td> 27</td>\n",
        "      <td> 0</td>\n",
        "      <td> 0</td>\n",
        "      <td>           211536</td>\n",
        "      <td> 13.0000</td>\n",
        "      <td>  NaN</td>\n",
        "      <td> S</td>\n",
        "    </tr>\n",
        "    <tr>\n",
        "      <th>887</th>\n",
        "      <td> 888</td>\n",
        "      <td> 1</td>\n",
        "      <td> 1</td>\n",
        "      <td>             Graham, Miss. Margaret Edith</td>\n",
        "      <td> female</td>\n",
        "      <td> 19</td>\n",
        "      <td> 0</td>\n",
        "      <td> 0</td>\n",
        "      <td>           112053</td>\n",
        "      <td> 30.0000</td>\n",
        "      <td>  B42</td>\n",
        "      <td> S</td>\n",
        "    </tr>\n",
        "    <tr>\n",
        "      <th>888</th>\n",
        "      <td> 889</td>\n",
        "      <td> 0</td>\n",
        "      <td> 3</td>\n",
        "      <td> Johnston, Miss. Catherine Helen \"Carrie\"</td>\n",
        "      <td> female</td>\n",
        "      <td>NaN</td>\n",
        "      <td> 1</td>\n",
        "      <td> 2</td>\n",
        "      <td>       W./C. 6607</td>\n",
        "      <td> 23.4500</td>\n",
        "      <td>  NaN</td>\n",
        "      <td> S</td>\n",
        "    </tr>\n",
        "    <tr>\n",
        "      <th>889</th>\n",
        "      <td> 890</td>\n",
        "      <td> 1</td>\n",
        "      <td> 1</td>\n",
        "      <td>                    Behr, Mr. Karl Howell</td>\n",
        "      <td>   male</td>\n",
        "      <td> 26</td>\n",
        "      <td> 0</td>\n",
        "      <td> 0</td>\n",
        "      <td>           111369</td>\n",
        "      <td> 30.0000</td>\n",
        "      <td> C148</td>\n",
        "      <td> C</td>\n",
        "    </tr>\n",
        "    <tr>\n",
        "      <th>890</th>\n",
        "      <td> 891</td>\n",
        "      <td> 0</td>\n",
        "      <td> 3</td>\n",
        "      <td>                      Dooley, Mr. Patrick</td>\n",
        "      <td>   male</td>\n",
        "      <td> 32</td>\n",
        "      <td> 0</td>\n",
        "      <td> 0</td>\n",
        "      <td>           370376</td>\n",
        "      <td>  7.7500</td>\n",
        "      <td>  NaN</td>\n",
        "      <td> Q</td>\n",
        "    </tr>\n",
        "  </tbody>\n",
        "</table>\n",
        "</div>"
       ],
       "metadata": {},
       "output_type": "pyout",
       "prompt_number": 55,
       "text": [
        "     PassengerId  Survived  Pclass                                      Name  \\\n",
        "881          882         0       3                        Markun, Mr. Johann   \n",
        "882          883         0       3              Dahlberg, Miss. Gerda Ulrika   \n",
        "883          884         0       2             Banfield, Mr. Frederick James   \n",
        "884          885         0       3                    Sutehall, Mr. Henry Jr   \n",
        "885          886         0       3      Rice, Mrs. William (Margaret Norton)   \n",
        "886          887         0       2                     Montvila, Rev. Juozas   \n",
        "887          888         1       1              Graham, Miss. Margaret Edith   \n",
        "888          889         0       3  Johnston, Miss. Catherine Helen \"Carrie\"   \n",
        "889          890         1       1                     Behr, Mr. Karl Howell   \n",
        "890          891         0       3                       Dooley, Mr. Patrick   \n",
        "\n",
        "        Sex  Age  SibSp  Parch            Ticket     Fare Cabin Embarked  \n",
        "881    male   33      0      0            349257   7.8958   NaN        S  \n",
        "882  female   22      0      0              7552  10.5167   NaN        S  \n",
        "883    male   28      0      0  C.A./SOTON 34068  10.5000   NaN        S  \n",
        "884    male   25      0      0   SOTON/OQ 392076   7.0500   NaN        S  \n",
        "885  female   39      0      5            382652  29.1250   NaN        Q  \n",
        "886    male   27      0      0            211536  13.0000   NaN        S  \n",
        "887  female   19      0      0            112053  30.0000   B42        S  \n",
        "888  female  NaN      1      2        W./C. 6607  23.4500   NaN        S  \n",
        "889    male   26      0      0            111369  30.0000  C148        C  \n",
        "890    male   32      0      0            370376   7.7500   NaN        Q  "
       ]
      }
     ],
     "prompt_number": 55
    },
    {
     "cell_type": "markdown",
     "metadata": {},
     "source": [
      "Investigate the data types in the DataFrame"
     ]
    },
    {
     "cell_type": "code",
     "collapsed": false,
     "input": [
      "data.info()"
     ],
     "language": "python",
     "metadata": {},
     "outputs": [
      {
       "output_type": "stream",
       "stream": "stdout",
       "text": [
        "<class 'pandas.core.frame.DataFrame'>\n",
        "Int64Index: 891 entries, 0 to 890\n",
        "Data columns (total 12 columns):\n",
        "PassengerId    891 non-null int64\n",
        "Survived       891 non-null int64\n",
        "Pclass         891 non-null int64\n",
        "Name           891 non-null object\n",
        "Sex            891 non-null object\n",
        "Age            714 non-null float64\n",
        "SibSp          891 non-null int64\n",
        "Parch          891 non-null int64\n",
        "Ticket         891 non-null object\n",
        "Fare           891 non-null float64\n",
        "Cabin          204 non-null object\n",
        "Embarked       889 non-null object\n",
        "dtypes: float64(2), int64(5), object(5)"
       ]
      }
     ],
     "prompt_number": 56
    },
    {
     "cell_type": "heading",
     "level": 2,
     "metadata": {},
     "source": [
      "Get some summary statistics"
     ]
    },
    {
     "cell_type": "code",
     "collapsed": false,
     "input": [
      "# only applies describe to numeric values\n",
      "data.describe()"
     ],
     "language": "python",
     "metadata": {},
     "outputs": [
      {
       "html": [
        "<div style=\"max-height:1000px;max-width:1500px;overflow:auto;\">\n",
        "<table border=\"1\" class=\"dataframe\">\n",
        "  <thead>\n",
        "    <tr style=\"text-align: right;\">\n",
        "      <th></th>\n",
        "      <th>PassengerId</th>\n",
        "      <th>Survived</th>\n",
        "      <th>Pclass</th>\n",
        "      <th>Age</th>\n",
        "      <th>SibSp</th>\n",
        "      <th>Parch</th>\n",
        "      <th>Fare</th>\n",
        "    </tr>\n",
        "  </thead>\n",
        "  <tbody>\n",
        "    <tr>\n",
        "      <th>count</th>\n",
        "      <td> 891.000000</td>\n",
        "      <td> 891.000000</td>\n",
        "      <td> 891.000000</td>\n",
        "      <td> 714.000000</td>\n",
        "      <td> 891.000000</td>\n",
        "      <td> 891.000000</td>\n",
        "      <td> 891.000000</td>\n",
        "    </tr>\n",
        "    <tr>\n",
        "      <th>mean</th>\n",
        "      <td> 446.000000</td>\n",
        "      <td>   0.383838</td>\n",
        "      <td>   2.308642</td>\n",
        "      <td>  29.699118</td>\n",
        "      <td>   0.523008</td>\n",
        "      <td>   0.381594</td>\n",
        "      <td>  32.204208</td>\n",
        "    </tr>\n",
        "    <tr>\n",
        "      <th>std</th>\n",
        "      <td> 257.353842</td>\n",
        "      <td>   0.486592</td>\n",
        "      <td>   0.836071</td>\n",
        "      <td>  14.526497</td>\n",
        "      <td>   1.102743</td>\n",
        "      <td>   0.806057</td>\n",
        "      <td>  49.693429</td>\n",
        "    </tr>\n",
        "    <tr>\n",
        "      <th>min</th>\n",
        "      <td>   1.000000</td>\n",
        "      <td>   0.000000</td>\n",
        "      <td>   1.000000</td>\n",
        "      <td>   0.420000</td>\n",
        "      <td>   0.000000</td>\n",
        "      <td>   0.000000</td>\n",
        "      <td>   0.000000</td>\n",
        "    </tr>\n",
        "    <tr>\n",
        "      <th>25%</th>\n",
        "      <td> 223.500000</td>\n",
        "      <td>   0.000000</td>\n",
        "      <td>   2.000000</td>\n",
        "      <td>  20.125000</td>\n",
        "      <td>   0.000000</td>\n",
        "      <td>   0.000000</td>\n",
        "      <td>   7.910400</td>\n",
        "    </tr>\n",
        "    <tr>\n",
        "      <th>50%</th>\n",
        "      <td> 446.000000</td>\n",
        "      <td>   0.000000</td>\n",
        "      <td>   3.000000</td>\n",
        "      <td>  28.000000</td>\n",
        "      <td>   0.000000</td>\n",
        "      <td>   0.000000</td>\n",
        "      <td>  14.454200</td>\n",
        "    </tr>\n",
        "    <tr>\n",
        "      <th>75%</th>\n",
        "      <td> 668.500000</td>\n",
        "      <td>   1.000000</td>\n",
        "      <td>   3.000000</td>\n",
        "      <td>  38.000000</td>\n",
        "      <td>   1.000000</td>\n",
        "      <td>   0.000000</td>\n",
        "      <td>  31.000000</td>\n",
        "    </tr>\n",
        "    <tr>\n",
        "      <th>max</th>\n",
        "      <td> 891.000000</td>\n",
        "      <td>   1.000000</td>\n",
        "      <td>   3.000000</td>\n",
        "      <td>  80.000000</td>\n",
        "      <td>   8.000000</td>\n",
        "      <td>   6.000000</td>\n",
        "      <td> 512.329200</td>\n",
        "    </tr>\n",
        "  </tbody>\n",
        "</table>\n",
        "</div>"
       ],
       "metadata": {},
       "output_type": "pyout",
       "prompt_number": 57,
       "text": [
        "       PassengerId    Survived      Pclass         Age       SibSp  \\\n",
        "count   891.000000  891.000000  891.000000  714.000000  891.000000   \n",
        "mean    446.000000    0.383838    2.308642   29.699118    0.523008   \n",
        "std     257.353842    0.486592    0.836071   14.526497    1.102743   \n",
        "min       1.000000    0.000000    1.000000    0.420000    0.000000   \n",
        "25%     223.500000    0.000000    2.000000   20.125000    0.000000   \n",
        "50%     446.000000    0.000000    3.000000   28.000000    0.000000   \n",
        "75%     668.500000    1.000000    3.000000   38.000000    1.000000   \n",
        "max     891.000000    1.000000    3.000000   80.000000    8.000000   \n",
        "\n",
        "            Parch        Fare  \n",
        "count  891.000000  891.000000  \n",
        "mean     0.381594   32.204208  \n",
        "std      0.806057   49.693429  \n",
        "min      0.000000    0.000000  \n",
        "25%      0.000000    7.910400  \n",
        "50%      0.000000   14.454200  \n",
        "75%      0.000000   31.000000  \n",
        "max      6.000000  512.329200  "
       ]
      }
     ],
     "prompt_number": 57
    },
    {
     "cell_type": "markdown",
     "metadata": {},
     "source": [
      "Filter the data for men"
     ]
    },
    {
     "cell_type": "code",
     "collapsed": false,
     "input": [
      "data[data.Sex=='male']"
     ],
     "language": "python",
     "metadata": {},
     "outputs": [
      {
       "html": [
        "<div style=\"max-height:1000px;max-width:1500px;overflow:auto;\">\n",
        "<table border=\"1\" class=\"dataframe\">\n",
        "  <thead>\n",
        "    <tr style=\"text-align: right;\">\n",
        "      <th></th>\n",
        "      <th>PassengerId</th>\n",
        "      <th>Survived</th>\n",
        "      <th>Pclass</th>\n",
        "      <th>Name</th>\n",
        "      <th>Sex</th>\n",
        "      <th>Age</th>\n",
        "      <th>SibSp</th>\n",
        "      <th>Parch</th>\n",
        "      <th>Ticket</th>\n",
        "      <th>Fare</th>\n",
        "      <th>Cabin</th>\n",
        "      <th>Embarked</th>\n",
        "    </tr>\n",
        "  </thead>\n",
        "  <tbody>\n",
        "    <tr>\n",
        "      <th>0  </th>\n",
        "      <td>   1</td>\n",
        "      <td> 0</td>\n",
        "      <td> 3</td>\n",
        "      <td>                 Braund, Mr. Owen Harris</td>\n",
        "      <td> male</td>\n",
        "      <td> 22.0</td>\n",
        "      <td> 1</td>\n",
        "      <td> 0</td>\n",
        "      <td>        A/5 21171</td>\n",
        "      <td>   7.2500</td>\n",
        "      <td>         NaN</td>\n",
        "      <td> S</td>\n",
        "    </tr>\n",
        "    <tr>\n",
        "      <th>4  </th>\n",
        "      <td>   5</td>\n",
        "      <td> 0</td>\n",
        "      <td> 3</td>\n",
        "      <td>                Allen, Mr. William Henry</td>\n",
        "      <td> male</td>\n",
        "      <td> 35.0</td>\n",
        "      <td> 0</td>\n",
        "      <td> 0</td>\n",
        "      <td>           373450</td>\n",
        "      <td>   8.0500</td>\n",
        "      <td>         NaN</td>\n",
        "      <td> S</td>\n",
        "    </tr>\n",
        "    <tr>\n",
        "      <th>5  </th>\n",
        "      <td>   6</td>\n",
        "      <td> 0</td>\n",
        "      <td> 3</td>\n",
        "      <td>                        Moran, Mr. James</td>\n",
        "      <td> male</td>\n",
        "      <td>  NaN</td>\n",
        "      <td> 0</td>\n",
        "      <td> 0</td>\n",
        "      <td>           330877</td>\n",
        "      <td>   8.4583</td>\n",
        "      <td>         NaN</td>\n",
        "      <td> Q</td>\n",
        "    </tr>\n",
        "    <tr>\n",
        "      <th>6  </th>\n",
        "      <td>   7</td>\n",
        "      <td> 0</td>\n",
        "      <td> 1</td>\n",
        "      <td>                 McCarthy, Mr. Timothy J</td>\n",
        "      <td> male</td>\n",
        "      <td> 54.0</td>\n",
        "      <td> 0</td>\n",
        "      <td> 0</td>\n",
        "      <td>            17463</td>\n",
        "      <td>  51.8625</td>\n",
        "      <td>         E46</td>\n",
        "      <td> S</td>\n",
        "    </tr>\n",
        "    <tr>\n",
        "      <th>7  </th>\n",
        "      <td>   8</td>\n",
        "      <td> 0</td>\n",
        "      <td> 3</td>\n",
        "      <td>          Palsson, Master. Gosta Leonard</td>\n",
        "      <td> male</td>\n",
        "      <td>  2.0</td>\n",
        "      <td> 3</td>\n",
        "      <td> 1</td>\n",
        "      <td>           349909</td>\n",
        "      <td>  21.0750</td>\n",
        "      <td>         NaN</td>\n",
        "      <td> S</td>\n",
        "    </tr>\n",
        "    <tr>\n",
        "      <th>12 </th>\n",
        "      <td>  13</td>\n",
        "      <td> 0</td>\n",
        "      <td> 3</td>\n",
        "      <td>          Saundercock, Mr. William Henry</td>\n",
        "      <td> male</td>\n",
        "      <td> 20.0</td>\n",
        "      <td> 0</td>\n",
        "      <td> 0</td>\n",
        "      <td>        A/5. 2151</td>\n",
        "      <td>   8.0500</td>\n",
        "      <td>         NaN</td>\n",
        "      <td> S</td>\n",
        "    </tr>\n",
        "    <tr>\n",
        "      <th>13 </th>\n",
        "      <td>  14</td>\n",
        "      <td> 0</td>\n",
        "      <td> 3</td>\n",
        "      <td>             Andersson, Mr. Anders Johan</td>\n",
        "      <td> male</td>\n",
        "      <td> 39.0</td>\n",
        "      <td> 1</td>\n",
        "      <td> 5</td>\n",
        "      <td>           347082</td>\n",
        "      <td>  31.2750</td>\n",
        "      <td>         NaN</td>\n",
        "      <td> S</td>\n",
        "    </tr>\n",
        "    <tr>\n",
        "      <th>16 </th>\n",
        "      <td>  17</td>\n",
        "      <td> 0</td>\n",
        "      <td> 3</td>\n",
        "      <td>                    Rice, Master. Eugene</td>\n",
        "      <td> male</td>\n",
        "      <td>  2.0</td>\n",
        "      <td> 4</td>\n",
        "      <td> 1</td>\n",
        "      <td>           382652</td>\n",
        "      <td>  29.1250</td>\n",
        "      <td>         NaN</td>\n",
        "      <td> Q</td>\n",
        "    </tr>\n",
        "    <tr>\n",
        "      <th>17 </th>\n",
        "      <td>  18</td>\n",
        "      <td> 1</td>\n",
        "      <td> 2</td>\n",
        "      <td>            Williams, Mr. Charles Eugene</td>\n",
        "      <td> male</td>\n",
        "      <td>  NaN</td>\n",
        "      <td> 0</td>\n",
        "      <td> 0</td>\n",
        "      <td>           244373</td>\n",
        "      <td>  13.0000</td>\n",
        "      <td>         NaN</td>\n",
        "      <td> S</td>\n",
        "    </tr>\n",
        "    <tr>\n",
        "      <th>20 </th>\n",
        "      <td>  21</td>\n",
        "      <td> 0</td>\n",
        "      <td> 2</td>\n",
        "      <td>                    Fynney, Mr. Joseph J</td>\n",
        "      <td> male</td>\n",
        "      <td> 35.0</td>\n",
        "      <td> 0</td>\n",
        "      <td> 0</td>\n",
        "      <td>           239865</td>\n",
        "      <td>  26.0000</td>\n",
        "      <td>         NaN</td>\n",
        "      <td> S</td>\n",
        "    </tr>\n",
        "    <tr>\n",
        "      <th>21 </th>\n",
        "      <td>  22</td>\n",
        "      <td> 1</td>\n",
        "      <td> 2</td>\n",
        "      <td>                   Beesley, Mr. Lawrence</td>\n",
        "      <td> male</td>\n",
        "      <td> 34.0</td>\n",
        "      <td> 0</td>\n",
        "      <td> 0</td>\n",
        "      <td>           248698</td>\n",
        "      <td>  13.0000</td>\n",
        "      <td>         D56</td>\n",
        "      <td> S</td>\n",
        "    </tr>\n",
        "    <tr>\n",
        "      <th>23 </th>\n",
        "      <td>  24</td>\n",
        "      <td> 1</td>\n",
        "      <td> 1</td>\n",
        "      <td>            Sloper, Mr. William Thompson</td>\n",
        "      <td> male</td>\n",
        "      <td> 28.0</td>\n",
        "      <td> 0</td>\n",
        "      <td> 0</td>\n",
        "      <td>           113788</td>\n",
        "      <td>  35.5000</td>\n",
        "      <td>          A6</td>\n",
        "      <td> S</td>\n",
        "    </tr>\n",
        "    <tr>\n",
        "      <th>26 </th>\n",
        "      <td>  27</td>\n",
        "      <td> 0</td>\n",
        "      <td> 3</td>\n",
        "      <td>                 Emir, Mr. Farred Chehab</td>\n",
        "      <td> male</td>\n",
        "      <td>  NaN</td>\n",
        "      <td> 0</td>\n",
        "      <td> 0</td>\n",
        "      <td>             2631</td>\n",
        "      <td>   7.2250</td>\n",
        "      <td>         NaN</td>\n",
        "      <td> C</td>\n",
        "    </tr>\n",
        "    <tr>\n",
        "      <th>27 </th>\n",
        "      <td>  28</td>\n",
        "      <td> 0</td>\n",
        "      <td> 1</td>\n",
        "      <td>          Fortune, Mr. Charles Alexander</td>\n",
        "      <td> male</td>\n",
        "      <td> 19.0</td>\n",
        "      <td> 3</td>\n",
        "      <td> 2</td>\n",
        "      <td>            19950</td>\n",
        "      <td> 263.0000</td>\n",
        "      <td> C23 C25 C27</td>\n",
        "      <td> S</td>\n",
        "    </tr>\n",
        "    <tr>\n",
        "      <th>29 </th>\n",
        "      <td>  30</td>\n",
        "      <td> 0</td>\n",
        "      <td> 3</td>\n",
        "      <td>                     Todoroff, Mr. Lalio</td>\n",
        "      <td> male</td>\n",
        "      <td>  NaN</td>\n",
        "      <td> 0</td>\n",
        "      <td> 0</td>\n",
        "      <td>           349216</td>\n",
        "      <td>   7.8958</td>\n",
        "      <td>         NaN</td>\n",
        "      <td> S</td>\n",
        "    </tr>\n",
        "    <tr>\n",
        "      <th>30 </th>\n",
        "      <td>  31</td>\n",
        "      <td> 0</td>\n",
        "      <td> 1</td>\n",
        "      <td>                Uruchurtu, Don. Manuel E</td>\n",
        "      <td> male</td>\n",
        "      <td> 40.0</td>\n",
        "      <td> 0</td>\n",
        "      <td> 0</td>\n",
        "      <td>         PC 17601</td>\n",
        "      <td>  27.7208</td>\n",
        "      <td>         NaN</td>\n",
        "      <td> C</td>\n",
        "    </tr>\n",
        "    <tr>\n",
        "      <th>33 </th>\n",
        "      <td>  34</td>\n",
        "      <td> 0</td>\n",
        "      <td> 2</td>\n",
        "      <td>                   Wheadon, Mr. Edward H</td>\n",
        "      <td> male</td>\n",
        "      <td> 66.0</td>\n",
        "      <td> 0</td>\n",
        "      <td> 0</td>\n",
        "      <td>       C.A. 24579</td>\n",
        "      <td>  10.5000</td>\n",
        "      <td>         NaN</td>\n",
        "      <td> S</td>\n",
        "    </tr>\n",
        "    <tr>\n",
        "      <th>34 </th>\n",
        "      <td>  35</td>\n",
        "      <td> 0</td>\n",
        "      <td> 1</td>\n",
        "      <td>                 Meyer, Mr. Edgar Joseph</td>\n",
        "      <td> male</td>\n",
        "      <td> 28.0</td>\n",
        "      <td> 1</td>\n",
        "      <td> 0</td>\n",
        "      <td>         PC 17604</td>\n",
        "      <td>  82.1708</td>\n",
        "      <td>         NaN</td>\n",
        "      <td> C</td>\n",
        "    </tr>\n",
        "    <tr>\n",
        "      <th>35 </th>\n",
        "      <td>  36</td>\n",
        "      <td> 0</td>\n",
        "      <td> 1</td>\n",
        "      <td>          Holverson, Mr. Alexander Oskar</td>\n",
        "      <td> male</td>\n",
        "      <td> 42.0</td>\n",
        "      <td> 1</td>\n",
        "      <td> 0</td>\n",
        "      <td>           113789</td>\n",
        "      <td>  52.0000</td>\n",
        "      <td>         NaN</td>\n",
        "      <td> S</td>\n",
        "    </tr>\n",
        "    <tr>\n",
        "      <th>36 </th>\n",
        "      <td>  37</td>\n",
        "      <td> 1</td>\n",
        "      <td> 3</td>\n",
        "      <td>                        Mamee, Mr. Hanna</td>\n",
        "      <td> male</td>\n",
        "      <td>  NaN</td>\n",
        "      <td> 0</td>\n",
        "      <td> 0</td>\n",
        "      <td>             2677</td>\n",
        "      <td>   7.2292</td>\n",
        "      <td>         NaN</td>\n",
        "      <td> C</td>\n",
        "    </tr>\n",
        "    <tr>\n",
        "      <th>37 </th>\n",
        "      <td>  38</td>\n",
        "      <td> 0</td>\n",
        "      <td> 3</td>\n",
        "      <td>                Cann, Mr. Ernest Charles</td>\n",
        "      <td> male</td>\n",
        "      <td> 21.0</td>\n",
        "      <td> 0</td>\n",
        "      <td> 0</td>\n",
        "      <td>       A./5. 2152</td>\n",
        "      <td>   8.0500</td>\n",
        "      <td>         NaN</td>\n",
        "      <td> S</td>\n",
        "    </tr>\n",
        "    <tr>\n",
        "      <th>42 </th>\n",
        "      <td>  43</td>\n",
        "      <td> 0</td>\n",
        "      <td> 3</td>\n",
        "      <td>                     Kraeff, Mr. Theodor</td>\n",
        "      <td> male</td>\n",
        "      <td>  NaN</td>\n",
        "      <td> 0</td>\n",
        "      <td> 0</td>\n",
        "      <td>           349253</td>\n",
        "      <td>   7.8958</td>\n",
        "      <td>         NaN</td>\n",
        "      <td> C</td>\n",
        "    </tr>\n",
        "    <tr>\n",
        "      <th>45 </th>\n",
        "      <td>  46</td>\n",
        "      <td> 0</td>\n",
        "      <td> 3</td>\n",
        "      <td>                Rogers, Mr. William John</td>\n",
        "      <td> male</td>\n",
        "      <td>  NaN</td>\n",
        "      <td> 0</td>\n",
        "      <td> 0</td>\n",
        "      <td>  S.C./A.4. 23567</td>\n",
        "      <td>   8.0500</td>\n",
        "      <td>         NaN</td>\n",
        "      <td> S</td>\n",
        "    </tr>\n",
        "    <tr>\n",
        "      <th>46 </th>\n",
        "      <td>  47</td>\n",
        "      <td> 0</td>\n",
        "      <td> 3</td>\n",
        "      <td>                       Lennon, Mr. Denis</td>\n",
        "      <td> male</td>\n",
        "      <td>  NaN</td>\n",
        "      <td> 1</td>\n",
        "      <td> 0</td>\n",
        "      <td>           370371</td>\n",
        "      <td>  15.5000</td>\n",
        "      <td>         NaN</td>\n",
        "      <td> Q</td>\n",
        "    </tr>\n",
        "    <tr>\n",
        "      <th>48 </th>\n",
        "      <td>  49</td>\n",
        "      <td> 0</td>\n",
        "      <td> 3</td>\n",
        "      <td>                     Samaan, Mr. Youssef</td>\n",
        "      <td> male</td>\n",
        "      <td>  NaN</td>\n",
        "      <td> 2</td>\n",
        "      <td> 0</td>\n",
        "      <td>             2662</td>\n",
        "      <td>  21.6792</td>\n",
        "      <td>         NaN</td>\n",
        "      <td> C</td>\n",
        "    </tr>\n",
        "    <tr>\n",
        "      <th>50 </th>\n",
        "      <td>  51</td>\n",
        "      <td> 0</td>\n",
        "      <td> 3</td>\n",
        "      <td>              Panula, Master. Juha Niilo</td>\n",
        "      <td> male</td>\n",
        "      <td>  7.0</td>\n",
        "      <td> 4</td>\n",
        "      <td> 1</td>\n",
        "      <td>          3101295</td>\n",
        "      <td>  39.6875</td>\n",
        "      <td>         NaN</td>\n",
        "      <td> S</td>\n",
        "    </tr>\n",
        "    <tr>\n",
        "      <th>51 </th>\n",
        "      <td>  52</td>\n",
        "      <td> 0</td>\n",
        "      <td> 3</td>\n",
        "      <td>            Nosworthy, Mr. Richard Cater</td>\n",
        "      <td> male</td>\n",
        "      <td> 21.0</td>\n",
        "      <td> 0</td>\n",
        "      <td> 0</td>\n",
        "      <td>       A/4. 39886</td>\n",
        "      <td>   7.8000</td>\n",
        "      <td>         NaN</td>\n",
        "      <td> S</td>\n",
        "    </tr>\n",
        "    <tr>\n",
        "      <th>54 </th>\n",
        "      <td>  55</td>\n",
        "      <td> 0</td>\n",
        "      <td> 1</td>\n",
        "      <td>          Ostby, Mr. Engelhart Cornelius</td>\n",
        "      <td> male</td>\n",
        "      <td> 65.0</td>\n",
        "      <td> 0</td>\n",
        "      <td> 1</td>\n",
        "      <td>           113509</td>\n",
        "      <td>  61.9792</td>\n",
        "      <td>         B30</td>\n",
        "      <td> C</td>\n",
        "    </tr>\n",
        "    <tr>\n",
        "      <th>55 </th>\n",
        "      <td>  56</td>\n",
        "      <td> 1</td>\n",
        "      <td> 1</td>\n",
        "      <td>                       Woolner, Mr. Hugh</td>\n",
        "      <td> male</td>\n",
        "      <td>  NaN</td>\n",
        "      <td> 0</td>\n",
        "      <td> 0</td>\n",
        "      <td>            19947</td>\n",
        "      <td>  35.5000</td>\n",
        "      <td>         C52</td>\n",
        "      <td> S</td>\n",
        "    </tr>\n",
        "    <tr>\n",
        "      <th>57 </th>\n",
        "      <td>  58</td>\n",
        "      <td> 0</td>\n",
        "      <td> 3</td>\n",
        "      <td>                     Novel, Mr. Mansouer</td>\n",
        "      <td> male</td>\n",
        "      <td> 28.5</td>\n",
        "      <td> 0</td>\n",
        "      <td> 0</td>\n",
        "      <td>             2697</td>\n",
        "      <td>   7.2292</td>\n",
        "      <td>         NaN</td>\n",
        "      <td> C</td>\n",
        "    </tr>\n",
        "    <tr>\n",
        "      <th>...</th>\n",
        "      <td>...</td>\n",
        "      <td>...</td>\n",
        "      <td>...</td>\n",
        "      <td>...</td>\n",
        "      <td>...</td>\n",
        "      <td>...</td>\n",
        "      <td>...</td>\n",
        "      <td>...</td>\n",
        "      <td>...</td>\n",
        "      <td>...</td>\n",
        "      <td>...</td>\n",
        "      <td>...</td>\n",
        "    </tr>\n",
        "    <tr>\n",
        "      <th>840</th>\n",
        "      <td> 841</td>\n",
        "      <td> 0</td>\n",
        "      <td> 3</td>\n",
        "      <td>             Alhomaki, Mr. Ilmari Rudolf</td>\n",
        "      <td> male</td>\n",
        "      <td> 20.0</td>\n",
        "      <td> 0</td>\n",
        "      <td> 0</td>\n",
        "      <td> SOTON/O2 3101287</td>\n",
        "      <td>   7.9250</td>\n",
        "      <td>         NaN</td>\n",
        "      <td> S</td>\n",
        "    </tr>\n",
        "    <tr>\n",
        "      <th>841</th>\n",
        "      <td> 842</td>\n",
        "      <td> 0</td>\n",
        "      <td> 2</td>\n",
        "      <td>                Mudd, Mr. Thomas Charles</td>\n",
        "      <td> male</td>\n",
        "      <td> 16.0</td>\n",
        "      <td> 0</td>\n",
        "      <td> 0</td>\n",
        "      <td>      S.O./P.P. 3</td>\n",
        "      <td>  10.5000</td>\n",
        "      <td>         NaN</td>\n",
        "      <td> S</td>\n",
        "    </tr>\n",
        "    <tr>\n",
        "      <th>843</th>\n",
        "      <td> 844</td>\n",
        "      <td> 0</td>\n",
        "      <td> 3</td>\n",
        "      <td>              Lemberopolous, Mr. Peter L</td>\n",
        "      <td> male</td>\n",
        "      <td> 34.5</td>\n",
        "      <td> 0</td>\n",
        "      <td> 0</td>\n",
        "      <td>             2683</td>\n",
        "      <td>   6.4375</td>\n",
        "      <td>         NaN</td>\n",
        "      <td> C</td>\n",
        "    </tr>\n",
        "    <tr>\n",
        "      <th>844</th>\n",
        "      <td> 845</td>\n",
        "      <td> 0</td>\n",
        "      <td> 3</td>\n",
        "      <td>                     Culumovic, Mr. Jeso</td>\n",
        "      <td> male</td>\n",
        "      <td> 17.0</td>\n",
        "      <td> 0</td>\n",
        "      <td> 0</td>\n",
        "      <td>           315090</td>\n",
        "      <td>   8.6625</td>\n",
        "      <td>         NaN</td>\n",
        "      <td> S</td>\n",
        "    </tr>\n",
        "    <tr>\n",
        "      <th>845</th>\n",
        "      <td> 846</td>\n",
        "      <td> 0</td>\n",
        "      <td> 3</td>\n",
        "      <td>                     Abbing, Mr. Anthony</td>\n",
        "      <td> male</td>\n",
        "      <td> 42.0</td>\n",
        "      <td> 0</td>\n",
        "      <td> 0</td>\n",
        "      <td>        C.A. 5547</td>\n",
        "      <td>   7.5500</td>\n",
        "      <td>         NaN</td>\n",
        "      <td> S</td>\n",
        "    </tr>\n",
        "    <tr>\n",
        "      <th>846</th>\n",
        "      <td> 847</td>\n",
        "      <td> 0</td>\n",
        "      <td> 3</td>\n",
        "      <td>                Sage, Mr. Douglas Bullen</td>\n",
        "      <td> male</td>\n",
        "      <td>  NaN</td>\n",
        "      <td> 8</td>\n",
        "      <td> 2</td>\n",
        "      <td>         CA. 2343</td>\n",
        "      <td>  69.5500</td>\n",
        "      <td>         NaN</td>\n",
        "      <td> S</td>\n",
        "    </tr>\n",
        "    <tr>\n",
        "      <th>847</th>\n",
        "      <td> 848</td>\n",
        "      <td> 0</td>\n",
        "      <td> 3</td>\n",
        "      <td>                      Markoff, Mr. Marin</td>\n",
        "      <td> male</td>\n",
        "      <td> 35.0</td>\n",
        "      <td> 0</td>\n",
        "      <td> 0</td>\n",
        "      <td>           349213</td>\n",
        "      <td>   7.8958</td>\n",
        "      <td>         NaN</td>\n",
        "      <td> C</td>\n",
        "    </tr>\n",
        "    <tr>\n",
        "      <th>848</th>\n",
        "      <td> 849</td>\n",
        "      <td> 0</td>\n",
        "      <td> 2</td>\n",
        "      <td>                       Harper, Rev. John</td>\n",
        "      <td> male</td>\n",
        "      <td> 28.0</td>\n",
        "      <td> 0</td>\n",
        "      <td> 1</td>\n",
        "      <td>           248727</td>\n",
        "      <td>  33.0000</td>\n",
        "      <td>         NaN</td>\n",
        "      <td> S</td>\n",
        "    </tr>\n",
        "    <tr>\n",
        "      <th>850</th>\n",
        "      <td> 851</td>\n",
        "      <td> 0</td>\n",
        "      <td> 3</td>\n",
        "      <td> Andersson, Master. Sigvard Harald Elias</td>\n",
        "      <td> male</td>\n",
        "      <td>  4.0</td>\n",
        "      <td> 4</td>\n",
        "      <td> 2</td>\n",
        "      <td>           347082</td>\n",
        "      <td>  31.2750</td>\n",
        "      <td>         NaN</td>\n",
        "      <td> S</td>\n",
        "    </tr>\n",
        "    <tr>\n",
        "      <th>851</th>\n",
        "      <td> 852</td>\n",
        "      <td> 0</td>\n",
        "      <td> 3</td>\n",
        "      <td>                     Svensson, Mr. Johan</td>\n",
        "      <td> male</td>\n",
        "      <td> 74.0</td>\n",
        "      <td> 0</td>\n",
        "      <td> 0</td>\n",
        "      <td>           347060</td>\n",
        "      <td>   7.7750</td>\n",
        "      <td>         NaN</td>\n",
        "      <td> S</td>\n",
        "    </tr>\n",
        "    <tr>\n",
        "      <th>857</th>\n",
        "      <td> 858</td>\n",
        "      <td> 1</td>\n",
        "      <td> 1</td>\n",
        "      <td>                  Daly, Mr. Peter Denis </td>\n",
        "      <td> male</td>\n",
        "      <td> 51.0</td>\n",
        "      <td> 0</td>\n",
        "      <td> 0</td>\n",
        "      <td>           113055</td>\n",
        "      <td>  26.5500</td>\n",
        "      <td>         E17</td>\n",
        "      <td> S</td>\n",
        "    </tr>\n",
        "    <tr>\n",
        "      <th>859</th>\n",
        "      <td> 860</td>\n",
        "      <td> 0</td>\n",
        "      <td> 3</td>\n",
        "      <td>                        Razi, Mr. Raihed</td>\n",
        "      <td> male</td>\n",
        "      <td>  NaN</td>\n",
        "      <td> 0</td>\n",
        "      <td> 0</td>\n",
        "      <td>             2629</td>\n",
        "      <td>   7.2292</td>\n",
        "      <td>         NaN</td>\n",
        "      <td> C</td>\n",
        "    </tr>\n",
        "    <tr>\n",
        "      <th>860</th>\n",
        "      <td> 861</td>\n",
        "      <td> 0</td>\n",
        "      <td> 3</td>\n",
        "      <td>                 Hansen, Mr. Claus Peter</td>\n",
        "      <td> male</td>\n",
        "      <td> 41.0</td>\n",
        "      <td> 2</td>\n",
        "      <td> 0</td>\n",
        "      <td>           350026</td>\n",
        "      <td>  14.1083</td>\n",
        "      <td>         NaN</td>\n",
        "      <td> S</td>\n",
        "    </tr>\n",
        "    <tr>\n",
        "      <th>861</th>\n",
        "      <td> 862</td>\n",
        "      <td> 0</td>\n",
        "      <td> 2</td>\n",
        "      <td>             Giles, Mr. Frederick Edward</td>\n",
        "      <td> male</td>\n",
        "      <td> 21.0</td>\n",
        "      <td> 1</td>\n",
        "      <td> 0</td>\n",
        "      <td>            28134</td>\n",
        "      <td>  11.5000</td>\n",
        "      <td>         NaN</td>\n",
        "      <td> S</td>\n",
        "    </tr>\n",
        "    <tr>\n",
        "      <th>864</th>\n",
        "      <td> 865</td>\n",
        "      <td> 0</td>\n",
        "      <td> 2</td>\n",
        "      <td>                  Gill, Mr. John William</td>\n",
        "      <td> male</td>\n",
        "      <td> 24.0</td>\n",
        "      <td> 0</td>\n",
        "      <td> 0</td>\n",
        "      <td>           233866</td>\n",
        "      <td>  13.0000</td>\n",
        "      <td>         NaN</td>\n",
        "      <td> S</td>\n",
        "    </tr>\n",
        "    <tr>\n",
        "      <th>867</th>\n",
        "      <td> 868</td>\n",
        "      <td> 0</td>\n",
        "      <td> 1</td>\n",
        "      <td>    Roebling, Mr. Washington Augustus II</td>\n",
        "      <td> male</td>\n",
        "      <td> 31.0</td>\n",
        "      <td> 0</td>\n",
        "      <td> 0</td>\n",
        "      <td>         PC 17590</td>\n",
        "      <td>  50.4958</td>\n",
        "      <td>         A24</td>\n",
        "      <td> S</td>\n",
        "    </tr>\n",
        "    <tr>\n",
        "      <th>868</th>\n",
        "      <td> 869</td>\n",
        "      <td> 0</td>\n",
        "      <td> 3</td>\n",
        "      <td>             van Melkebeke, Mr. Philemon</td>\n",
        "      <td> male</td>\n",
        "      <td>  NaN</td>\n",
        "      <td> 0</td>\n",
        "      <td> 0</td>\n",
        "      <td>           345777</td>\n",
        "      <td>   9.5000</td>\n",
        "      <td>         NaN</td>\n",
        "      <td> S</td>\n",
        "    </tr>\n",
        "    <tr>\n",
        "      <th>869</th>\n",
        "      <td> 870</td>\n",
        "      <td> 1</td>\n",
        "      <td> 3</td>\n",
        "      <td>         Johnson, Master. Harold Theodor</td>\n",
        "      <td> male</td>\n",
        "      <td>  4.0</td>\n",
        "      <td> 1</td>\n",
        "      <td> 1</td>\n",
        "      <td>           347742</td>\n",
        "      <td>  11.1333</td>\n",
        "      <td>         NaN</td>\n",
        "      <td> S</td>\n",
        "    </tr>\n",
        "    <tr>\n",
        "      <th>870</th>\n",
        "      <td> 871</td>\n",
        "      <td> 0</td>\n",
        "      <td> 3</td>\n",
        "      <td>                       Balkic, Mr. Cerin</td>\n",
        "      <td> male</td>\n",
        "      <td> 26.0</td>\n",
        "      <td> 0</td>\n",
        "      <td> 0</td>\n",
        "      <td>           349248</td>\n",
        "      <td>   7.8958</td>\n",
        "      <td>         NaN</td>\n",
        "      <td> S</td>\n",
        "    </tr>\n",
        "    <tr>\n",
        "      <th>872</th>\n",
        "      <td> 873</td>\n",
        "      <td> 0</td>\n",
        "      <td> 1</td>\n",
        "      <td>                Carlsson, Mr. Frans Olof</td>\n",
        "      <td> male</td>\n",
        "      <td> 33.0</td>\n",
        "      <td> 0</td>\n",
        "      <td> 0</td>\n",
        "      <td>              695</td>\n",
        "      <td>   5.0000</td>\n",
        "      <td> B51 B53 B55</td>\n",
        "      <td> S</td>\n",
        "    </tr>\n",
        "    <tr>\n",
        "      <th>873</th>\n",
        "      <td> 874</td>\n",
        "      <td> 0</td>\n",
        "      <td> 3</td>\n",
        "      <td>             Vander Cruyssen, Mr. Victor</td>\n",
        "      <td> male</td>\n",
        "      <td> 47.0</td>\n",
        "      <td> 0</td>\n",
        "      <td> 0</td>\n",
        "      <td>           345765</td>\n",
        "      <td>   9.0000</td>\n",
        "      <td>         NaN</td>\n",
        "      <td> S</td>\n",
        "    </tr>\n",
        "    <tr>\n",
        "      <th>876</th>\n",
        "      <td> 877</td>\n",
        "      <td> 0</td>\n",
        "      <td> 3</td>\n",
        "      <td>           Gustafsson, Mr. Alfred Ossian</td>\n",
        "      <td> male</td>\n",
        "      <td> 20.0</td>\n",
        "      <td> 0</td>\n",
        "      <td> 0</td>\n",
        "      <td>             7534</td>\n",
        "      <td>   9.8458</td>\n",
        "      <td>         NaN</td>\n",
        "      <td> S</td>\n",
        "    </tr>\n",
        "    <tr>\n",
        "      <th>877</th>\n",
        "      <td> 878</td>\n",
        "      <td> 0</td>\n",
        "      <td> 3</td>\n",
        "      <td>                    Petroff, Mr. Nedelio</td>\n",
        "      <td> male</td>\n",
        "      <td> 19.0</td>\n",
        "      <td> 0</td>\n",
        "      <td> 0</td>\n",
        "      <td>           349212</td>\n",
        "      <td>   7.8958</td>\n",
        "      <td>         NaN</td>\n",
        "      <td> S</td>\n",
        "    </tr>\n",
        "    <tr>\n",
        "      <th>878</th>\n",
        "      <td> 879</td>\n",
        "      <td> 0</td>\n",
        "      <td> 3</td>\n",
        "      <td>                      Laleff, Mr. Kristo</td>\n",
        "      <td> male</td>\n",
        "      <td>  NaN</td>\n",
        "      <td> 0</td>\n",
        "      <td> 0</td>\n",
        "      <td>           349217</td>\n",
        "      <td>   7.8958</td>\n",
        "      <td>         NaN</td>\n",
        "      <td> S</td>\n",
        "    </tr>\n",
        "    <tr>\n",
        "      <th>881</th>\n",
        "      <td> 882</td>\n",
        "      <td> 0</td>\n",
        "      <td> 3</td>\n",
        "      <td>                      Markun, Mr. Johann</td>\n",
        "      <td> male</td>\n",
        "      <td> 33.0</td>\n",
        "      <td> 0</td>\n",
        "      <td> 0</td>\n",
        "      <td>           349257</td>\n",
        "      <td>   7.8958</td>\n",
        "      <td>         NaN</td>\n",
        "      <td> S</td>\n",
        "    </tr>\n",
        "    <tr>\n",
        "      <th>883</th>\n",
        "      <td> 884</td>\n",
        "      <td> 0</td>\n",
        "      <td> 2</td>\n",
        "      <td>           Banfield, Mr. Frederick James</td>\n",
        "      <td> male</td>\n",
        "      <td> 28.0</td>\n",
        "      <td> 0</td>\n",
        "      <td> 0</td>\n",
        "      <td> C.A./SOTON 34068</td>\n",
        "      <td>  10.5000</td>\n",
        "      <td>         NaN</td>\n",
        "      <td> S</td>\n",
        "    </tr>\n",
        "    <tr>\n",
        "      <th>884</th>\n",
        "      <td> 885</td>\n",
        "      <td> 0</td>\n",
        "      <td> 3</td>\n",
        "      <td>                  Sutehall, Mr. Henry Jr</td>\n",
        "      <td> male</td>\n",
        "      <td> 25.0</td>\n",
        "      <td> 0</td>\n",
        "      <td> 0</td>\n",
        "      <td>  SOTON/OQ 392076</td>\n",
        "      <td>   7.0500</td>\n",
        "      <td>         NaN</td>\n",
        "      <td> S</td>\n",
        "    </tr>\n",
        "    <tr>\n",
        "      <th>886</th>\n",
        "      <td> 887</td>\n",
        "      <td> 0</td>\n",
        "      <td> 2</td>\n",
        "      <td>                   Montvila, Rev. Juozas</td>\n",
        "      <td> male</td>\n",
        "      <td> 27.0</td>\n",
        "      <td> 0</td>\n",
        "      <td> 0</td>\n",
        "      <td>           211536</td>\n",
        "      <td>  13.0000</td>\n",
        "      <td>         NaN</td>\n",
        "      <td> S</td>\n",
        "    </tr>\n",
        "    <tr>\n",
        "      <th>889</th>\n",
        "      <td> 890</td>\n",
        "      <td> 1</td>\n",
        "      <td> 1</td>\n",
        "      <td>                   Behr, Mr. Karl Howell</td>\n",
        "      <td> male</td>\n",
        "      <td> 26.0</td>\n",
        "      <td> 0</td>\n",
        "      <td> 0</td>\n",
        "      <td>           111369</td>\n",
        "      <td>  30.0000</td>\n",
        "      <td>        C148</td>\n",
        "      <td> C</td>\n",
        "    </tr>\n",
        "    <tr>\n",
        "      <th>890</th>\n",
        "      <td> 891</td>\n",
        "      <td> 0</td>\n",
        "      <td> 3</td>\n",
        "      <td>                     Dooley, Mr. Patrick</td>\n",
        "      <td> male</td>\n",
        "      <td> 32.0</td>\n",
        "      <td> 0</td>\n",
        "      <td> 0</td>\n",
        "      <td>           370376</td>\n",
        "      <td>   7.7500</td>\n",
        "      <td>         NaN</td>\n",
        "      <td> Q</td>\n",
        "    </tr>\n",
        "  </tbody>\n",
        "</table>\n",
        "<p>577 rows \u00d7 12 columns</p>\n",
        "</div>"
       ],
       "metadata": {},
       "output_type": "pyout",
       "prompt_number": 58,
       "text": [
        "     PassengerId  Survived  Pclass                                     Name  \\\n",
        "0              1         0       3                  Braund, Mr. Owen Harris   \n",
        "4              5         0       3                 Allen, Mr. William Henry   \n",
        "5              6         0       3                         Moran, Mr. James   \n",
        "6              7         0       1                  McCarthy, Mr. Timothy J   \n",
        "7              8         0       3           Palsson, Master. Gosta Leonard   \n",
        "12            13         0       3           Saundercock, Mr. William Henry   \n",
        "13            14         0       3              Andersson, Mr. Anders Johan   \n",
        "16            17         0       3                     Rice, Master. Eugene   \n",
        "17            18         1       2             Williams, Mr. Charles Eugene   \n",
        "20            21         0       2                     Fynney, Mr. Joseph J   \n",
        "21            22         1       2                    Beesley, Mr. Lawrence   \n",
        "23            24         1       1             Sloper, Mr. William Thompson   \n",
        "26            27         0       3                  Emir, Mr. Farred Chehab   \n",
        "27            28         0       1           Fortune, Mr. Charles Alexander   \n",
        "29            30         0       3                      Todoroff, Mr. Lalio   \n",
        "30            31         0       1                 Uruchurtu, Don. Manuel E   \n",
        "33            34         0       2                    Wheadon, Mr. Edward H   \n",
        "34            35         0       1                  Meyer, Mr. Edgar Joseph   \n",
        "35            36         0       1           Holverson, Mr. Alexander Oskar   \n",
        "36            37         1       3                         Mamee, Mr. Hanna   \n",
        "37            38         0       3                 Cann, Mr. Ernest Charles   \n",
        "42            43         0       3                      Kraeff, Mr. Theodor   \n",
        "45            46         0       3                 Rogers, Mr. William John   \n",
        "46            47         0       3                        Lennon, Mr. Denis   \n",
        "48            49         0       3                      Samaan, Mr. Youssef   \n",
        "50            51         0       3               Panula, Master. Juha Niilo   \n",
        "51            52         0       3             Nosworthy, Mr. Richard Cater   \n",
        "54            55         0       1           Ostby, Mr. Engelhart Cornelius   \n",
        "55            56         1       1                        Woolner, Mr. Hugh   \n",
        "57            58         0       3                      Novel, Mr. Mansouer   \n",
        "..           ...       ...     ...                                      ...   \n",
        "840          841         0       3              Alhomaki, Mr. Ilmari Rudolf   \n",
        "841          842         0       2                 Mudd, Mr. Thomas Charles   \n",
        "843          844         0       3               Lemberopolous, Mr. Peter L   \n",
        "844          845         0       3                      Culumovic, Mr. Jeso   \n",
        "845          846         0       3                      Abbing, Mr. Anthony   \n",
        "846          847         0       3                 Sage, Mr. Douglas Bullen   \n",
        "847          848         0       3                       Markoff, Mr. Marin   \n",
        "848          849         0       2                        Harper, Rev. John   \n",
        "850          851         0       3  Andersson, Master. Sigvard Harald Elias   \n",
        "851          852         0       3                      Svensson, Mr. Johan   \n",
        "857          858         1       1                   Daly, Mr. Peter Denis    \n",
        "859          860         0       3                         Razi, Mr. Raihed   \n",
        "860          861         0       3                  Hansen, Mr. Claus Peter   \n",
        "861          862         0       2              Giles, Mr. Frederick Edward   \n",
        "864          865         0       2                   Gill, Mr. John William   \n",
        "867          868         0       1     Roebling, Mr. Washington Augustus II   \n",
        "868          869         0       3              van Melkebeke, Mr. Philemon   \n",
        "869          870         1       3          Johnson, Master. Harold Theodor   \n",
        "870          871         0       3                        Balkic, Mr. Cerin   \n",
        "872          873         0       1                 Carlsson, Mr. Frans Olof   \n",
        "873          874         0       3              Vander Cruyssen, Mr. Victor   \n",
        "876          877         0       3            Gustafsson, Mr. Alfred Ossian   \n",
        "877          878         0       3                     Petroff, Mr. Nedelio   \n",
        "878          879         0       3                       Laleff, Mr. Kristo   \n",
        "881          882         0       3                       Markun, Mr. Johann   \n",
        "883          884         0       2            Banfield, Mr. Frederick James   \n",
        "884          885         0       3                   Sutehall, Mr. Henry Jr   \n",
        "886          887         0       2                    Montvila, Rev. Juozas   \n",
        "889          890         1       1                    Behr, Mr. Karl Howell   \n",
        "890          891         0       3                      Dooley, Mr. Patrick   \n",
        "\n",
        "      Sex   Age  SibSp  Parch            Ticket      Fare        Cabin  \\\n",
        "0    male  22.0      1      0         A/5 21171    7.2500          NaN   \n",
        "4    male  35.0      0      0            373450    8.0500          NaN   \n",
        "5    male   NaN      0      0            330877    8.4583          NaN   \n",
        "6    male  54.0      0      0             17463   51.8625          E46   \n",
        "7    male   2.0      3      1            349909   21.0750          NaN   \n",
        "12   male  20.0      0      0         A/5. 2151    8.0500          NaN   \n",
        "13   male  39.0      1      5            347082   31.2750          NaN   \n",
        "16   male   2.0      4      1            382652   29.1250          NaN   \n",
        "17   male   NaN      0      0            244373   13.0000          NaN   \n",
        "20   male  35.0      0      0            239865   26.0000          NaN   \n",
        "21   male  34.0      0      0            248698   13.0000          D56   \n",
        "23   male  28.0      0      0            113788   35.5000           A6   \n",
        "26   male   NaN      0      0              2631    7.2250          NaN   \n",
        "27   male  19.0      3      2             19950  263.0000  C23 C25 C27   \n",
        "29   male   NaN      0      0            349216    7.8958          NaN   \n",
        "30   male  40.0      0      0          PC 17601   27.7208          NaN   \n",
        "33   male  66.0      0      0        C.A. 24579   10.5000          NaN   \n",
        "34   male  28.0      1      0          PC 17604   82.1708          NaN   \n",
        "35   male  42.0      1      0            113789   52.0000          NaN   \n",
        "36   male   NaN      0      0              2677    7.2292          NaN   \n",
        "37   male  21.0      0      0        A./5. 2152    8.0500          NaN   \n",
        "42   male   NaN      0      0            349253    7.8958          NaN   \n",
        "45   male   NaN      0      0   S.C./A.4. 23567    8.0500          NaN   \n",
        "46   male   NaN      1      0            370371   15.5000          NaN   \n",
        "48   male   NaN      2      0              2662   21.6792          NaN   \n",
        "50   male   7.0      4      1           3101295   39.6875          NaN   \n",
        "51   male  21.0      0      0        A/4. 39886    7.8000          NaN   \n",
        "54   male  65.0      0      1            113509   61.9792          B30   \n",
        "55   male   NaN      0      0             19947   35.5000          C52   \n",
        "57   male  28.5      0      0              2697    7.2292          NaN   \n",
        "..    ...   ...    ...    ...               ...       ...          ...   \n",
        "840  male  20.0      0      0  SOTON/O2 3101287    7.9250          NaN   \n",
        "841  male  16.0      0      0       S.O./P.P. 3   10.5000          NaN   \n",
        "843  male  34.5      0      0              2683    6.4375          NaN   \n",
        "844  male  17.0      0      0            315090    8.6625          NaN   \n",
        "845  male  42.0      0      0         C.A. 5547    7.5500          NaN   \n",
        "846  male   NaN      8      2          CA. 2343   69.5500          NaN   \n",
        "847  male  35.0      0      0            349213    7.8958          NaN   \n",
        "848  male  28.0      0      1            248727   33.0000          NaN   \n",
        "850  male   4.0      4      2            347082   31.2750          NaN   \n",
        "851  male  74.0      0      0            347060    7.7750          NaN   \n",
        "857  male  51.0      0      0            113055   26.5500          E17   \n",
        "859  male   NaN      0      0              2629    7.2292          NaN   \n",
        "860  male  41.0      2      0            350026   14.1083          NaN   \n",
        "861  male  21.0      1      0             28134   11.5000          NaN   \n",
        "864  male  24.0      0      0            233866   13.0000          NaN   \n",
        "867  male  31.0      0      0          PC 17590   50.4958          A24   \n",
        "868  male   NaN      0      0            345777    9.5000          NaN   \n",
        "869  male   4.0      1      1            347742   11.1333          NaN   \n",
        "870  male  26.0      0      0            349248    7.8958          NaN   \n",
        "872  male  33.0      0      0               695    5.0000  B51 B53 B55   \n",
        "873  male  47.0      0      0            345765    9.0000          NaN   \n",
        "876  male  20.0      0      0              7534    9.8458          NaN   \n",
        "877  male  19.0      0      0            349212    7.8958          NaN   \n",
        "878  male   NaN      0      0            349217    7.8958          NaN   \n",
        "881  male  33.0      0      0            349257    7.8958          NaN   \n",
        "883  male  28.0      0      0  C.A./SOTON 34068   10.5000          NaN   \n",
        "884  male  25.0      0      0   SOTON/OQ 392076    7.0500          NaN   \n",
        "886  male  27.0      0      0            211536   13.0000          NaN   \n",
        "889  male  26.0      0      0            111369   30.0000         C148   \n",
        "890  male  32.0      0      0            370376    7.7500          NaN   \n",
        "\n",
        "    Embarked  \n",
        "0          S  \n",
        "4          S  \n",
        "5          Q  \n",
        "6          S  \n",
        "7          S  \n",
        "12         S  \n",
        "13         S  \n",
        "16         Q  \n",
        "17         S  \n",
        "20         S  \n",
        "21         S  \n",
        "23         S  \n",
        "26         C  \n",
        "27         S  \n",
        "29         S  \n",
        "30         C  \n",
        "33         S  \n",
        "34         C  \n",
        "35         S  \n",
        "36         C  \n",
        "37         S  \n",
        "42         C  \n",
        "45         S  \n",
        "46         Q  \n",
        "48         C  \n",
        "50         S  \n",
        "51         S  \n",
        "54         C  \n",
        "55         S  \n",
        "57         C  \n",
        "..       ...  \n",
        "840        S  \n",
        "841        S  \n",
        "843        C  \n",
        "844        S  \n",
        "845        S  \n",
        "846        S  \n",
        "847        C  \n",
        "848        S  \n",
        "850        S  \n",
        "851        S  \n",
        "857        S  \n",
        "859        C  \n",
        "860        S  \n",
        "861        S  \n",
        "864        S  \n",
        "867        S  \n",
        "868        S  \n",
        "869        S  \n",
        "870        S  \n",
        "872        S  \n",
        "873        S  \n",
        "876        S  \n",
        "877        S  \n",
        "878        S  \n",
        "881        S  \n",
        "883        S  \n",
        "884        S  \n",
        "886        S  \n",
        "889        C  \n",
        "890        Q  \n",
        "\n",
        "[577 rows x 12 columns]"
       ]
      }
     ],
     "prompt_number": 58
    },
    {
     "cell_type": "markdown",
     "metadata": {},
     "source": [
      "Filter the ages for the men"
     ]
    },
    {
     "cell_type": "code",
     "collapsed": false,
     "input": [
      "data.Age[data.Sex=='male']"
     ],
     "language": "python",
     "metadata": {},
     "outputs": [
      {
       "metadata": {},
       "output_type": "pyout",
       "prompt_number": 59,
       "text": [
        "0     22\n",
        "4     35\n",
        "5    NaN\n",
        "6     54\n",
        "7      2\n",
        "12    20\n",
        "13    39\n",
        "16     2\n",
        "17   NaN\n",
        "20    35\n",
        "21    34\n",
        "23    28\n",
        "26   NaN\n",
        "27    19\n",
        "29   NaN\n",
        "...\n",
        "867    31\n",
        "868   NaN\n",
        "869     4\n",
        "870    26\n",
        "872    33\n",
        "873    47\n",
        "876    20\n",
        "877    19\n",
        "878   NaN\n",
        "881    33\n",
        "883    28\n",
        "884    25\n",
        "886    27\n",
        "889    26\n",
        "890    32\n",
        "Name: Age, Length: 577, dtype: float64"
       ]
      }
     ],
     "prompt_number": 59
    },
    {
     "cell_type": "markdown",
     "metadata": {},
     "source": [
      "How many men and women were on the Titanic?"
     ]
    },
    {
     "cell_type": "code",
     "collapsed": false,
     "input": [
      "print data.Sex[data.Sex =='female'].count()\n",
      "print data.Sex[data.Sex == 'male'].count()"
     ],
     "language": "python",
     "metadata": {},
     "outputs": [
      {
       "output_type": "stream",
       "stream": "stdout",
       "text": [
        "314\n",
        "577\n"
       ]
      }
     ],
     "prompt_number": 61
    },
    {
     "cell_type": "markdown",
     "metadata": {},
     "source": [
      "What was the survival rate for adult men (age>=18)"
     ]
    },
    {
     "cell_type": "code",
     "collapsed": false,
     "input": [
      "print data.Survived[(data.Sex=='male')& (data.Age>=18)].mean() "
     ],
     "language": "python",
     "metadata": {},
     "outputs": [
      {
       "output_type": "stream",
       "stream": "stdout",
       "text": [
        "0.177215189873\n"
       ]
      }
     ],
     "prompt_number": 62
    },
    {
     "cell_type": "markdown",
     "metadata": {},
     "source": [
      "What was the survival rate for women and children?"
     ]
    },
    {
     "cell_type": "code",
     "collapsed": false,
     "input": [
      "print data.Survived[(data.Sex=='female') | (data.Age<18)].mean()"
     ],
     "language": "python",
     "metadata": {},
     "outputs": [
      {
       "output_type": "stream",
       "stream": "stdout",
       "text": [
        "0.688172043011\n"
       ]
      }
     ],
     "prompt_number": 64
    },
    {
     "cell_type": "markdown",
     "metadata": {},
     "source": [
      "Use groupby to compare the survival rates of men and women"
     ]
    },
    {
     "cell_type": "code",
     "collapsed": false,
     "input": [
      "# think about it as subtotal\n",
      "#.sum(), .account(), mirar q mas hay\n",
      "data.groupby('Sex')['Survived'].mean()"
     ],
     "language": "python",
     "metadata": {},
     "outputs": [
      {
       "metadata": {},
       "output_type": "pyout",
       "prompt_number": 65,
       "text": [
        "Sex\n",
        "female    0.742038\n",
        "male      0.188908\n",
        "Name: Survived, dtype: float64"
       ]
      }
     ],
     "prompt_number": 65
    },
    {
     "cell_type": "markdown",
     "metadata": {},
     "source": [
      "Create a DataFrame with groupby and view the index"
     ]
    },
    {
     "cell_type": "code",
     "collapsed": false,
     "input": [
      "new=data.groupby('Sex')[['Survived','Age']].mean()\n",
      "print new.index"
     ],
     "language": "python",
     "metadata": {},
     "outputs": [
      {
       "output_type": "stream",
       "stream": "stdout",
       "text": [
        "Index([u'female', u'male'], dtype='object')\n"
       ]
      }
     ],
     "prompt_number": 66
    },
    {
     "cell_type": "markdown",
     "metadata": {},
     "source": [
      "Reset the index "
     ]
    },
    {
     "cell_type": "code",
     "collapsed": false,
     "input": [
      "new.reset_index(inplace=True)"
     ],
     "language": "python",
     "metadata": {},
     "outputs": [],
     "prompt_number": 69
    },
    {
     "cell_type": "markdown",
     "metadata": {},
     "source": [
      "View again"
     ]
    },
    {
     "cell_type": "code",
     "collapsed": false,
     "input": [
      "print new.index\n",
      "print new"
     ],
     "language": "python",
     "metadata": {},
     "outputs": [
      {
       "output_type": "stream",
       "stream": "stdout",
       "text": [
        "Int64Index([0, 1], dtype='int64')\n",
        "      Sex  Survived        Age\n",
        "0  female  0.742038  27.915709\n",
        "1    male  0.188908  30.726645\n"
       ]
      }
     ],
     "prompt_number": 70
    },
    {
     "cell_type": "markdown",
     "metadata": {},
     "source": [
      "## Exercises"
     ]
    },
    {
     "cell_type": "markdown",
     "metadata": {},
     "source": [
      "What was the average age of the survivors?"
     ]
    },
    {
     "cell_type": "code",
     "collapsed": false,
     "input": [
      "data.groupby('Survived')['Age'].mean()"
     ],
     "language": "python",
     "metadata": {},
     "outputs": [
      {
       "metadata": {},
       "output_type": "pyout",
       "prompt_number": 71,
       "text": [
        "Survived\n",
        "0           30.626179\n",
        "1           28.343690\n",
        "Name: Age, dtype: float64"
       ]
      }
     ],
     "prompt_number": 71
    },
    {
     "cell_type": "code",
     "collapsed": false,
     "input": [
      "print data.Age[(data.Survived==1)].mean()"
     ],
     "language": "python",
     "metadata": {},
     "outputs": [
      {
       "output_type": "stream",
       "stream": "stdout",
       "text": [
        "28.3436896552\n"
       ]
      }
     ],
     "prompt_number": 72
    },
    {
     "cell_type": "markdown",
     "metadata": {},
     "source": [
      "What was the survival rate of the children (age less than 18) and seniors (age greater than 60)?"
     ]
    },
    {
     "cell_type": "code",
     "collapsed": false,
     "input": [
      "print data.Survived[((data.Age<18) | (data.Age>60))].mean()"
     ],
     "language": "python",
     "metadata": {},
     "outputs": [
      {
       "output_type": "stream",
       "stream": "stdout",
       "text": [
        "0.488888888889\n"
       ]
      }
     ],
     "prompt_number": 74
    },
    {
     "cell_type": "markdown",
     "metadata": {},
     "source": [
      "Group by pClass and investigate average survival rate, age and fare"
     ]
    },
    {
     "cell_type": "code",
     "collapsed": false,
     "input": [
      "data.groupby('Pclass')[['Age','Survived','Fare']].mean()"
     ],
     "language": "python",
     "metadata": {},
     "outputs": [
      {
       "html": [
        "<div style=\"max-height:1000px;max-width:1500px;overflow:auto;\">\n",
        "<table border=\"1\" class=\"dataframe\">\n",
        "  <thead>\n",
        "    <tr style=\"text-align: right;\">\n",
        "      <th></th>\n",
        "      <th>Age</th>\n",
        "      <th>Survived</th>\n",
        "      <th>Fare</th>\n",
        "    </tr>\n",
        "    <tr>\n",
        "      <th>Pclass</th>\n",
        "      <th></th>\n",
        "      <th></th>\n",
        "      <th></th>\n",
        "    </tr>\n",
        "  </thead>\n",
        "  <tbody>\n",
        "    <tr>\n",
        "      <th>1</th>\n",
        "      <td> 38.233441</td>\n",
        "      <td> 0.629630</td>\n",
        "      <td> 84.154687</td>\n",
        "    </tr>\n",
        "    <tr>\n",
        "      <th>2</th>\n",
        "      <td> 29.877630</td>\n",
        "      <td> 0.472826</td>\n",
        "      <td> 20.662183</td>\n",
        "    </tr>\n",
        "    <tr>\n",
        "      <th>3</th>\n",
        "      <td> 25.140620</td>\n",
        "      <td> 0.242363</td>\n",
        "      <td> 13.675550</td>\n",
        "    </tr>\n",
        "  </tbody>\n",
        "</table>\n",
        "</div>"
       ],
       "metadata": {},
       "output_type": "pyout",
       "prompt_number": 85,
       "text": [
        "              Age  Survived       Fare\n",
        "Pclass                                \n",
        "1       38.233441  0.629630  84.154687\n",
        "2       29.877630  0.472826  20.662183\n",
        "3       25.140620  0.242363  13.675550"
       ]
      }
     ],
     "prompt_number": 85
    },
    {
     "cell_type": "markdown",
     "metadata": {},
     "source": [
      "Explore the date and discover an interesting insight"
     ]
    },
    {
     "cell_type": "code",
     "collapsed": false,
     "input": [
      "data.info()"
     ],
     "language": "python",
     "metadata": {},
     "outputs": [
      {
       "output_type": "stream",
       "stream": "stdout",
       "text": [
        "<class 'pandas.core.frame.DataFrame'>\n",
        "Int64Index: 891 entries, 0 to 890\n",
        "Data columns (total 12 columns):\n",
        "PassengerId    891 non-null int64\n",
        "Survived       891 non-null int64\n",
        "Pclass         891 non-null int64\n",
        "Name           891 non-null object\n",
        "Sex            891 non-null object\n",
        "Age            714 non-null float64\n",
        "SibSp          891 non-null int64\n",
        "Parch          891 non-null int64\n",
        "Ticket         891 non-null object\n",
        "Fare           891 non-null float64\n",
        "Cabin          204 non-null object\n",
        "Embarked       889 non-null object\n",
        "dtypes: float64(2), int64(5), object(5)"
       ]
      }
     ],
     "prompt_number": 76
    },
    {
     "cell_type": "code",
     "collapsed": false,
     "input": [
      "data.groupby('Parch')[['Age','Survived','Fare']].mean()"
     ],
     "language": "python",
     "metadata": {},
     "outputs": [
      {
       "html": [
        "<div style=\"max-height:1000px;max-width:1500px;overflow:auto;\">\n",
        "<table border=\"1\" class=\"dataframe\">\n",
        "  <thead>\n",
        "    <tr style=\"text-align: right;\">\n",
        "      <th></th>\n",
        "      <th>Age</th>\n",
        "      <th>Survived</th>\n",
        "      <th>Fare</th>\n",
        "    </tr>\n",
        "    <tr>\n",
        "      <th>Parch</th>\n",
        "      <th></th>\n",
        "      <th></th>\n",
        "      <th></th>\n",
        "    </tr>\n",
        "  </thead>\n",
        "  <tbody>\n",
        "    <tr>\n",
        "      <th>0</th>\n",
        "      <td> 32.178503</td>\n",
        "      <td> 0.343658</td>\n",
        "      <td> 25.586774</td>\n",
        "    </tr>\n",
        "    <tr>\n",
        "      <th>1</th>\n",
        "      <td> 24.422000</td>\n",
        "      <td> 0.550847</td>\n",
        "      <td> 46.778180</td>\n",
        "    </tr>\n",
        "    <tr>\n",
        "      <th>2</th>\n",
        "      <td> 17.216912</td>\n",
        "      <td> 0.500000</td>\n",
        "      <td> 64.337604</td>\n",
        "    </tr>\n",
        "    <tr>\n",
        "      <th>3</th>\n",
        "      <td> 33.200000</td>\n",
        "      <td> 0.600000</td>\n",
        "      <td> 25.951660</td>\n",
        "    </tr>\n",
        "    <tr>\n",
        "      <th>4</th>\n",
        "      <td> 44.500000</td>\n",
        "      <td> 0.000000</td>\n",
        "      <td> 84.968750</td>\n",
        "    </tr>\n",
        "    <tr>\n",
        "      <th>5</th>\n",
        "      <td> 39.200000</td>\n",
        "      <td> 0.200000</td>\n",
        "      <td> 32.550000</td>\n",
        "    </tr>\n",
        "    <tr>\n",
        "      <th>6</th>\n",
        "      <td> 43.000000</td>\n",
        "      <td> 0.000000</td>\n",
        "      <td> 46.900000</td>\n",
        "    </tr>\n",
        "  </tbody>\n",
        "</table>\n",
        "</div>"
       ],
       "metadata": {},
       "output_type": "pyout",
       "prompt_number": 84,
       "text": [
        "             Age  Survived       Fare\n",
        "Parch                                \n",
        "0      32.178503  0.343658  25.586774\n",
        "1      24.422000  0.550847  46.778180\n",
        "2      17.216912  0.500000  64.337604\n",
        "3      33.200000  0.600000  25.951660\n",
        "4      44.500000  0.000000  84.968750\n",
        "5      39.200000  0.200000  32.550000\n",
        "6      43.000000  0.000000  46.900000"
       ]
      }
     ],
     "prompt_number": 84
    },
    {
     "cell_type": "code",
     "collapsed": false,
     "input": [
      "print data.Survived[((data.Age<18) & (data.Sex=='female'))].mean()\n",
      "print data.Survived[((data.Age<18) & (data.Sex=='female') & (data.Pclass==1))].mean()\n",
      "print data.Survived[((data.Age<18) & (data.Sex=='female') & (data.Pclass==2))].mean()\n",
      "print data.Survived[((data.Age<18) & (data.Sex=='female') & (data.Pclass==2))].count()\n",
      "\n",
      "print data.Survived[((data.Age<18) & (data.Sex=='female') & (data.Pclass==3))].mean()\n",
      "\n",
      "print data.Survived[((data.Age<18) & (data.Sex=='male'))].mean()"
     ],
     "language": "python",
     "metadata": {},
     "outputs": [
      {
       "output_type": "stream",
       "stream": "stdout",
       "text": [
        "0.690909090909\n",
        "0.875\n",
        "1.0\n",
        "12\n",
        "0.542857142857\n",
        "0.396551724138\n"
       ]
      }
     ],
     "prompt_number": 83
    },
    {
     "cell_type": "code",
     "collapsed": false,
     "input": [],
     "language": "python",
     "metadata": {},
     "outputs": []
    }
   ],
   "metadata": {}
  }
 ]
}
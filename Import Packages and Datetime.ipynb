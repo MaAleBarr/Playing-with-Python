{
 "metadata": {
  "name": "",
  "signature": "sha256:721bb26fd2479f7d164691b2a1972a238d959373584cce3e02f63bbb9b3331b6"
 },
 "nbformat": 3,
 "nbformat_minor": 0,
 "worksheets": [
  {
   "cells": [
    {
     "cell_type": "markdown",
     "metadata": {},
     "source": [
      "  # Python for Data Science Bootcamp\n",
      "  ## Importing Packages in Python"
     ]
    },
    {
     "cell_type": "markdown",
     "metadata": {},
     "source": [
      "Let's import a package"
     ]
    },
    {
     "cell_type": "code",
     "collapsed": false,
     "input": [
      "import datetime"
     ],
     "language": "python",
     "metadata": {},
     "outputs": [],
     "prompt_number": 1
    },
    {
     "cell_type": "markdown",
     "metadata": {},
     "source": [
      "Use ipython magic to see function options. Type datetime. and press tab.  Highlight time and press enter.  Hit shift-tab"
     ]
    },
    {
     "cell_type": "code",
     "collapsed": false,
     "input": [
      "datetime.time"
     ],
     "language": "python",
     "metadata": {},
     "outputs": [
      {
       "metadata": {},
       "output_type": "pyout",
       "prompt_number": 3,
       "text": [
        "datetime.time"
       ]
      }
     ],
     "prompt_number": 3
    },
    {
     "cell_type": "markdown",
     "metadata": {},
     "source": [
      "Use a function from the datetime package"
     ]
    },
    {
     "cell_type": "code",
     "collapsed": false,
     "input": [
      "print datetime.time(1)"
     ],
     "language": "python",
     "metadata": {},
     "outputs": [
      {
       "output_type": "stream",
       "stream": "stdout",
       "text": [
        "01:00:00\n"
       ]
      }
     ],
     "prompt_number": 7
    },
    {
     "cell_type": "markdown",
     "metadata": {},
     "source": [
      "Import a package using a nickname"
     ]
    },
    {
     "cell_type": "code",
     "collapsed": false,
     "input": [
      "import datetime as dt"
     ],
     "language": "python",
     "metadata": {},
     "outputs": [],
     "prompt_number": 9
    },
    {
     "cell_type": "markdown",
     "metadata": {},
     "source": [
      "Call a function with the nickname"
     ]
    },
    {
     "cell_type": "code",
     "collapsed": false,
     "input": [
      "print dt.time(1)"
     ],
     "language": "python",
     "metadata": {},
     "outputs": [
      {
       "output_type": "stream",
       "stream": "stdout",
       "text": [
        "01:00:00\n"
       ]
      }
     ],
     "prompt_number": 10
    },
    {
     "cell_type": "markdown",
     "metadata": {},
     "source": [
      "Import a function from a package"
     ]
    },
    {
     "cell_type": "code",
     "collapsed": false,
     "input": [
      "from datetime import time"
     ],
     "language": "python",
     "metadata": {},
     "outputs": [],
     "prompt_number": 11
    },
    {
     "cell_type": "markdown",
     "metadata": {},
     "source": [
      "Directly call the time function"
     ]
    },
    {
     "cell_type": "code",
     "collapsed": false,
     "input": [
      "print time(1)"
     ],
     "language": "python",
     "metadata": {},
     "outputs": [
      {
       "output_type": "stream",
       "stream": "stdout",
       "text": [
        "01:00:00\n"
       ]
      }
     ],
     "prompt_number": 13
    },
    {
     "cell_type": "markdown",
     "metadata": {},
     "source": [
      "##Datetime Package"
     ]
    },
    {
     "cell_type": "markdown",
     "metadata": {},
     "source": [
      "Use the now function to get the current datetime stamp.   "
     ]
    },
    {
     "cell_type": "code",
     "collapsed": false,
     "input": [
      "# great for time stamps, to estimate run times, etc.\n",
      "# great for log time stamp, etc\n",
      "ts_now=dt.datetime.now()\n",
      "print ts_now"
     ],
     "language": "python",
     "metadata": {},
     "outputs": [
      {
       "output_type": "stream",
       "stream": "stdout",
       "text": [
        "2015-02-07 16:16:37.403507\n"
       ]
      }
     ],
     "prompt_number": 15
    },
    {
     "cell_type": "markdown",
     "metadata": {},
     "source": [
      "Extract the day from the timestamp"
     ]
    },
    {
     "cell_type": "code",
     "collapsed": false,
     "input": [
      "print ts_now.day"
     ],
     "language": "python",
     "metadata": {},
     "outputs": [
      {
       "output_type": "stream",
       "stream": "stdout",
       "text": [
        "7\n"
       ]
      }
     ],
     "prompt_number": 16
    },
    {
     "cell_type": "markdown",
     "metadata": {},
     "source": [
      "Extract some other datetime elements"
     ]
    },
    {
     "cell_type": "code",
     "collapsed": false,
     "input": [
      "print ts_now.year\n",
      "print ts_now.month\n",
      "print ts_now.minute\n",
      "print ts_now.second"
     ],
     "language": "python",
     "metadata": {},
     "outputs": [
      {
       "output_type": "stream",
       "stream": "stdout",
       "text": [
        "2015\n",
        "2\n",
        "16\n",
        "37\n"
       ]
      }
     ],
     "prompt_number": 17
    },
    {
     "cell_type": "markdown",
     "metadata": {},
     "source": [
      "Create a timestamp for tomorrow"
     ]
    },
    {
     "cell_type": "code",
     "collapsed": false,
     "input": [
      "ts_tomorrow=dt.datetime(2015, 2, 8)\n",
      "print ts_tomorrow"
     ],
     "language": "python",
     "metadata": {},
     "outputs": [
      {
       "output_type": "stream",
       "stream": "stdout",
       "text": [
        "2015-02-08 00:00:00\n"
       ]
      }
     ],
     "prompt_number": 21
    },
    {
     "cell_type": "code",
     "collapsed": false,
     "input": [
      "ts_tomottow=dt.datetime(2015,2,8,16, 21)\n",
      "print ts_tomorrow"
     ],
     "language": "python",
     "metadata": {},
     "outputs": [
      {
       "output_type": "stream",
       "stream": "stdout",
       "text": [
        "2015-02-08 00:00:00\n"
       ]
      }
     ],
     "prompt_number": 24
    },
    {
     "cell_type": "code",
     "collapsed": false,
     "input": [
      "ts_tomottow=dt.datetime(month=2,year=2015,day=8,hour=16,minute=21)\n",
      "print ts_tomorrow"
     ],
     "language": "python",
     "metadata": {},
     "outputs": [
      {
       "output_type": "stream",
       "stream": "stdout",
       "text": [
        "2015-02-08 00:00:00\n"
       ]
      }
     ],
     "prompt_number": 27
    },
    {
     "cell_type": "markdown",
     "metadata": {},
     "source": [
      "Do math with the timestamps"
     ]
    },
    {
     "cell_type": "code",
     "collapsed": false,
     "input": [
      "ts_diff=ts_tomorrow-ts_now\n",
      "print ts_diff\n",
      "print type(ts_diff)"
     ],
     "language": "python",
     "metadata": {},
     "outputs": [
      {
       "output_type": "stream",
       "stream": "stdout",
       "text": [
        "7:43:22.596493\n",
        "<type 'datetime.timedelta'>\n"
       ]
      }
     ],
     "prompt_number": 28
    },
    {
     "cell_type": "code",
     "collapsed": false,
     "input": [],
     "language": "python",
     "metadata": {},
     "outputs": [],
     "prompt_number": 56
    },
    {
     "cell_type": "markdown",
     "metadata": {},
     "source": [
      "Convert a string to datetime format"
     ]
    },
    {
     "cell_type": "code",
     "collapsed": false,
     "input": [
      "# format for output is case sensitive, ojo\n",
      "# mirar strptime documentation... hay mas opciones\n",
      "date_str=\"01-10-2015\"\n",
      "date_ts=dt.datetime.strptime(date_str,\"%m-%d-%Y\")\n",
      "print date_ts\n",
      "print type(date_ts)\n",
      "# note this is differnt data type than above example"
     ],
     "language": "python",
     "metadata": {},
     "outputs": [
      {
       "output_type": "stream",
       "stream": "stdout",
       "text": [
        "2015-01-10 00:00:00\n",
        "<type 'datetime.datetime'>\n"
       ]
      }
     ],
     "prompt_number": 32
    },
    {
     "cell_type": "markdown",
     "metadata": {},
     "source": [
      "Convert a datetime object to a string"
     ]
    },
    {
     "cell_type": "code",
     "collapsed": false,
     "input": [
      "new_date_str=dt.datetime.strftime(date_ts, \"%H:%M:%S %m-%d-%Y\")\n",
      "print new_date_str"
     ],
     "language": "python",
     "metadata": {},
     "outputs": [
      {
       "output_type": "stream",
       "stream": "stdout",
       "text": [
        "00:00:00 01-10-2015\n"
       ]
      }
     ],
     "prompt_number": 33
    },
    {
     "cell_type": "markdown",
     "metadata": {},
     "source": [
      "### Exercises"
     ]
    },
    {
     "cell_type": "markdown",
     "metadata": {},
     "source": [
      "Create a variable called future with a dateime value of January 15, 2015 at 5:30pm"
     ]
    },
    {
     "cell_type": "code",
     "collapsed": false,
     "input": [
      "future=dt.datetime(2015,2,28,15, 30)\n",
      "print future\n",
      "print ts_now"
     ],
     "language": "python",
     "metadata": {},
     "outputs": [
      {
       "output_type": "stream",
       "stream": "stdout",
       "text": [
        "2015-02-28 15:30:00\n",
        "2015-02-07 16:16:37.403507\n"
       ]
      }
     ],
     "prompt_number": 38
    },
    {
     "cell_type": "markdown",
     "metadata": {},
     "source": [
      "Create a variable with a timedelta equal to the difference between future and now"
     ]
    },
    {
     "cell_type": "code",
     "collapsed": false,
     "input": [
      "tdel=future-ts_now\n",
      "print tdel\n",
      "print type(tdel)"
     ],
     "language": "python",
     "metadata": {},
     "outputs": [
      {
       "output_type": "stream",
       "stream": "stdout",
       "text": [
        "20 days, 23:13:22.596493\n",
        "<type 'datetime.timedelta'>\n"
       ]
      }
     ],
     "prompt_number": 42
    },
    {
     "cell_type": "markdown",
     "metadata": {},
     "source": [
      "Print the number of seconds from the timedelta"
     ]
    },
    {
     "cell_type": "code",
     "collapsed": false,
     "input": [
      "print tdel.seconds"
     ],
     "language": "python",
     "metadata": {},
     "outputs": [
      {
       "output_type": "stream",
       "stream": "stdout",
       "text": [
        "83602\n"
       ]
      }
     ],
     "prompt_number": 43
    },
    {
     "cell_type": "code",
     "collapsed": false,
     "input": [
      "print tdel.min"
     ],
     "language": "python",
     "metadata": {},
     "outputs": [
      {
       "output_type": "stream",
       "stream": "stdout",
       "text": [
        "-999999999 days, 0:00:00\n"
       ]
      }
     ],
     "prompt_number": 59
    },
    {
     "cell_type": "markdown",
     "metadata": {},
     "source": [
      "#### Bonus: \n",
      "Try converting strings to datetime objects and datetime objects back to strings.  What are some interesting datetime formats you can find in the documentation?"
     ]
    },
    {
     "cell_type": "code",
     "collapsed": false,
     "input": [
      "# change to string with particular format\n",
      "print type(future)\n",
      "print dt.datetime.strftime(future, \"%a %d %b %Y\")\n",
      "print dt.datetime.strftime(future, \"%A %d %B %Y\")\n",
      "test1=dt.datetime.strftime(future, \"%A %d %B %Y, %I:%M %p\")\n",
      "print test1\n",
      "print type(test1)"
     ],
     "language": "python",
     "metadata": {},
     "outputs": [
      {
       "output_type": "stream",
       "stream": "stdout",
       "text": [
        "<type 'datetime.datetime'>\n",
        "Sat 28 Feb 2015\n",
        "Saturday 28 February 2015\n",
        "Saturday 28 February 2015, 03:30 PM\n",
        "<type 'str'>\n"
       ]
      }
     ],
     "prompt_number": 57
    },
    {
     "cell_type": "code",
     "collapsed": false,
     "input": [],
     "language": "python",
     "metadata": {},
     "outputs": []
    }
   ],
   "metadata": {}
  }
 ]
}